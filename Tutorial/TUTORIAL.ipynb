{
 "cells": [
  {
   "cell_type": "markdown",
   "metadata": {
    "slideshow": {
     "slide_type": "skip"
    }
   },
   "source": [
    "# <font color='red'> Atenção </font>\n",
    "\n",
    "Para ver este notebook como slideshow:\n",
    "\n",
    "* Instale o plug-in de slideshow usando o terminal: `conda install -c damianavila82 rise`\n",
    "\n",
    "* Execute o Jupyter\n",
    "\n",
    "* Veja os slides usando o botão do *reveal* que vai aparecer na barra de ferramentas\n",
    "\n",
    "![Botão Reveal](botao_reveal.png)\n",
    "\n",
    "\n"
   ]
  },
  {
   "cell_type": "markdown",
   "metadata": {
    "slideshow": {
     "slide_type": "slide"
    }
   },
   "source": [
    "# Primeiro contato com o Pandas\n",
    "\n",
    "\n",
    "Referências para esta atividade:\n",
    "\n",
    "[10 Minutes to Pandas](http://pandas.pydata.org/pandas-docs/stable/10min.html) - *Leiam este tutorial*\n",
    "\n",
    "[Pandas Cookbook](http://pandas.pydata.org/pandas-docs/stable/tutorials.html) - Referência de consulta absoluta de pandas\n",
    "\n"
   ]
  },
  {
   "cell_type": "markdown",
   "metadata": {
    "slideshow": {
     "slide_type": "slide"
    }
   },
   "source": [
    "## Usando o pandas\n",
    "\n",
    "Tipicamente o *pandas* é renomeado como *pd* da forma:\n",
    "\n",
    "    import pandas as pd\n",
    "\n",
    "ou se faz:\n",
    "\n",
    "    from pandas import *"
   ]
  },
  {
   "cell_type": "code",
   "execution_count": 1,
   "metadata": {
    "collapsed": true,
    "slideshow": {
     "slide_type": "fragment"
    }
   },
   "outputs": [],
   "source": [
    "import pandas as pd"
   ]
  },
  {
   "cell_type": "markdown",
   "metadata": {
    "slideshow": {
     "slide_type": "skip"
    }
   },
   "source": [
    "## Verificando versão do pandas"
   ]
  },
  {
   "cell_type": "markdown",
   "metadata": {
    "slideshow": {
     "slide_type": "fragment"
    }
   },
   "source": [
    "É sempre útil saber sua versão do pandas, porque ele evolui muito rapidamente e isso ajuda a resolver possíveus incompatibilidades!!\n",
    "\n",
    "Para isso, use o comando:\n",
    "\n",
    "  "
   ]
  },
  {
   "cell_type": "code",
   "execution_count": 2,
   "metadata": {
    "collapsed": false,
    "slideshow": {
     "slide_type": "fragment"
    }
   },
   "outputs": [
    {
     "data": {
      "text/plain": [
       "'0.18.1'"
      ]
     },
     "execution_count": 2,
     "metadata": {},
     "output_type": "execute_result"
    }
   ],
   "source": [
    "pd.__version__"
   ]
  },
  {
   "cell_type": "markdown",
   "metadata": {
    "slideshow": {
     "slide_type": "slide"
    }
   },
   "source": [
    "## Para abrir módulos gráficos, como já viram em outra disciplina"
   ]
  },
  {
   "cell_type": "code",
   "execution_count": 3,
   "metadata": {
    "collapsed": false,
    "slideshow": {
     "slide_type": "fragment"
    }
   },
   "outputs": [],
   "source": [
    "%matplotlib inline\n",
    "import matplotlib.pyplot as plt\n",
    "import matplotlib\n"
   ]
  },
  {
   "cell_type": "markdown",
   "metadata": {
    "slideshow": {
     "slide_type": "slide"
    }
   },
   "source": [
    "# Diretórios"
   ]
  },
  {
   "cell_type": "markdown",
   "metadata": {
    "slideshow": {
     "slide_type": "fragment"
    }
   },
   "source": [
    "Caso a base de dados (arquivo xlsx, por exemplo) e o seu Python Notebook (este arquivo) estejam em diretórios diferentes, então será necessário definir o `path`. Se esse for o caso, basta retirar o síbolo # de comentários nas três linhas abaixo.\n",
    "\n",
    "Lembre-se de que o nome do arquivo não faz parte da pasta."
   ]
  },
  {
   "cell_type": "code",
   "execution_count": 4,
   "metadata": {
    "collapsed": true,
    "slideshow": {
     "slide_type": "fragment"
    }
   },
   "outputs": [],
   "source": [
    "#import os\n",
    "#meu_diretorio = \"/Users/usuario/MeuDiretorio\"\n",
    "#os.chdir(meu_diretorio)"
   ]
  },
  {
   "cell_type": "markdown",
   "metadata": {
    "slideshow": {
     "slide_type": "slide"
    }
   },
   "source": [
    "# Diretórios"
   ]
  },
  {
   "cell_type": "markdown",
   "metadata": {
    "slideshow": {
     "slide_type": "fragment"
    }
   },
   "source": [
    "Caso queira saber qual diretório está o arquivo Python Notebbok, use a forma abaixo"
   ]
  },
  {
   "cell_type": "code",
   "execution_count": 5,
   "metadata": {
    "collapsed": false,
    "slideshow": {
     "slide_type": "fragment"
    }
   },
   "outputs": [
    {
     "name": "stdout",
     "output_type": "stream",
     "text": [
      "Esperamos trabalhar no diretório\n",
      "C:\\Users\\Kelly_2\\Dropbox\\Insper Aulas\\DataScience DP\\2017.1\\Aulas\\Aula02 - Variáveis Qualitativas\n"
     ]
    }
   ],
   "source": [
    "import os\n",
    "print('Esperamos trabalhar no diretório')\n",
    "print(os.getcwd())"
   ]
  },
  {
   "cell_type": "markdown",
   "metadata": {
    "slideshow": {
     "slide_type": "skip"
    }
   },
   "source": [
    "Existem muitas outras formas de importar e exportar dados, veja o Pandas Cookbook"
   ]
  },
  {
   "cell_type": "markdown",
   "metadata": {
    "slideshow": {
     "slide_type": "slide"
    }
   },
   "source": [
    "# Leituras de arquivos "
   ]
  },
  {
   "cell_type": "markdown",
   "metadata": {
    "slideshow": {
     "slide_type": "fragment"
    }
   },
   "source": [
    "## Arquivos em Excel\n",
    "\n",
    "## <font color='blue'>Base de dados Bank Loan</font>"
   ]
  },
  {
   "cell_type": "code",
   "execution_count": 6,
   "metadata": {
    "collapsed": true,
    "slideshow": {
     "slide_type": "fragment"
    }
   },
   "outputs": [],
   "source": [
    "dados = pd.read_excel('BankLoan.xlsx')"
   ]
  },
  {
   "cell_type": "markdown",
   "metadata": {
    "slideshow": {
     "slide_type": "fragment"
    }
   },
   "source": [
    "## Outros tipos de arquivos\n",
    "\n",
    "Arquivos em formato txt ou csv podem ser lidos com o `read_table`. Inclusive arquivos comprimidos.\n",
    "\n",
    "Por exemplo, para ler um arquivo csv com separador ',' e com caracteres de Windows em Português fazemos:\n",
    "\n",
    "    notas = pd.read_table(\"dados.csv\", encoding=\"windows-1252\", sep=\",\")\n",
    "\n"
   ]
  },
  {
   "cell_type": "markdown",
   "metadata": {
    "collapsed": true,
    "slideshow": {
     "slide_type": "slide"
    }
   },
   "source": [
    "# Apresentando os dados de um DataFrame"
   ]
  },
  {
   "cell_type": "code",
   "execution_count": 7,
   "metadata": {
    "collapsed": false,
    "scrolled": true,
    "slideshow": {
     "slide_type": "fragment"
    }
   },
   "outputs": [
    {
     "data": {
      "text/html": [
       "<div>\n",
       "<table border=\"1\" class=\"dataframe\">\n",
       "  <thead>\n",
       "    <tr style=\"text-align: right;\">\n",
       "      <th></th>\n",
       "      <th>ID</th>\n",
       "      <th>IDADE</th>\n",
       "      <th>EDUCACAO</th>\n",
       "      <th>TEMPO_EMP</th>\n",
       "      <th>TEMPO_END</th>\n",
       "      <th>RENDA</th>\n",
       "      <th>DIVIDA_CC</th>\n",
       "      <th>OUTRAS_DIV</th>\n",
       "      <th>GRAU_ENDIV</th>\n",
       "      <th>DEFAULT</th>\n",
       "    </tr>\n",
       "  </thead>\n",
       "  <tbody>\n",
       "    <tr>\n",
       "      <th>0</th>\n",
       "      <td>1</td>\n",
       "      <td>41</td>\n",
       "      <td>3</td>\n",
       "      <td>18</td>\n",
       "      <td>7</td>\n",
       "      <td>176</td>\n",
       "      <td>11.359392</td>\n",
       "      <td>5.008608</td>\n",
       "      <td>10.3</td>\n",
       "      <td>1</td>\n",
       "    </tr>\n",
       "    <tr>\n",
       "      <th>1</th>\n",
       "      <td>2</td>\n",
       "      <td>27</td>\n",
       "      <td>1</td>\n",
       "      <td>10</td>\n",
       "      <td>6</td>\n",
       "      <td>31</td>\n",
       "      <td>1.362202</td>\n",
       "      <td>4.000798</td>\n",
       "      <td>17.3</td>\n",
       "      <td>0</td>\n",
       "    </tr>\n",
       "    <tr>\n",
       "      <th>2</th>\n",
       "      <td>3</td>\n",
       "      <td>40</td>\n",
       "      <td>1</td>\n",
       "      <td>15</td>\n",
       "      <td>14</td>\n",
       "      <td>55</td>\n",
       "      <td>0.856075</td>\n",
       "      <td>2.168925</td>\n",
       "      <td>5.5</td>\n",
       "      <td>0</td>\n",
       "    </tr>\n",
       "    <tr>\n",
       "      <th>3</th>\n",
       "      <td>4</td>\n",
       "      <td>41</td>\n",
       "      <td>1</td>\n",
       "      <td>15</td>\n",
       "      <td>14</td>\n",
       "      <td>120</td>\n",
       "      <td>2.658720</td>\n",
       "      <td>0.821280</td>\n",
       "      <td>2.9</td>\n",
       "      <td>0</td>\n",
       "    </tr>\n",
       "    <tr>\n",
       "      <th>4</th>\n",
       "      <td>5</td>\n",
       "      <td>24</td>\n",
       "      <td>2</td>\n",
       "      <td>2</td>\n",
       "      <td>0</td>\n",
       "      <td>28</td>\n",
       "      <td>1.787436</td>\n",
       "      <td>3.056564</td>\n",
       "      <td>17.3</td>\n",
       "      <td>1</td>\n",
       "    </tr>\n",
       "    <tr>\n",
       "      <th>5</th>\n",
       "      <td>6</td>\n",
       "      <td>41</td>\n",
       "      <td>2</td>\n",
       "      <td>5</td>\n",
       "      <td>5</td>\n",
       "      <td>25</td>\n",
       "      <td>0.392700</td>\n",
       "      <td>2.157300</td>\n",
       "      <td>10.2</td>\n",
       "      <td>0</td>\n",
       "    </tr>\n",
       "    <tr>\n",
       "      <th>6</th>\n",
       "      <td>7</td>\n",
       "      <td>39</td>\n",
       "      <td>1</td>\n",
       "      <td>20</td>\n",
       "      <td>9</td>\n",
       "      <td>67</td>\n",
       "      <td>3.833874</td>\n",
       "      <td>16.668126</td>\n",
       "      <td>30.6</td>\n",
       "      <td>0</td>\n",
       "    </tr>\n",
       "    <tr>\n",
       "      <th>7</th>\n",
       "      <td>8</td>\n",
       "      <td>43</td>\n",
       "      <td>1</td>\n",
       "      <td>12</td>\n",
       "      <td>11</td>\n",
       "      <td>38</td>\n",
       "      <td>0.128592</td>\n",
       "      <td>1.239408</td>\n",
       "      <td>3.6</td>\n",
       "      <td>0</td>\n",
       "    </tr>\n",
       "    <tr>\n",
       "      <th>8</th>\n",
       "      <td>9</td>\n",
       "      <td>24</td>\n",
       "      <td>1</td>\n",
       "      <td>3</td>\n",
       "      <td>4</td>\n",
       "      <td>19</td>\n",
       "      <td>1.358348</td>\n",
       "      <td>3.277652</td>\n",
       "      <td>24.4</td>\n",
       "      <td>1</td>\n",
       "    </tr>\n",
       "    <tr>\n",
       "      <th>9</th>\n",
       "      <td>10</td>\n",
       "      <td>36</td>\n",
       "      <td>1</td>\n",
       "      <td>0</td>\n",
       "      <td>13</td>\n",
       "      <td>25</td>\n",
       "      <td>2.777700</td>\n",
       "      <td>2.147300</td>\n",
       "      <td>19.7</td>\n",
       "      <td>0</td>\n",
       "    </tr>\n",
       "    <tr>\n",
       "      <th>10</th>\n",
       "      <td>11</td>\n",
       "      <td>27</td>\n",
       "      <td>1</td>\n",
       "      <td>0</td>\n",
       "      <td>1</td>\n",
       "      <td>16</td>\n",
       "      <td>0.182512</td>\n",
       "      <td>0.089488</td>\n",
       "      <td>1.7</td>\n",
       "      <td>0</td>\n",
       "    </tr>\n",
       "    <tr>\n",
       "      <th>11</th>\n",
       "      <td>12</td>\n",
       "      <td>25</td>\n",
       "      <td>1</td>\n",
       "      <td>4</td>\n",
       "      <td>0</td>\n",
       "      <td>23</td>\n",
       "      <td>0.252356</td>\n",
       "      <td>0.943644</td>\n",
       "      <td>5.2</td>\n",
       "      <td>0</td>\n",
       "    </tr>\n",
       "    <tr>\n",
       "      <th>12</th>\n",
       "      <td>13</td>\n",
       "      <td>52</td>\n",
       "      <td>1</td>\n",
       "      <td>24</td>\n",
       "      <td>14</td>\n",
       "      <td>64</td>\n",
       "      <td>3.929600</td>\n",
       "      <td>2.470400</td>\n",
       "      <td>10.0</td>\n",
       "      <td>0</td>\n",
       "    </tr>\n",
       "    <tr>\n",
       "      <th>13</th>\n",
       "      <td>14</td>\n",
       "      <td>37</td>\n",
       "      <td>1</td>\n",
       "      <td>6</td>\n",
       "      <td>9</td>\n",
       "      <td>29</td>\n",
       "      <td>1.715901</td>\n",
       "      <td>3.011099</td>\n",
       "      <td>16.3</td>\n",
       "      <td>0</td>\n",
       "    </tr>\n",
       "    <tr>\n",
       "      <th>14</th>\n",
       "      <td>15</td>\n",
       "      <td>48</td>\n",
       "      <td>1</td>\n",
       "      <td>22</td>\n",
       "      <td>15</td>\n",
       "      <td>100</td>\n",
       "      <td>3.703700</td>\n",
       "      <td>5.396300</td>\n",
       "      <td>9.1</td>\n",
       "      <td>0</td>\n",
       "    </tr>\n",
       "    <tr>\n",
       "      <th>15</th>\n",
       "      <td>16</td>\n",
       "      <td>36</td>\n",
       "      <td>2</td>\n",
       "      <td>10</td>\n",
       "      <td>7</td>\n",
       "      <td>49</td>\n",
       "      <td>0.817516</td>\n",
       "      <td>3.396484</td>\n",
       "      <td>8.6</td>\n",
       "      <td>1</td>\n",
       "    </tr>\n",
       "    <tr>\n",
       "      <th>16</th>\n",
       "      <td>17</td>\n",
       "      <td>36</td>\n",
       "      <td>2</td>\n",
       "      <td>13</td>\n",
       "      <td>6</td>\n",
       "      <td>41</td>\n",
       "      <td>2.918216</td>\n",
       "      <td>3.805784</td>\n",
       "      <td>16.4</td>\n",
       "      <td>1</td>\n",
       "    </tr>\n",
       "    <tr>\n",
       "      <th>17</th>\n",
       "      <td>18</td>\n",
       "      <td>43</td>\n",
       "      <td>1</td>\n",
       "      <td>23</td>\n",
       "      <td>19</td>\n",
       "      <td>72</td>\n",
       "      <td>1.181952</td>\n",
       "      <td>4.290048</td>\n",
       "      <td>7.6</td>\n",
       "      <td>0</td>\n",
       "    </tr>\n",
       "    <tr>\n",
       "      <th>18</th>\n",
       "      <td>19</td>\n",
       "      <td>39</td>\n",
       "      <td>1</td>\n",
       "      <td>6</td>\n",
       "      <td>9</td>\n",
       "      <td>61</td>\n",
       "      <td>0.563274</td>\n",
       "      <td>2.913726</td>\n",
       "      <td>5.7</td>\n",
       "      <td>0</td>\n",
       "    </tr>\n",
       "    <tr>\n",
       "      <th>19</th>\n",
       "      <td>20</td>\n",
       "      <td>41</td>\n",
       "      <td>3</td>\n",
       "      <td>0</td>\n",
       "      <td>21</td>\n",
       "      <td>26</td>\n",
       "      <td>0.099008</td>\n",
       "      <td>0.342992</td>\n",
       "      <td>1.7</td>\n",
       "      <td>0</td>\n",
       "    </tr>\n",
       "    <tr>\n",
       "      <th>20</th>\n",
       "      <td>21</td>\n",
       "      <td>39</td>\n",
       "      <td>1</td>\n",
       "      <td>22</td>\n",
       "      <td>3</td>\n",
       "      <td>52</td>\n",
       "      <td>1.154816</td>\n",
       "      <td>0.509184</td>\n",
       "      <td>3.2</td>\n",
       "      <td>0</td>\n",
       "    </tr>\n",
       "    <tr>\n",
       "      <th>21</th>\n",
       "      <td>22</td>\n",
       "      <td>47</td>\n",
       "      <td>1</td>\n",
       "      <td>17</td>\n",
       "      <td>21</td>\n",
       "      <td>43</td>\n",
       "      <td>0.587552</td>\n",
       "      <td>1.820448</td>\n",
       "      <td>5.6</td>\n",
       "      <td>0</td>\n",
       "    </tr>\n",
       "    <tr>\n",
       "      <th>22</th>\n",
       "      <td>23</td>\n",
       "      <td>28</td>\n",
       "      <td>1</td>\n",
       "      <td>3</td>\n",
       "      <td>6</td>\n",
       "      <td>26</td>\n",
       "      <td>0.431600</td>\n",
       "      <td>2.168400</td>\n",
       "      <td>10.0</td>\n",
       "      <td>0</td>\n",
       "    </tr>\n",
       "    <tr>\n",
       "      <th>23</th>\n",
       "      <td>24</td>\n",
       "      <td>29</td>\n",
       "      <td>1</td>\n",
       "      <td>8</td>\n",
       "      <td>6</td>\n",
       "      <td>27</td>\n",
       "      <td>0.402192</td>\n",
       "      <td>2.243808</td>\n",
       "      <td>9.8</td>\n",
       "      <td>0</td>\n",
       "    </tr>\n",
       "    <tr>\n",
       "      <th>24</th>\n",
       "      <td>25</td>\n",
       "      <td>21</td>\n",
       "      <td>2</td>\n",
       "      <td>1</td>\n",
       "      <td>2</td>\n",
       "      <td>16</td>\n",
       "      <td>0.241920</td>\n",
       "      <td>2.638080</td>\n",
       "      <td>18.0</td>\n",
       "      <td>1</td>\n",
       "    </tr>\n",
       "    <tr>\n",
       "      <th>25</th>\n",
       "      <td>26</td>\n",
       "      <td>25</td>\n",
       "      <td>4</td>\n",
       "      <td>0</td>\n",
       "      <td>2</td>\n",
       "      <td>32</td>\n",
       "      <td>2.140160</td>\n",
       "      <td>3.491840</td>\n",
       "      <td>17.6</td>\n",
       "      <td>0</td>\n",
       "    </tr>\n",
       "    <tr>\n",
       "      <th>26</th>\n",
       "      <td>27</td>\n",
       "      <td>45</td>\n",
       "      <td>2</td>\n",
       "      <td>10</td>\n",
       "      <td>27</td>\n",
       "      <td>69</td>\n",
       "      <td>0.707319</td>\n",
       "      <td>3.915681</td>\n",
       "      <td>6.7</td>\n",
       "      <td>0</td>\n",
       "    </tr>\n",
       "    <tr>\n",
       "      <th>27</th>\n",
       "      <td>28</td>\n",
       "      <td>43</td>\n",
       "      <td>1</td>\n",
       "      <td>25</td>\n",
       "      <td>21</td>\n",
       "      <td>64</td>\n",
       "      <td>0.951232</td>\n",
       "      <td>9.736768</td>\n",
       "      <td>16.7</td>\n",
       "      <td>0</td>\n",
       "    </tr>\n",
       "    <tr>\n",
       "      <th>28</th>\n",
       "      <td>29</td>\n",
       "      <td>33</td>\n",
       "      <td>2</td>\n",
       "      <td>12</td>\n",
       "      <td>8</td>\n",
       "      <td>58</td>\n",
       "      <td>3.084208</td>\n",
       "      <td>7.587792</td>\n",
       "      <td>18.4</td>\n",
       "      <td>0</td>\n",
       "    </tr>\n",
       "    <tr>\n",
       "      <th>29</th>\n",
       "      <td>30</td>\n",
       "      <td>26</td>\n",
       "      <td>3</td>\n",
       "      <td>2</td>\n",
       "      <td>1</td>\n",
       "      <td>37</td>\n",
       "      <td>0.204906</td>\n",
       "      <td>5.049094</td>\n",
       "      <td>14.2</td>\n",
       "      <td>0</td>\n",
       "    </tr>\n",
       "    <tr>\n",
       "      <th>...</th>\n",
       "      <td>...</td>\n",
       "      <td>...</td>\n",
       "      <td>...</td>\n",
       "      <td>...</td>\n",
       "      <td>...</td>\n",
       "      <td>...</td>\n",
       "      <td>...</td>\n",
       "      <td>...</td>\n",
       "      <td>...</td>\n",
       "      <td>...</td>\n",
       "    </tr>\n",
       "    <tr>\n",
       "      <th>470</th>\n",
       "      <td>471</td>\n",
       "      <td>29</td>\n",
       "      <td>1</td>\n",
       "      <td>7</td>\n",
       "      <td>5</td>\n",
       "      <td>20</td>\n",
       "      <td>1.005840</td>\n",
       "      <td>2.954160</td>\n",
       "      <td>19.8</td>\n",
       "      <td>1</td>\n",
       "    </tr>\n",
       "    <tr>\n",
       "      <th>471</th>\n",
       "      <td>472</td>\n",
       "      <td>24</td>\n",
       "      <td>4</td>\n",
       "      <td>0</td>\n",
       "      <td>3</td>\n",
       "      <td>29</td>\n",
       "      <td>0.589512</td>\n",
       "      <td>1.324488</td>\n",
       "      <td>6.6</td>\n",
       "      <td>1</td>\n",
       "    </tr>\n",
       "    <tr>\n",
       "      <th>472</th>\n",
       "      <td>473</td>\n",
       "      <td>44</td>\n",
       "      <td>1</td>\n",
       "      <td>12</td>\n",
       "      <td>3</td>\n",
       "      <td>31</td>\n",
       "      <td>0.357833</td>\n",
       "      <td>2.649167</td>\n",
       "      <td>9.7</td>\n",
       "      <td>0</td>\n",
       "    </tr>\n",
       "    <tr>\n",
       "      <th>473</th>\n",
       "      <td>474</td>\n",
       "      <td>22</td>\n",
       "      <td>1</td>\n",
       "      <td>1</td>\n",
       "      <td>0</td>\n",
       "      <td>18</td>\n",
       "      <td>0.270072</td>\n",
       "      <td>0.521928</td>\n",
       "      <td>4.4</td>\n",
       "      <td>0</td>\n",
       "    </tr>\n",
       "    <tr>\n",
       "      <th>474</th>\n",
       "      <td>475</td>\n",
       "      <td>38</td>\n",
       "      <td>2</td>\n",
       "      <td>13</td>\n",
       "      <td>0</td>\n",
       "      <td>59</td>\n",
       "      <td>0.407808</td>\n",
       "      <td>1.008192</td>\n",
       "      <td>2.4</td>\n",
       "      <td>0</td>\n",
       "    </tr>\n",
       "    <tr>\n",
       "      <th>475</th>\n",
       "      <td>476</td>\n",
       "      <td>52</td>\n",
       "      <td>2</td>\n",
       "      <td>12</td>\n",
       "      <td>16</td>\n",
       "      <td>76</td>\n",
       "      <td>0.994840</td>\n",
       "      <td>4.857160</td>\n",
       "      <td>7.7</td>\n",
       "      <td>0</td>\n",
       "    </tr>\n",
       "    <tr>\n",
       "      <th>476</th>\n",
       "      <td>477</td>\n",
       "      <td>25</td>\n",
       "      <td>1</td>\n",
       "      <td>3</td>\n",
       "      <td>2</td>\n",
       "      <td>18</td>\n",
       "      <td>0.352080</td>\n",
       "      <td>2.581920</td>\n",
       "      <td>16.3</td>\n",
       "      <td>1</td>\n",
       "    </tr>\n",
       "    <tr>\n",
       "      <th>477</th>\n",
       "      <td>478</td>\n",
       "      <td>25</td>\n",
       "      <td>1</td>\n",
       "      <td>5</td>\n",
       "      <td>5</td>\n",
       "      <td>22</td>\n",
       "      <td>0.402864</td>\n",
       "      <td>1.995136</td>\n",
       "      <td>10.9</td>\n",
       "      <td>0</td>\n",
       "    </tr>\n",
       "    <tr>\n",
       "      <th>478</th>\n",
       "      <td>479</td>\n",
       "      <td>51</td>\n",
       "      <td>2</td>\n",
       "      <td>27</td>\n",
       "      <td>21</td>\n",
       "      <td>166</td>\n",
       "      <td>0.820870</td>\n",
       "      <td>18.269130</td>\n",
       "      <td>11.5</td>\n",
       "      <td>0</td>\n",
       "    </tr>\n",
       "    <tr>\n",
       "      <th>479</th>\n",
       "      <td>480</td>\n",
       "      <td>38</td>\n",
       "      <td>1</td>\n",
       "      <td>21</td>\n",
       "      <td>16</td>\n",
       "      <td>58</td>\n",
       "      <td>4.584030</td>\n",
       "      <td>4.985970</td>\n",
       "      <td>16.5</td>\n",
       "      <td>0</td>\n",
       "    </tr>\n",
       "    <tr>\n",
       "      <th>480</th>\n",
       "      <td>481</td>\n",
       "      <td>44</td>\n",
       "      <td>1</td>\n",
       "      <td>9</td>\n",
       "      <td>20</td>\n",
       "      <td>33</td>\n",
       "      <td>0.545688</td>\n",
       "      <td>1.170312</td>\n",
       "      <td>5.2</td>\n",
       "      <td>0</td>\n",
       "    </tr>\n",
       "    <tr>\n",
       "      <th>481</th>\n",
       "      <td>482</td>\n",
       "      <td>24</td>\n",
       "      <td>2</td>\n",
       "      <td>2</td>\n",
       "      <td>3</td>\n",
       "      <td>26</td>\n",
       "      <td>0.887744</td>\n",
       "      <td>1.634256</td>\n",
       "      <td>9.7</td>\n",
       "      <td>1</td>\n",
       "    </tr>\n",
       "    <tr>\n",
       "      <th>482</th>\n",
       "      <td>483</td>\n",
       "      <td>34</td>\n",
       "      <td>1</td>\n",
       "      <td>5</td>\n",
       "      <td>3</td>\n",
       "      <td>33</td>\n",
       "      <td>0.778107</td>\n",
       "      <td>1.630893</td>\n",
       "      <td>7.3</td>\n",
       "      <td>0</td>\n",
       "    </tr>\n",
       "    <tr>\n",
       "      <th>483</th>\n",
       "      <td>484</td>\n",
       "      <td>25</td>\n",
       "      <td>2</td>\n",
       "      <td>6</td>\n",
       "      <td>2</td>\n",
       "      <td>28</td>\n",
       "      <td>0.070200</td>\n",
       "      <td>1.099800</td>\n",
       "      <td>4.5</td>\n",
       "      <td>0</td>\n",
       "    </tr>\n",
       "    <tr>\n",
       "      <th>484</th>\n",
       "      <td>485</td>\n",
       "      <td>45</td>\n",
       "      <td>3</td>\n",
       "      <td>5</td>\n",
       "      <td>17</td>\n",
       "      <td>94</td>\n",
       "      <td>3.612420</td>\n",
       "      <td>6.257580</td>\n",
       "      <td>10.5</td>\n",
       "      <td>1</td>\n",
       "    </tr>\n",
       "    <tr>\n",
       "      <th>485</th>\n",
       "      <td>486</td>\n",
       "      <td>34</td>\n",
       "      <td>2</td>\n",
       "      <td>4</td>\n",
       "      <td>10</td>\n",
       "      <td>25</td>\n",
       "      <td>0.569850</td>\n",
       "      <td>0.880150</td>\n",
       "      <td>5.8</td>\n",
       "      <td>0</td>\n",
       "    </tr>\n",
       "    <tr>\n",
       "      <th>486</th>\n",
       "      <td>487</td>\n",
       "      <td>27</td>\n",
       "      <td>4</td>\n",
       "      <td>2</td>\n",
       "      <td>8</td>\n",
       "      <td>23</td>\n",
       "      <td>0.319884</td>\n",
       "      <td>0.991116</td>\n",
       "      <td>5.7</td>\n",
       "      <td>1</td>\n",
       "    </tr>\n",
       "    <tr>\n",
       "      <th>487</th>\n",
       "      <td>488</td>\n",
       "      <td>33</td>\n",
       "      <td>2</td>\n",
       "      <td>10</td>\n",
       "      <td>13</td>\n",
       "      <td>57</td>\n",
       "      <td>6.111369</td>\n",
       "      <td>5.801631</td>\n",
       "      <td>20.9</td>\n",
       "      <td>1</td>\n",
       "    </tr>\n",
       "    <tr>\n",
       "      <th>488</th>\n",
       "      <td>489</td>\n",
       "      <td>35</td>\n",
       "      <td>2</td>\n",
       "      <td>0</td>\n",
       "      <td>16</td>\n",
       "      <td>22</td>\n",
       "      <td>1.970100</td>\n",
       "      <td>1.329900</td>\n",
       "      <td>15.0</td>\n",
       "      <td>1</td>\n",
       "    </tr>\n",
       "    <tr>\n",
       "      <th>489</th>\n",
       "      <td>490</td>\n",
       "      <td>50</td>\n",
       "      <td>2</td>\n",
       "      <td>15</td>\n",
       "      <td>31</td>\n",
       "      <td>60</td>\n",
       "      <td>0.467940</td>\n",
       "      <td>0.192060</td>\n",
       "      <td>1.1</td>\n",
       "      <td>0</td>\n",
       "    </tr>\n",
       "    <tr>\n",
       "      <th>490</th>\n",
       "      <td>491</td>\n",
       "      <td>33</td>\n",
       "      <td>1</td>\n",
       "      <td>13</td>\n",
       "      <td>13</td>\n",
       "      <td>42</td>\n",
       "      <td>0.228312</td>\n",
       "      <td>1.283688</td>\n",
       "      <td>3.6</td>\n",
       "      <td>0</td>\n",
       "    </tr>\n",
       "    <tr>\n",
       "      <th>491</th>\n",
       "      <td>492</td>\n",
       "      <td>41</td>\n",
       "      <td>3</td>\n",
       "      <td>13</td>\n",
       "      <td>13</td>\n",
       "      <td>91</td>\n",
       "      <td>2.316132</td>\n",
       "      <td>20.615868</td>\n",
       "      <td>25.2</td>\n",
       "      <td>1</td>\n",
       "    </tr>\n",
       "    <tr>\n",
       "      <th>492</th>\n",
       "      <td>493</td>\n",
       "      <td>28</td>\n",
       "      <td>1</td>\n",
       "      <td>0</td>\n",
       "      <td>2</td>\n",
       "      <td>28</td>\n",
       "      <td>2.284380</td>\n",
       "      <td>7.039620</td>\n",
       "      <td>33.3</td>\n",
       "      <td>1</td>\n",
       "    </tr>\n",
       "    <tr>\n",
       "      <th>493</th>\n",
       "      <td>494</td>\n",
       "      <td>38</td>\n",
       "      <td>3</td>\n",
       "      <td>12</td>\n",
       "      <td>14</td>\n",
       "      <td>63</td>\n",
       "      <td>5.715360</td>\n",
       "      <td>4.364640</td>\n",
       "      <td>16.0</td>\n",
       "      <td>1</td>\n",
       "    </tr>\n",
       "    <tr>\n",
       "      <th>494</th>\n",
       "      <td>495</td>\n",
       "      <td>25</td>\n",
       "      <td>1</td>\n",
       "      <td>3</td>\n",
       "      <td>2</td>\n",
       "      <td>16</td>\n",
       "      <td>1.011040</td>\n",
       "      <td>1.836960</td>\n",
       "      <td>17.8</td>\n",
       "      <td>1</td>\n",
       "    </tr>\n",
       "    <tr>\n",
       "      <th>495</th>\n",
       "      <td>496</td>\n",
       "      <td>47</td>\n",
       "      <td>2</td>\n",
       "      <td>4</td>\n",
       "      <td>9</td>\n",
       "      <td>33</td>\n",
       "      <td>1.194930</td>\n",
       "      <td>1.148070</td>\n",
       "      <td>7.1</td>\n",
       "      <td>1</td>\n",
       "    </tr>\n",
       "    <tr>\n",
       "      <th>496</th>\n",
       "      <td>497</td>\n",
       "      <td>30</td>\n",
       "      <td>2</td>\n",
       "      <td>12</td>\n",
       "      <td>9</td>\n",
       "      <td>98</td>\n",
       "      <td>2.935296</td>\n",
       "      <td>4.120704</td>\n",
       "      <td>7.2</td>\n",
       "      <td>0</td>\n",
       "    </tr>\n",
       "    <tr>\n",
       "      <th>497</th>\n",
       "      <td>498</td>\n",
       "      <td>44</td>\n",
       "      <td>2</td>\n",
       "      <td>12</td>\n",
       "      <td>5</td>\n",
       "      <td>86</td>\n",
       "      <td>1.475760</td>\n",
       "      <td>9.704240</td>\n",
       "      <td>13.0</td>\n",
       "      <td>0</td>\n",
       "    </tr>\n",
       "    <tr>\n",
       "      <th>498</th>\n",
       "      <td>499</td>\n",
       "      <td>25</td>\n",
       "      <td>1</td>\n",
       "      <td>0</td>\n",
       "      <td>2</td>\n",
       "      <td>18</td>\n",
       "      <td>0.513702</td>\n",
       "      <td>2.888298</td>\n",
       "      <td>18.9</td>\n",
       "      <td>1</td>\n",
       "    </tr>\n",
       "    <tr>\n",
       "      <th>499</th>\n",
       "      <td>500</td>\n",
       "      <td>41</td>\n",
       "      <td>2</td>\n",
       "      <td>7</td>\n",
       "      <td>0</td>\n",
       "      <td>36</td>\n",
       "      <td>4.570000</td>\n",
       "      <td>2.570000</td>\n",
       "      <td>19.5</td>\n",
       "      <td>1</td>\n",
       "    </tr>\n",
       "  </tbody>\n",
       "</table>\n",
       "<p>500 rows × 10 columns</p>\n",
       "</div>"
      ],
      "text/plain": [
       "      ID  IDADE  EDUCACAO  TEMPO_EMP  TEMPO_END  RENDA  DIVIDA_CC  OUTRAS_DIV  \\\n",
       "0      1     41         3         18          7    176  11.359392    5.008608   \n",
       "1      2     27         1         10          6     31   1.362202    4.000798   \n",
       "2      3     40         1         15         14     55   0.856075    2.168925   \n",
       "3      4     41         1         15         14    120   2.658720    0.821280   \n",
       "4      5     24         2          2          0     28   1.787436    3.056564   \n",
       "5      6     41         2          5          5     25   0.392700    2.157300   \n",
       "6      7     39         1         20          9     67   3.833874   16.668126   \n",
       "7      8     43         1         12         11     38   0.128592    1.239408   \n",
       "8      9     24         1          3          4     19   1.358348    3.277652   \n",
       "9     10     36         1          0         13     25   2.777700    2.147300   \n",
       "10    11     27         1          0          1     16   0.182512    0.089488   \n",
       "11    12     25         1          4          0     23   0.252356    0.943644   \n",
       "12    13     52         1         24         14     64   3.929600    2.470400   \n",
       "13    14     37         1          6          9     29   1.715901    3.011099   \n",
       "14    15     48         1         22         15    100   3.703700    5.396300   \n",
       "15    16     36         2         10          7     49   0.817516    3.396484   \n",
       "16    17     36         2         13          6     41   2.918216    3.805784   \n",
       "17    18     43         1         23         19     72   1.181952    4.290048   \n",
       "18    19     39         1          6          9     61   0.563274    2.913726   \n",
       "19    20     41         3          0         21     26   0.099008    0.342992   \n",
       "20    21     39         1         22          3     52   1.154816    0.509184   \n",
       "21    22     47         1         17         21     43   0.587552    1.820448   \n",
       "22    23     28         1          3          6     26   0.431600    2.168400   \n",
       "23    24     29         1          8          6     27   0.402192    2.243808   \n",
       "24    25     21         2          1          2     16   0.241920    2.638080   \n",
       "25    26     25         4          0          2     32   2.140160    3.491840   \n",
       "26    27     45         2         10         27     69   0.707319    3.915681   \n",
       "27    28     43         1         25         21     64   0.951232    9.736768   \n",
       "28    29     33         2         12          8     58   3.084208    7.587792   \n",
       "29    30     26         3          2          1     37   0.204906    5.049094   \n",
       "..   ...    ...       ...        ...        ...    ...        ...         ...   \n",
       "470  471     29         1          7          5     20   1.005840    2.954160   \n",
       "471  472     24         4          0          3     29   0.589512    1.324488   \n",
       "472  473     44         1         12          3     31   0.357833    2.649167   \n",
       "473  474     22         1          1          0     18   0.270072    0.521928   \n",
       "474  475     38         2         13          0     59   0.407808    1.008192   \n",
       "475  476     52         2         12         16     76   0.994840    4.857160   \n",
       "476  477     25         1          3          2     18   0.352080    2.581920   \n",
       "477  478     25         1          5          5     22   0.402864    1.995136   \n",
       "478  479     51         2         27         21    166   0.820870   18.269130   \n",
       "479  480     38         1         21         16     58   4.584030    4.985970   \n",
       "480  481     44         1          9         20     33   0.545688    1.170312   \n",
       "481  482     24         2          2          3     26   0.887744    1.634256   \n",
       "482  483     34         1          5          3     33   0.778107    1.630893   \n",
       "483  484     25         2          6          2     28   0.070200    1.099800   \n",
       "484  485     45         3          5         17     94   3.612420    6.257580   \n",
       "485  486     34         2          4         10     25   0.569850    0.880150   \n",
       "486  487     27         4          2          8     23   0.319884    0.991116   \n",
       "487  488     33         2         10         13     57   6.111369    5.801631   \n",
       "488  489     35         2          0         16     22   1.970100    1.329900   \n",
       "489  490     50         2         15         31     60   0.467940    0.192060   \n",
       "490  491     33         1         13         13     42   0.228312    1.283688   \n",
       "491  492     41         3         13         13     91   2.316132   20.615868   \n",
       "492  493     28         1          0          2     28   2.284380    7.039620   \n",
       "493  494     38         3         12         14     63   5.715360    4.364640   \n",
       "494  495     25         1          3          2     16   1.011040    1.836960   \n",
       "495  496     47         2          4          9     33   1.194930    1.148070   \n",
       "496  497     30         2         12          9     98   2.935296    4.120704   \n",
       "497  498     44         2         12          5     86   1.475760    9.704240   \n",
       "498  499     25         1          0          2     18   0.513702    2.888298   \n",
       "499  500     41         2          7          0     36   4.570000    2.570000   \n",
       "\n",
       "     GRAU_ENDIV  DEFAULT  \n",
       "0          10.3        1  \n",
       "1          17.3        0  \n",
       "2           5.5        0  \n",
       "3           2.9        0  \n",
       "4          17.3        1  \n",
       "5          10.2        0  \n",
       "6          30.6        0  \n",
       "7           3.6        0  \n",
       "8          24.4        1  \n",
       "9          19.7        0  \n",
       "10          1.7        0  \n",
       "11          5.2        0  \n",
       "12         10.0        0  \n",
       "13         16.3        0  \n",
       "14          9.1        0  \n",
       "15          8.6        1  \n",
       "16         16.4        1  \n",
       "17          7.6        0  \n",
       "18          5.7        0  \n",
       "19          1.7        0  \n",
       "20          3.2        0  \n",
       "21          5.6        0  \n",
       "22         10.0        0  \n",
       "23          9.8        0  \n",
       "24         18.0        1  \n",
       "25         17.6        0  \n",
       "26          6.7        0  \n",
       "27         16.7        0  \n",
       "28         18.4        0  \n",
       "29         14.2        0  \n",
       "..          ...      ...  \n",
       "470        19.8        1  \n",
       "471         6.6        1  \n",
       "472         9.7        0  \n",
       "473         4.4        0  \n",
       "474         2.4        0  \n",
       "475         7.7        0  \n",
       "476        16.3        1  \n",
       "477        10.9        0  \n",
       "478        11.5        0  \n",
       "479        16.5        0  \n",
       "480         5.2        0  \n",
       "481         9.7        1  \n",
       "482         7.3        0  \n",
       "483         4.5        0  \n",
       "484        10.5        1  \n",
       "485         5.8        0  \n",
       "486         5.7        1  \n",
       "487        20.9        1  \n",
       "488        15.0        1  \n",
       "489         1.1        0  \n",
       "490         3.6        0  \n",
       "491        25.2        1  \n",
       "492        33.3        1  \n",
       "493        16.0        1  \n",
       "494        17.8        1  \n",
       "495         7.1        1  \n",
       "496         7.2        0  \n",
       "497        13.0        0  \n",
       "498        18.9        1  \n",
       "499        19.5        1  \n",
       "\n",
       "[500 rows x 10 columns]"
      ]
     },
     "execution_count": 7,
     "metadata": {},
     "output_type": "execute_result"
    }
   ],
   "source": [
    "dados"
   ]
  },
  {
   "cell_type": "markdown",
   "metadata": {
    "slideshow": {
     "slide_type": "slide"
    }
   },
   "source": [
    "## head / tail"
   ]
  },
  {
   "cell_type": "markdown",
   "metadata": {
    "slideshow": {
     "slide_type": "fragment"
    }
   },
   "source": [
    "O método _head()_ de um _DataFrame_ mostra as primeiras linhas"
   ]
  },
  {
   "cell_type": "code",
   "execution_count": 8,
   "metadata": {
    "collapsed": false,
    "slideshow": {
     "slide_type": "fragment"
    }
   },
   "outputs": [
    {
     "data": {
      "text/html": [
       "<div>\n",
       "<table border=\"1\" class=\"dataframe\">\n",
       "  <thead>\n",
       "    <tr style=\"text-align: right;\">\n",
       "      <th></th>\n",
       "      <th>ID</th>\n",
       "      <th>IDADE</th>\n",
       "      <th>EDUCACAO</th>\n",
       "      <th>TEMPO_EMP</th>\n",
       "      <th>TEMPO_END</th>\n",
       "      <th>RENDA</th>\n",
       "      <th>DIVIDA_CC</th>\n",
       "      <th>OUTRAS_DIV</th>\n",
       "      <th>GRAU_ENDIV</th>\n",
       "      <th>DEFAULT</th>\n",
       "    </tr>\n",
       "  </thead>\n",
       "  <tbody>\n",
       "    <tr>\n",
       "      <th>0</th>\n",
       "      <td>1</td>\n",
       "      <td>41</td>\n",
       "      <td>3</td>\n",
       "      <td>18</td>\n",
       "      <td>7</td>\n",
       "      <td>176</td>\n",
       "      <td>11.359392</td>\n",
       "      <td>5.008608</td>\n",
       "      <td>10.3</td>\n",
       "      <td>1</td>\n",
       "    </tr>\n",
       "    <tr>\n",
       "      <th>1</th>\n",
       "      <td>2</td>\n",
       "      <td>27</td>\n",
       "      <td>1</td>\n",
       "      <td>10</td>\n",
       "      <td>6</td>\n",
       "      <td>31</td>\n",
       "      <td>1.362202</td>\n",
       "      <td>4.000798</td>\n",
       "      <td>17.3</td>\n",
       "      <td>0</td>\n",
       "    </tr>\n",
       "    <tr>\n",
       "      <th>2</th>\n",
       "      <td>3</td>\n",
       "      <td>40</td>\n",
       "      <td>1</td>\n",
       "      <td>15</td>\n",
       "      <td>14</td>\n",
       "      <td>55</td>\n",
       "      <td>0.856075</td>\n",
       "      <td>2.168925</td>\n",
       "      <td>5.5</td>\n",
       "      <td>0</td>\n",
       "    </tr>\n",
       "    <tr>\n",
       "      <th>3</th>\n",
       "      <td>4</td>\n",
       "      <td>41</td>\n",
       "      <td>1</td>\n",
       "      <td>15</td>\n",
       "      <td>14</td>\n",
       "      <td>120</td>\n",
       "      <td>2.658720</td>\n",
       "      <td>0.821280</td>\n",
       "      <td>2.9</td>\n",
       "      <td>0</td>\n",
       "    </tr>\n",
       "    <tr>\n",
       "      <th>4</th>\n",
       "      <td>5</td>\n",
       "      <td>24</td>\n",
       "      <td>2</td>\n",
       "      <td>2</td>\n",
       "      <td>0</td>\n",
       "      <td>28</td>\n",
       "      <td>1.787436</td>\n",
       "      <td>3.056564</td>\n",
       "      <td>17.3</td>\n",
       "      <td>1</td>\n",
       "    </tr>\n",
       "  </tbody>\n",
       "</table>\n",
       "</div>"
      ],
      "text/plain": [
       "   ID  IDADE  EDUCACAO  TEMPO_EMP  TEMPO_END  RENDA  DIVIDA_CC  OUTRAS_DIV  \\\n",
       "0   1     41         3         18          7    176  11.359392    5.008608   \n",
       "1   2     27         1         10          6     31   1.362202    4.000798   \n",
       "2   3     40         1         15         14     55   0.856075    2.168925   \n",
       "3   4     41         1         15         14    120   2.658720    0.821280   \n",
       "4   5     24         2          2          0     28   1.787436    3.056564   \n",
       "\n",
       "   GRAU_ENDIV  DEFAULT  \n",
       "0        10.3        1  \n",
       "1        17.3        0  \n",
       "2         5.5        0  \n",
       "3         2.9        0  \n",
       "4        17.3        1  "
      ]
     },
     "execution_count": 8,
     "metadata": {},
     "output_type": "execute_result"
    }
   ],
   "source": [
    "dados.head()"
   ]
  },
  {
   "cell_type": "code",
   "execution_count": 9,
   "metadata": {
    "collapsed": false,
    "slideshow": {
     "slide_type": "slide"
    }
   },
   "outputs": [
    {
     "data": {
      "text/html": [
       "<div>\n",
       "<table border=\"1\" class=\"dataframe\">\n",
       "  <thead>\n",
       "    <tr style=\"text-align: right;\">\n",
       "      <th></th>\n",
       "      <th>ID</th>\n",
       "      <th>IDADE</th>\n",
       "      <th>EDUCACAO</th>\n",
       "      <th>TEMPO_EMP</th>\n",
       "      <th>TEMPO_END</th>\n",
       "      <th>RENDA</th>\n",
       "      <th>DIVIDA_CC</th>\n",
       "      <th>OUTRAS_DIV</th>\n",
       "      <th>GRAU_ENDIV</th>\n",
       "      <th>DEFAULT</th>\n",
       "    </tr>\n",
       "  </thead>\n",
       "  <tbody>\n",
       "    <tr>\n",
       "      <th>0</th>\n",
       "      <td>1</td>\n",
       "      <td>41</td>\n",
       "      <td>3</td>\n",
       "      <td>18</td>\n",
       "      <td>7</td>\n",
       "      <td>176</td>\n",
       "      <td>11.359392</td>\n",
       "      <td>5.008608</td>\n",
       "      <td>10.3</td>\n",
       "      <td>1</td>\n",
       "    </tr>\n",
       "    <tr>\n",
       "      <th>1</th>\n",
       "      <td>2</td>\n",
       "      <td>27</td>\n",
       "      <td>1</td>\n",
       "      <td>10</td>\n",
       "      <td>6</td>\n",
       "      <td>31</td>\n",
       "      <td>1.362202</td>\n",
       "      <td>4.000798</td>\n",
       "      <td>17.3</td>\n",
       "      <td>0</td>\n",
       "    </tr>\n",
       "    <tr>\n",
       "      <th>2</th>\n",
       "      <td>3</td>\n",
       "      <td>40</td>\n",
       "      <td>1</td>\n",
       "      <td>15</td>\n",
       "      <td>14</td>\n",
       "      <td>55</td>\n",
       "      <td>0.856075</td>\n",
       "      <td>2.168925</td>\n",
       "      <td>5.5</td>\n",
       "      <td>0</td>\n",
       "    </tr>\n",
       "    <tr>\n",
       "      <th>3</th>\n",
       "      <td>4</td>\n",
       "      <td>41</td>\n",
       "      <td>1</td>\n",
       "      <td>15</td>\n",
       "      <td>14</td>\n",
       "      <td>120</td>\n",
       "      <td>2.658720</td>\n",
       "      <td>0.821280</td>\n",
       "      <td>2.9</td>\n",
       "      <td>0</td>\n",
       "    </tr>\n",
       "    <tr>\n",
       "      <th>4</th>\n",
       "      <td>5</td>\n",
       "      <td>24</td>\n",
       "      <td>2</td>\n",
       "      <td>2</td>\n",
       "      <td>0</td>\n",
       "      <td>28</td>\n",
       "      <td>1.787436</td>\n",
       "      <td>3.056564</td>\n",
       "      <td>17.3</td>\n",
       "      <td>1</td>\n",
       "    </tr>\n",
       "    <tr>\n",
       "      <th>5</th>\n",
       "      <td>6</td>\n",
       "      <td>41</td>\n",
       "      <td>2</td>\n",
       "      <td>5</td>\n",
       "      <td>5</td>\n",
       "      <td>25</td>\n",
       "      <td>0.392700</td>\n",
       "      <td>2.157300</td>\n",
       "      <td>10.2</td>\n",
       "      <td>0</td>\n",
       "    </tr>\n",
       "    <tr>\n",
       "      <th>6</th>\n",
       "      <td>7</td>\n",
       "      <td>39</td>\n",
       "      <td>1</td>\n",
       "      <td>20</td>\n",
       "      <td>9</td>\n",
       "      <td>67</td>\n",
       "      <td>3.833874</td>\n",
       "      <td>16.668126</td>\n",
       "      <td>30.6</td>\n",
       "      <td>0</td>\n",
       "    </tr>\n",
       "  </tbody>\n",
       "</table>\n",
       "</div>"
      ],
      "text/plain": [
       "   ID  IDADE  EDUCACAO  TEMPO_EMP  TEMPO_END  RENDA  DIVIDA_CC  OUTRAS_DIV  \\\n",
       "0   1     41         3         18          7    176  11.359392    5.008608   \n",
       "1   2     27         1         10          6     31   1.362202    4.000798   \n",
       "2   3     40         1         15         14     55   0.856075    2.168925   \n",
       "3   4     41         1         15         14    120   2.658720    0.821280   \n",
       "4   5     24         2          2          0     28   1.787436    3.056564   \n",
       "5   6     41         2          5          5     25   0.392700    2.157300   \n",
       "6   7     39         1         20          9     67   3.833874   16.668126   \n",
       "\n",
       "   GRAU_ENDIV  DEFAULT  \n",
       "0        10.3        1  \n",
       "1        17.3        0  \n",
       "2         5.5        0  \n",
       "3         2.9        0  \n",
       "4        17.3        1  \n",
       "5        10.2        0  \n",
       "6        30.6        0  "
      ]
     },
     "execution_count": 9,
     "metadata": {},
     "output_type": "execute_result"
    }
   ],
   "source": [
    "dados.head(7)"
   ]
  },
  {
   "cell_type": "markdown",
   "metadata": {
    "slideshow": {
     "slide_type": "slide"
    }
   },
   "source": [
    "## Método tail\n",
    "O método _tail()_ mostra o final da tabela"
   ]
  },
  {
   "cell_type": "code",
   "execution_count": 10,
   "metadata": {
    "collapsed": false,
    "slideshow": {
     "slide_type": "fragment"
    }
   },
   "outputs": [
    {
     "data": {
      "text/html": [
       "<div>\n",
       "<table border=\"1\" class=\"dataframe\">\n",
       "  <thead>\n",
       "    <tr style=\"text-align: right;\">\n",
       "      <th></th>\n",
       "      <th>ID</th>\n",
       "      <th>IDADE</th>\n",
       "      <th>EDUCACAO</th>\n",
       "      <th>TEMPO_EMP</th>\n",
       "      <th>TEMPO_END</th>\n",
       "      <th>RENDA</th>\n",
       "      <th>DIVIDA_CC</th>\n",
       "      <th>OUTRAS_DIV</th>\n",
       "      <th>GRAU_ENDIV</th>\n",
       "      <th>DEFAULT</th>\n",
       "    </tr>\n",
       "  </thead>\n",
       "  <tbody>\n",
       "    <tr>\n",
       "      <th>495</th>\n",
       "      <td>496</td>\n",
       "      <td>47</td>\n",
       "      <td>2</td>\n",
       "      <td>4</td>\n",
       "      <td>9</td>\n",
       "      <td>33</td>\n",
       "      <td>1.194930</td>\n",
       "      <td>1.148070</td>\n",
       "      <td>7.1</td>\n",
       "      <td>1</td>\n",
       "    </tr>\n",
       "    <tr>\n",
       "      <th>496</th>\n",
       "      <td>497</td>\n",
       "      <td>30</td>\n",
       "      <td>2</td>\n",
       "      <td>12</td>\n",
       "      <td>9</td>\n",
       "      <td>98</td>\n",
       "      <td>2.935296</td>\n",
       "      <td>4.120704</td>\n",
       "      <td>7.2</td>\n",
       "      <td>0</td>\n",
       "    </tr>\n",
       "    <tr>\n",
       "      <th>497</th>\n",
       "      <td>498</td>\n",
       "      <td>44</td>\n",
       "      <td>2</td>\n",
       "      <td>12</td>\n",
       "      <td>5</td>\n",
       "      <td>86</td>\n",
       "      <td>1.475760</td>\n",
       "      <td>9.704240</td>\n",
       "      <td>13.0</td>\n",
       "      <td>0</td>\n",
       "    </tr>\n",
       "    <tr>\n",
       "      <th>498</th>\n",
       "      <td>499</td>\n",
       "      <td>25</td>\n",
       "      <td>1</td>\n",
       "      <td>0</td>\n",
       "      <td>2</td>\n",
       "      <td>18</td>\n",
       "      <td>0.513702</td>\n",
       "      <td>2.888298</td>\n",
       "      <td>18.9</td>\n",
       "      <td>1</td>\n",
       "    </tr>\n",
       "    <tr>\n",
       "      <th>499</th>\n",
       "      <td>500</td>\n",
       "      <td>41</td>\n",
       "      <td>2</td>\n",
       "      <td>7</td>\n",
       "      <td>0</td>\n",
       "      <td>36</td>\n",
       "      <td>4.570000</td>\n",
       "      <td>2.570000</td>\n",
       "      <td>19.5</td>\n",
       "      <td>1</td>\n",
       "    </tr>\n",
       "  </tbody>\n",
       "</table>\n",
       "</div>"
      ],
      "text/plain": [
       "      ID  IDADE  EDUCACAO  TEMPO_EMP  TEMPO_END  RENDA  DIVIDA_CC  OUTRAS_DIV  \\\n",
       "495  496     47         2          4          9     33   1.194930    1.148070   \n",
       "496  497     30         2         12          9     98   2.935296    4.120704   \n",
       "497  498     44         2         12          5     86   1.475760    9.704240   \n",
       "498  499     25         1          0          2     18   0.513702    2.888298   \n",
       "499  500     41         2          7          0     36   4.570000    2.570000   \n",
       "\n",
       "     GRAU_ENDIV  DEFAULT  \n",
       "495         7.1        1  \n",
       "496         7.2        0  \n",
       "497        13.0        0  \n",
       "498        18.9        1  \n",
       "499        19.5        1  "
      ]
     },
     "execution_count": 10,
     "metadata": {},
     "output_type": "execute_result"
    }
   ],
   "source": [
    "dados.tail(5)"
   ]
  },
  {
   "cell_type": "code",
   "execution_count": 11,
   "metadata": {
    "collapsed": false,
    "slideshow": {
     "slide_type": "skip"
    }
   },
   "outputs": [
    {
     "data": {
      "text/html": [
       "<div>\n",
       "<table border=\"1\" class=\"dataframe\">\n",
       "  <thead>\n",
       "    <tr style=\"text-align: right;\">\n",
       "      <th></th>\n",
       "      <th>ID</th>\n",
       "      <th>IDADE</th>\n",
       "      <th>EDUCACAO</th>\n",
       "      <th>TEMPO_EMP</th>\n",
       "      <th>TEMPO_END</th>\n",
       "      <th>RENDA</th>\n",
       "      <th>DIVIDA_CC</th>\n",
       "      <th>OUTRAS_DIV</th>\n",
       "      <th>GRAU_ENDIV</th>\n",
       "      <th>DEFAULT</th>\n",
       "    </tr>\n",
       "  </thead>\n",
       "  <tbody>\n",
       "    <tr>\n",
       "      <th>493</th>\n",
       "      <td>494</td>\n",
       "      <td>38</td>\n",
       "      <td>3</td>\n",
       "      <td>12</td>\n",
       "      <td>14</td>\n",
       "      <td>63</td>\n",
       "      <td>5.715360</td>\n",
       "      <td>4.364640</td>\n",
       "      <td>16.0</td>\n",
       "      <td>1</td>\n",
       "    </tr>\n",
       "    <tr>\n",
       "      <th>494</th>\n",
       "      <td>495</td>\n",
       "      <td>25</td>\n",
       "      <td>1</td>\n",
       "      <td>3</td>\n",
       "      <td>2</td>\n",
       "      <td>16</td>\n",
       "      <td>1.011040</td>\n",
       "      <td>1.836960</td>\n",
       "      <td>17.8</td>\n",
       "      <td>1</td>\n",
       "    </tr>\n",
       "    <tr>\n",
       "      <th>495</th>\n",
       "      <td>496</td>\n",
       "      <td>47</td>\n",
       "      <td>2</td>\n",
       "      <td>4</td>\n",
       "      <td>9</td>\n",
       "      <td>33</td>\n",
       "      <td>1.194930</td>\n",
       "      <td>1.148070</td>\n",
       "      <td>7.1</td>\n",
       "      <td>1</td>\n",
       "    </tr>\n",
       "    <tr>\n",
       "      <th>496</th>\n",
       "      <td>497</td>\n",
       "      <td>30</td>\n",
       "      <td>2</td>\n",
       "      <td>12</td>\n",
       "      <td>9</td>\n",
       "      <td>98</td>\n",
       "      <td>2.935296</td>\n",
       "      <td>4.120704</td>\n",
       "      <td>7.2</td>\n",
       "      <td>0</td>\n",
       "    </tr>\n",
       "    <tr>\n",
       "      <th>497</th>\n",
       "      <td>498</td>\n",
       "      <td>44</td>\n",
       "      <td>2</td>\n",
       "      <td>12</td>\n",
       "      <td>5</td>\n",
       "      <td>86</td>\n",
       "      <td>1.475760</td>\n",
       "      <td>9.704240</td>\n",
       "      <td>13.0</td>\n",
       "      <td>0</td>\n",
       "    </tr>\n",
       "    <tr>\n",
       "      <th>498</th>\n",
       "      <td>499</td>\n",
       "      <td>25</td>\n",
       "      <td>1</td>\n",
       "      <td>0</td>\n",
       "      <td>2</td>\n",
       "      <td>18</td>\n",
       "      <td>0.513702</td>\n",
       "      <td>2.888298</td>\n",
       "      <td>18.9</td>\n",
       "      <td>1</td>\n",
       "    </tr>\n",
       "    <tr>\n",
       "      <th>499</th>\n",
       "      <td>500</td>\n",
       "      <td>41</td>\n",
       "      <td>2</td>\n",
       "      <td>7</td>\n",
       "      <td>0</td>\n",
       "      <td>36</td>\n",
       "      <td>4.570000</td>\n",
       "      <td>2.570000</td>\n",
       "      <td>19.5</td>\n",
       "      <td>1</td>\n",
       "    </tr>\n",
       "  </tbody>\n",
       "</table>\n",
       "</div>"
      ],
      "text/plain": [
       "      ID  IDADE  EDUCACAO  TEMPO_EMP  TEMPO_END  RENDA  DIVIDA_CC  OUTRAS_DIV  \\\n",
       "493  494     38         3         12         14     63   5.715360    4.364640   \n",
       "494  495     25         1          3          2     16   1.011040    1.836960   \n",
       "495  496     47         2          4          9     33   1.194930    1.148070   \n",
       "496  497     30         2         12          9     98   2.935296    4.120704   \n",
       "497  498     44         2         12          5     86   1.475760    9.704240   \n",
       "498  499     25         1          0          2     18   0.513702    2.888298   \n",
       "499  500     41         2          7          0     36   4.570000    2.570000   \n",
       "\n",
       "     GRAU_ENDIV  DEFAULT  \n",
       "493        16.0        1  \n",
       "494        17.8        1  \n",
       "495         7.1        1  \n",
       "496         7.2        0  \n",
       "497        13.0        0  \n",
       "498        18.9        1  \n",
       "499        19.5        1  "
      ]
     },
     "execution_count": 11,
     "metadata": {},
     "output_type": "execute_result"
    }
   ],
   "source": [
    "dados.tail(7)"
   ]
  },
  {
   "cell_type": "markdown",
   "metadata": {
    "slideshow": {
     "slide_type": "slide"
    }
   },
   "source": [
    "### Tamanho do DataFrame"
   ]
  },
  {
   "cell_type": "code",
   "execution_count": 12,
   "metadata": {
    "collapsed": false,
    "slideshow": {
     "slide_type": "fragment"
    }
   },
   "outputs": [
    {
     "data": {
      "text/plain": [
       "(500, 10)"
      ]
     },
     "execution_count": 12,
     "metadata": {},
     "output_type": "execute_result"
    }
   ],
   "source": [
    "dados.shape"
   ]
  },
  {
   "cell_type": "markdown",
   "metadata": {
    "slideshow": {
     "slide_type": "skip"
    }
   },
   "source": [
    "Todo DataFrame contém um array do numpy internamente. Este array é guardado no atributo values"
   ]
  },
  {
   "cell_type": "code",
   "execution_count": 13,
   "metadata": {
    "collapsed": false,
    "slideshow": {
     "slide_type": "skip"
    }
   },
   "outputs": [
    {
     "data": {
      "text/plain": [
       "numpy.ndarray"
      ]
     },
     "execution_count": 13,
     "metadata": {},
     "output_type": "execute_result"
    }
   ],
   "source": [
    "type(dados.values)"
   ]
  },
  {
   "cell_type": "markdown",
   "metadata": {
    "slideshow": {
     "slide_type": "slide"
    }
   },
   "source": [
    "## Tipos das colunas\n",
    "\n",
    "Cada coluna da tabela tem um tipo diferente"
   ]
  },
  {
   "cell_type": "code",
   "execution_count": 14,
   "metadata": {
    "collapsed": false,
    "slideshow": {
     "slide_type": "fragment"
    }
   },
   "outputs": [
    {
     "data": {
      "text/plain": [
       "ID              int64\n",
       "IDADE           int64\n",
       "EDUCACAO        int64\n",
       "TEMPO_EMP       int64\n",
       "TEMPO_END       int64\n",
       "RENDA           int64\n",
       "DIVIDA_CC     float64\n",
       "OUTRAS_DIV    float64\n",
       "GRAU_ENDIV    float64\n",
       "DEFAULT         int64\n",
       "dtype: object"
      ]
     },
     "execution_count": 14,
     "metadata": {},
     "output_type": "execute_result"
    }
   ],
   "source": [
    "dados.dtypes"
   ]
  },
  {
   "cell_type": "markdown",
   "metadata": {
    "slideshow": {
     "slide_type": "slide"
    }
   },
   "source": [
    "## Acesso a colunas"
   ]
  },
  {
   "cell_type": "markdown",
   "metadata": {
    "slideshow": {
     "slide_type": "fragment"
    }
   },
   "source": [
    "Colunas podem ser acessadas direto pelo nome, como atributos de objetos"
   ]
  },
  {
   "cell_type": "code",
   "execution_count": 15,
   "metadata": {
    "collapsed": false,
    "slideshow": {
     "slide_type": "fragment"
    }
   },
   "outputs": [
    {
     "data": {
      "text/plain": [
       "0      41\n",
       "1      27\n",
       "2      40\n",
       "3      41\n",
       "4      24\n",
       "5      41\n",
       "6      39\n",
       "7      43\n",
       "8      24\n",
       "9      36\n",
       "10     27\n",
       "11     25\n",
       "12     52\n",
       "13     37\n",
       "14     48\n",
       "15     36\n",
       "16     36\n",
       "17     43\n",
       "18     39\n",
       "19     41\n",
       "20     39\n",
       "21     47\n",
       "22     28\n",
       "23     29\n",
       "24     21\n",
       "25     25\n",
       "26     45\n",
       "27     43\n",
       "28     33\n",
       "29     26\n",
       "       ..\n",
       "470    29\n",
       "471    24\n",
       "472    44\n",
       "473    22\n",
       "474    38\n",
       "475    52\n",
       "476    25\n",
       "477    25\n",
       "478    51\n",
       "479    38\n",
       "480    44\n",
       "481    24\n",
       "482    34\n",
       "483    25\n",
       "484    45\n",
       "485    34\n",
       "486    27\n",
       "487    33\n",
       "488    35\n",
       "489    50\n",
       "490    33\n",
       "491    41\n",
       "492    28\n",
       "493    38\n",
       "494    25\n",
       "495    47\n",
       "496    30\n",
       "497    44\n",
       "498    25\n",
       "499    41\n",
       "Name: IDADE, dtype: int64"
      ]
     },
     "execution_count": 15,
     "metadata": {},
     "output_type": "execute_result"
    }
   ],
   "source": [
    "dados.IDADE"
   ]
  },
  {
   "cell_type": "markdown",
   "metadata": {
    "slideshow": {
     "slide_type": "slide"
    }
   },
   "source": [
    "### Acesso a colunas - como membros de um dicionário\n",
    "\n",
    "Ou então com uma notação similar à de um dicionário:\n"
   ]
  },
  {
   "cell_type": "code",
   "execution_count": 16,
   "metadata": {
    "collapsed": false,
    "slideshow": {
     "slide_type": "fragment"
    }
   },
   "outputs": [
    {
     "data": {
      "text/plain": [
       "0      176\n",
       "1       31\n",
       "2       55\n",
       "3      120\n",
       "4       28\n",
       "5       25\n",
       "6       67\n",
       "7       38\n",
       "8       19\n",
       "9       25\n",
       "10      16\n",
       "11      23\n",
       "12      64\n",
       "13      29\n",
       "14     100\n",
       "15      49\n",
       "16      41\n",
       "17      72\n",
       "18      61\n",
       "19      26\n",
       "20      52\n",
       "21      43\n",
       "22      26\n",
       "23      27\n",
       "24      16\n",
       "25      32\n",
       "26      69\n",
       "27      64\n",
       "28      58\n",
       "29      37\n",
       "      ... \n",
       "470     20\n",
       "471     29\n",
       "472     31\n",
       "473     18\n",
       "474     59\n",
       "475     76\n",
       "476     18\n",
       "477     22\n",
       "478    166\n",
       "479     58\n",
       "480     33\n",
       "481     26\n",
       "482     33\n",
       "483     28\n",
       "484     94\n",
       "485     25\n",
       "486     23\n",
       "487     57\n",
       "488     22\n",
       "489     60\n",
       "490     42\n",
       "491     91\n",
       "492     28\n",
       "493     63\n",
       "494     16\n",
       "495     33\n",
       "496     98\n",
       "497     86\n",
       "498     18\n",
       "499     36\n",
       "Name: RENDA, dtype: int64"
      ]
     },
     "execution_count": 16,
     "metadata": {},
     "output_type": "execute_result"
    }
   ],
   "source": [
    "dados[\"RENDA\"]\n"
   ]
  },
  {
   "cell_type": "markdown",
   "metadata": {
    "slideshow": {
     "slide_type": "slide"
    }
   },
   "source": [
    "## Slices de linhas\n",
    "\n",
    "Slices simples (sem vírgula) fatiam as linhas do dataset. O exemplo abaixo separa as linhas entre 2 e 4. Lembrando que o último valor informado nos colchetes é excludente."
   ]
  },
  {
   "cell_type": "code",
   "execution_count": 17,
   "metadata": {
    "collapsed": false,
    "slideshow": {
     "slide_type": "fragment"
    }
   },
   "outputs": [
    {
     "data": {
      "text/html": [
       "<div>\n",
       "<table border=\"1\" class=\"dataframe\">\n",
       "  <thead>\n",
       "    <tr style=\"text-align: right;\">\n",
       "      <th></th>\n",
       "      <th>ID</th>\n",
       "      <th>IDADE</th>\n",
       "      <th>EDUCACAO</th>\n",
       "      <th>TEMPO_EMP</th>\n",
       "      <th>TEMPO_END</th>\n",
       "      <th>RENDA</th>\n",
       "      <th>DIVIDA_CC</th>\n",
       "      <th>OUTRAS_DIV</th>\n",
       "      <th>GRAU_ENDIV</th>\n",
       "      <th>DEFAULT</th>\n",
       "    </tr>\n",
       "  </thead>\n",
       "  <tbody>\n",
       "    <tr>\n",
       "      <th>2</th>\n",
       "      <td>3</td>\n",
       "      <td>40</td>\n",
       "      <td>1</td>\n",
       "      <td>15</td>\n",
       "      <td>14</td>\n",
       "      <td>55</td>\n",
       "      <td>0.856075</td>\n",
       "      <td>2.168925</td>\n",
       "      <td>5.5</td>\n",
       "      <td>0</td>\n",
       "    </tr>\n",
       "    <tr>\n",
       "      <th>3</th>\n",
       "      <td>4</td>\n",
       "      <td>41</td>\n",
       "      <td>1</td>\n",
       "      <td>15</td>\n",
       "      <td>14</td>\n",
       "      <td>120</td>\n",
       "      <td>2.658720</td>\n",
       "      <td>0.821280</td>\n",
       "      <td>2.9</td>\n",
       "      <td>0</td>\n",
       "    </tr>\n",
       "  </tbody>\n",
       "</table>\n",
       "</div>"
      ],
      "text/plain": [
       "   ID  IDADE  EDUCACAO  TEMPO_EMP  TEMPO_END  RENDA  DIVIDA_CC  OUTRAS_DIV  \\\n",
       "2   3     40         1         15         14     55   0.856075    2.168925   \n",
       "3   4     41         1         15         14    120   2.658720    0.821280   \n",
       "\n",
       "   GRAU_ENDIV  DEFAULT  \n",
       "2         5.5        0  \n",
       "3         2.9        0  "
      ]
     },
     "execution_count": 17,
     "metadata": {},
     "output_type": "execute_result"
    }
   ],
   "source": [
    "dados[2:4]"
   ]
  },
  {
   "cell_type": "markdown",
   "metadata": {
    "slideshow": {
     "slide_type": "slide"
    }
   },
   "source": [
    "# Slices de colunas\n",
    "\n",
    "O atributo _iloc_ de um _DataFrame_ permite usar slices baseados em índices numéricos. Vale a mesma notação usada no numpy. Para saber mais veja [aqui](http://pandas.pydata.org/pandas-docs/stable/indexing.html)"
   ]
  },
  {
   "cell_type": "code",
   "execution_count": 18,
   "metadata": {
    "collapsed": false,
    "slideshow": {
     "slide_type": "fragment"
    }
   },
   "outputs": [],
   "source": [
    "#Caso queira, pode colocar esse pedaço do dataframe definido com outro nome\n",
    "novatab = dados.iloc[2:5,3:8]"
   ]
  },
  {
   "cell_type": "code",
   "execution_count": 19,
   "metadata": {
    "collapsed": false,
    "slideshow": {
     "slide_type": "fragment"
    }
   },
   "outputs": [
    {
     "data": {
      "text/html": [
       "<div>\n",
       "<table border=\"1\" class=\"dataframe\">\n",
       "  <thead>\n",
       "    <tr style=\"text-align: right;\">\n",
       "      <th></th>\n",
       "      <th>TEMPO_EMP</th>\n",
       "      <th>TEMPO_END</th>\n",
       "      <th>RENDA</th>\n",
       "      <th>DIVIDA_CC</th>\n",
       "      <th>OUTRAS_DIV</th>\n",
       "    </tr>\n",
       "  </thead>\n",
       "  <tbody>\n",
       "    <tr>\n",
       "      <th>2</th>\n",
       "      <td>15</td>\n",
       "      <td>14</td>\n",
       "      <td>55</td>\n",
       "      <td>0.856075</td>\n",
       "      <td>2.168925</td>\n",
       "    </tr>\n",
       "    <tr>\n",
       "      <th>3</th>\n",
       "      <td>15</td>\n",
       "      <td>14</td>\n",
       "      <td>120</td>\n",
       "      <td>2.658720</td>\n",
       "      <td>0.821280</td>\n",
       "    </tr>\n",
       "    <tr>\n",
       "      <th>4</th>\n",
       "      <td>2</td>\n",
       "      <td>0</td>\n",
       "      <td>28</td>\n",
       "      <td>1.787436</td>\n",
       "      <td>3.056564</td>\n",
       "    </tr>\n",
       "  </tbody>\n",
       "</table>\n",
       "</div>"
      ],
      "text/plain": [
       "   TEMPO_EMP  TEMPO_END  RENDA  DIVIDA_CC  OUTRAS_DIV\n",
       "2         15         14     55   0.856075    2.168925\n",
       "3         15         14    120   2.658720    0.821280\n",
       "4          2          0     28   1.787436    3.056564"
      ]
     },
     "execution_count": 19,
     "metadata": {},
     "output_type": "execute_result"
    }
   ],
   "source": [
    "novatab"
   ]
  },
  {
   "cell_type": "markdown",
   "metadata": {
    "slideshow": {
     "slide_type": "slide"
    }
   },
   "source": [
    "## Slices  com operador \"**:**\"\n",
    "\n",
    "Pode-se usar dois pontos *:*  em uma das dimensões para selecionar todas"
   ]
  },
  {
   "cell_type": "code",
   "execution_count": 20,
   "metadata": {
    "collapsed": false,
    "slideshow": {
     "slide_type": "fragment"
    }
   },
   "outputs": [
    {
     "data": {
      "text/html": [
       "<div>\n",
       "<table border=\"1\" class=\"dataframe\">\n",
       "  <thead>\n",
       "    <tr style=\"text-align: right;\">\n",
       "      <th></th>\n",
       "      <th>ID</th>\n",
       "      <th>IDADE</th>\n",
       "      <th>EDUCACAO</th>\n",
       "      <th>TEMPO_EMP</th>\n",
       "      <th>TEMPO_END</th>\n",
       "      <th>RENDA</th>\n",
       "      <th>DIVIDA_CC</th>\n",
       "      <th>OUTRAS_DIV</th>\n",
       "      <th>GRAU_ENDIV</th>\n",
       "      <th>DEFAULT</th>\n",
       "    </tr>\n",
       "  </thead>\n",
       "  <tbody>\n",
       "    <tr>\n",
       "      <th>0</th>\n",
       "      <td>1</td>\n",
       "      <td>41</td>\n",
       "      <td>3</td>\n",
       "      <td>18</td>\n",
       "      <td>7</td>\n",
       "      <td>176</td>\n",
       "      <td>11.359392</td>\n",
       "      <td>5.008608</td>\n",
       "      <td>10.3</td>\n",
       "      <td>1</td>\n",
       "    </tr>\n",
       "    <tr>\n",
       "      <th>1</th>\n",
       "      <td>2</td>\n",
       "      <td>27</td>\n",
       "      <td>1</td>\n",
       "      <td>10</td>\n",
       "      <td>6</td>\n",
       "      <td>31</td>\n",
       "      <td>1.362202</td>\n",
       "      <td>4.000798</td>\n",
       "      <td>17.3</td>\n",
       "      <td>0</td>\n",
       "    </tr>\n",
       "    <tr>\n",
       "      <th>2</th>\n",
       "      <td>3</td>\n",
       "      <td>40</td>\n",
       "      <td>1</td>\n",
       "      <td>15</td>\n",
       "      <td>14</td>\n",
       "      <td>55</td>\n",
       "      <td>0.856075</td>\n",
       "      <td>2.168925</td>\n",
       "      <td>5.5</td>\n",
       "      <td>0</td>\n",
       "    </tr>\n",
       "    <tr>\n",
       "      <th>3</th>\n",
       "      <td>4</td>\n",
       "      <td>41</td>\n",
       "      <td>1</td>\n",
       "      <td>15</td>\n",
       "      <td>14</td>\n",
       "      <td>120</td>\n",
       "      <td>2.658720</td>\n",
       "      <td>0.821280</td>\n",
       "      <td>2.9</td>\n",
       "      <td>0</td>\n",
       "    </tr>\n",
       "    <tr>\n",
       "      <th>4</th>\n",
       "      <td>5</td>\n",
       "      <td>24</td>\n",
       "      <td>2</td>\n",
       "      <td>2</td>\n",
       "      <td>0</td>\n",
       "      <td>28</td>\n",
       "      <td>1.787436</td>\n",
       "      <td>3.056564</td>\n",
       "      <td>17.3</td>\n",
       "      <td>1</td>\n",
       "    </tr>\n",
       "    <tr>\n",
       "      <th>5</th>\n",
       "      <td>6</td>\n",
       "      <td>41</td>\n",
       "      <td>2</td>\n",
       "      <td>5</td>\n",
       "      <td>5</td>\n",
       "      <td>25</td>\n",
       "      <td>0.392700</td>\n",
       "      <td>2.157300</td>\n",
       "      <td>10.2</td>\n",
       "      <td>0</td>\n",
       "    </tr>\n",
       "    <tr>\n",
       "      <th>6</th>\n",
       "      <td>7</td>\n",
       "      <td>39</td>\n",
       "      <td>1</td>\n",
       "      <td>20</td>\n",
       "      <td>9</td>\n",
       "      <td>67</td>\n",
       "      <td>3.833874</td>\n",
       "      <td>16.668126</td>\n",
       "      <td>30.6</td>\n",
       "      <td>0</td>\n",
       "    </tr>\n",
       "    <tr>\n",
       "      <th>7</th>\n",
       "      <td>8</td>\n",
       "      <td>43</td>\n",
       "      <td>1</td>\n",
       "      <td>12</td>\n",
       "      <td>11</td>\n",
       "      <td>38</td>\n",
       "      <td>0.128592</td>\n",
       "      <td>1.239408</td>\n",
       "      <td>3.6</td>\n",
       "      <td>0</td>\n",
       "    </tr>\n",
       "    <tr>\n",
       "      <th>8</th>\n",
       "      <td>9</td>\n",
       "      <td>24</td>\n",
       "      <td>1</td>\n",
       "      <td>3</td>\n",
       "      <td>4</td>\n",
       "      <td>19</td>\n",
       "      <td>1.358348</td>\n",
       "      <td>3.277652</td>\n",
       "      <td>24.4</td>\n",
       "      <td>1</td>\n",
       "    </tr>\n",
       "    <tr>\n",
       "      <th>9</th>\n",
       "      <td>10</td>\n",
       "      <td>36</td>\n",
       "      <td>1</td>\n",
       "      <td>0</td>\n",
       "      <td>13</td>\n",
       "      <td>25</td>\n",
       "      <td>2.777700</td>\n",
       "      <td>2.147300</td>\n",
       "      <td>19.7</td>\n",
       "      <td>0</td>\n",
       "    </tr>\n",
       "    <tr>\n",
       "      <th>10</th>\n",
       "      <td>11</td>\n",
       "      <td>27</td>\n",
       "      <td>1</td>\n",
       "      <td>0</td>\n",
       "      <td>1</td>\n",
       "      <td>16</td>\n",
       "      <td>0.182512</td>\n",
       "      <td>0.089488</td>\n",
       "      <td>1.7</td>\n",
       "      <td>0</td>\n",
       "    </tr>\n",
       "    <tr>\n",
       "      <th>11</th>\n",
       "      <td>12</td>\n",
       "      <td>25</td>\n",
       "      <td>1</td>\n",
       "      <td>4</td>\n",
       "      <td>0</td>\n",
       "      <td>23</td>\n",
       "      <td>0.252356</td>\n",
       "      <td>0.943644</td>\n",
       "      <td>5.2</td>\n",
       "      <td>0</td>\n",
       "    </tr>\n",
       "    <tr>\n",
       "      <th>12</th>\n",
       "      <td>13</td>\n",
       "      <td>52</td>\n",
       "      <td>1</td>\n",
       "      <td>24</td>\n",
       "      <td>14</td>\n",
       "      <td>64</td>\n",
       "      <td>3.929600</td>\n",
       "      <td>2.470400</td>\n",
       "      <td>10.0</td>\n",
       "      <td>0</td>\n",
       "    </tr>\n",
       "    <tr>\n",
       "      <th>13</th>\n",
       "      <td>14</td>\n",
       "      <td>37</td>\n",
       "      <td>1</td>\n",
       "      <td>6</td>\n",
       "      <td>9</td>\n",
       "      <td>29</td>\n",
       "      <td>1.715901</td>\n",
       "      <td>3.011099</td>\n",
       "      <td>16.3</td>\n",
       "      <td>0</td>\n",
       "    </tr>\n",
       "    <tr>\n",
       "      <th>14</th>\n",
       "      <td>15</td>\n",
       "      <td>48</td>\n",
       "      <td>1</td>\n",
       "      <td>22</td>\n",
       "      <td>15</td>\n",
       "      <td>100</td>\n",
       "      <td>3.703700</td>\n",
       "      <td>5.396300</td>\n",
       "      <td>9.1</td>\n",
       "      <td>0</td>\n",
       "    </tr>\n",
       "    <tr>\n",
       "      <th>15</th>\n",
       "      <td>16</td>\n",
       "      <td>36</td>\n",
       "      <td>2</td>\n",
       "      <td>10</td>\n",
       "      <td>7</td>\n",
       "      <td>49</td>\n",
       "      <td>0.817516</td>\n",
       "      <td>3.396484</td>\n",
       "      <td>8.6</td>\n",
       "      <td>1</td>\n",
       "    </tr>\n",
       "    <tr>\n",
       "      <th>16</th>\n",
       "      <td>17</td>\n",
       "      <td>36</td>\n",
       "      <td>2</td>\n",
       "      <td>13</td>\n",
       "      <td>6</td>\n",
       "      <td>41</td>\n",
       "      <td>2.918216</td>\n",
       "      <td>3.805784</td>\n",
       "      <td>16.4</td>\n",
       "      <td>1</td>\n",
       "    </tr>\n",
       "    <tr>\n",
       "      <th>17</th>\n",
       "      <td>18</td>\n",
       "      <td>43</td>\n",
       "      <td>1</td>\n",
       "      <td>23</td>\n",
       "      <td>19</td>\n",
       "      <td>72</td>\n",
       "      <td>1.181952</td>\n",
       "      <td>4.290048</td>\n",
       "      <td>7.6</td>\n",
       "      <td>0</td>\n",
       "    </tr>\n",
       "    <tr>\n",
       "      <th>18</th>\n",
       "      <td>19</td>\n",
       "      <td>39</td>\n",
       "      <td>1</td>\n",
       "      <td>6</td>\n",
       "      <td>9</td>\n",
       "      <td>61</td>\n",
       "      <td>0.563274</td>\n",
       "      <td>2.913726</td>\n",
       "      <td>5.7</td>\n",
       "      <td>0</td>\n",
       "    </tr>\n",
       "    <tr>\n",
       "      <th>19</th>\n",
       "      <td>20</td>\n",
       "      <td>41</td>\n",
       "      <td>3</td>\n",
       "      <td>0</td>\n",
       "      <td>21</td>\n",
       "      <td>26</td>\n",
       "      <td>0.099008</td>\n",
       "      <td>0.342992</td>\n",
       "      <td>1.7</td>\n",
       "      <td>0</td>\n",
       "    </tr>\n",
       "    <tr>\n",
       "      <th>20</th>\n",
       "      <td>21</td>\n",
       "      <td>39</td>\n",
       "      <td>1</td>\n",
       "      <td>22</td>\n",
       "      <td>3</td>\n",
       "      <td>52</td>\n",
       "      <td>1.154816</td>\n",
       "      <td>0.509184</td>\n",
       "      <td>3.2</td>\n",
       "      <td>0</td>\n",
       "    </tr>\n",
       "    <tr>\n",
       "      <th>21</th>\n",
       "      <td>22</td>\n",
       "      <td>47</td>\n",
       "      <td>1</td>\n",
       "      <td>17</td>\n",
       "      <td>21</td>\n",
       "      <td>43</td>\n",
       "      <td>0.587552</td>\n",
       "      <td>1.820448</td>\n",
       "      <td>5.6</td>\n",
       "      <td>0</td>\n",
       "    </tr>\n",
       "    <tr>\n",
       "      <th>22</th>\n",
       "      <td>23</td>\n",
       "      <td>28</td>\n",
       "      <td>1</td>\n",
       "      <td>3</td>\n",
       "      <td>6</td>\n",
       "      <td>26</td>\n",
       "      <td>0.431600</td>\n",
       "      <td>2.168400</td>\n",
       "      <td>10.0</td>\n",
       "      <td>0</td>\n",
       "    </tr>\n",
       "    <tr>\n",
       "      <th>23</th>\n",
       "      <td>24</td>\n",
       "      <td>29</td>\n",
       "      <td>1</td>\n",
       "      <td>8</td>\n",
       "      <td>6</td>\n",
       "      <td>27</td>\n",
       "      <td>0.402192</td>\n",
       "      <td>2.243808</td>\n",
       "      <td>9.8</td>\n",
       "      <td>0</td>\n",
       "    </tr>\n",
       "    <tr>\n",
       "      <th>24</th>\n",
       "      <td>25</td>\n",
       "      <td>21</td>\n",
       "      <td>2</td>\n",
       "      <td>1</td>\n",
       "      <td>2</td>\n",
       "      <td>16</td>\n",
       "      <td>0.241920</td>\n",
       "      <td>2.638080</td>\n",
       "      <td>18.0</td>\n",
       "      <td>1</td>\n",
       "    </tr>\n",
       "    <tr>\n",
       "      <th>25</th>\n",
       "      <td>26</td>\n",
       "      <td>25</td>\n",
       "      <td>4</td>\n",
       "      <td>0</td>\n",
       "      <td>2</td>\n",
       "      <td>32</td>\n",
       "      <td>2.140160</td>\n",
       "      <td>3.491840</td>\n",
       "      <td>17.6</td>\n",
       "      <td>0</td>\n",
       "    </tr>\n",
       "    <tr>\n",
       "      <th>26</th>\n",
       "      <td>27</td>\n",
       "      <td>45</td>\n",
       "      <td>2</td>\n",
       "      <td>10</td>\n",
       "      <td>27</td>\n",
       "      <td>69</td>\n",
       "      <td>0.707319</td>\n",
       "      <td>3.915681</td>\n",
       "      <td>6.7</td>\n",
       "      <td>0</td>\n",
       "    </tr>\n",
       "    <tr>\n",
       "      <th>27</th>\n",
       "      <td>28</td>\n",
       "      <td>43</td>\n",
       "      <td>1</td>\n",
       "      <td>25</td>\n",
       "      <td>21</td>\n",
       "      <td>64</td>\n",
       "      <td>0.951232</td>\n",
       "      <td>9.736768</td>\n",
       "      <td>16.7</td>\n",
       "      <td>0</td>\n",
       "    </tr>\n",
       "    <tr>\n",
       "      <th>28</th>\n",
       "      <td>29</td>\n",
       "      <td>33</td>\n",
       "      <td>2</td>\n",
       "      <td>12</td>\n",
       "      <td>8</td>\n",
       "      <td>58</td>\n",
       "      <td>3.084208</td>\n",
       "      <td>7.587792</td>\n",
       "      <td>18.4</td>\n",
       "      <td>0</td>\n",
       "    </tr>\n",
       "    <tr>\n",
       "      <th>29</th>\n",
       "      <td>30</td>\n",
       "      <td>26</td>\n",
       "      <td>3</td>\n",
       "      <td>2</td>\n",
       "      <td>1</td>\n",
       "      <td>37</td>\n",
       "      <td>0.204906</td>\n",
       "      <td>5.049094</td>\n",
       "      <td>14.2</td>\n",
       "      <td>0</td>\n",
       "    </tr>\n",
       "    <tr>\n",
       "      <th>...</th>\n",
       "      <td>...</td>\n",
       "      <td>...</td>\n",
       "      <td>...</td>\n",
       "      <td>...</td>\n",
       "      <td>...</td>\n",
       "      <td>...</td>\n",
       "      <td>...</td>\n",
       "      <td>...</td>\n",
       "      <td>...</td>\n",
       "      <td>...</td>\n",
       "    </tr>\n",
       "    <tr>\n",
       "      <th>470</th>\n",
       "      <td>471</td>\n",
       "      <td>29</td>\n",
       "      <td>1</td>\n",
       "      <td>7</td>\n",
       "      <td>5</td>\n",
       "      <td>20</td>\n",
       "      <td>1.005840</td>\n",
       "      <td>2.954160</td>\n",
       "      <td>19.8</td>\n",
       "      <td>1</td>\n",
       "    </tr>\n",
       "    <tr>\n",
       "      <th>471</th>\n",
       "      <td>472</td>\n",
       "      <td>24</td>\n",
       "      <td>4</td>\n",
       "      <td>0</td>\n",
       "      <td>3</td>\n",
       "      <td>29</td>\n",
       "      <td>0.589512</td>\n",
       "      <td>1.324488</td>\n",
       "      <td>6.6</td>\n",
       "      <td>1</td>\n",
       "    </tr>\n",
       "    <tr>\n",
       "      <th>472</th>\n",
       "      <td>473</td>\n",
       "      <td>44</td>\n",
       "      <td>1</td>\n",
       "      <td>12</td>\n",
       "      <td>3</td>\n",
       "      <td>31</td>\n",
       "      <td>0.357833</td>\n",
       "      <td>2.649167</td>\n",
       "      <td>9.7</td>\n",
       "      <td>0</td>\n",
       "    </tr>\n",
       "    <tr>\n",
       "      <th>473</th>\n",
       "      <td>474</td>\n",
       "      <td>22</td>\n",
       "      <td>1</td>\n",
       "      <td>1</td>\n",
       "      <td>0</td>\n",
       "      <td>18</td>\n",
       "      <td>0.270072</td>\n",
       "      <td>0.521928</td>\n",
       "      <td>4.4</td>\n",
       "      <td>0</td>\n",
       "    </tr>\n",
       "    <tr>\n",
       "      <th>474</th>\n",
       "      <td>475</td>\n",
       "      <td>38</td>\n",
       "      <td>2</td>\n",
       "      <td>13</td>\n",
       "      <td>0</td>\n",
       "      <td>59</td>\n",
       "      <td>0.407808</td>\n",
       "      <td>1.008192</td>\n",
       "      <td>2.4</td>\n",
       "      <td>0</td>\n",
       "    </tr>\n",
       "    <tr>\n",
       "      <th>475</th>\n",
       "      <td>476</td>\n",
       "      <td>52</td>\n",
       "      <td>2</td>\n",
       "      <td>12</td>\n",
       "      <td>16</td>\n",
       "      <td>76</td>\n",
       "      <td>0.994840</td>\n",
       "      <td>4.857160</td>\n",
       "      <td>7.7</td>\n",
       "      <td>0</td>\n",
       "    </tr>\n",
       "    <tr>\n",
       "      <th>476</th>\n",
       "      <td>477</td>\n",
       "      <td>25</td>\n",
       "      <td>1</td>\n",
       "      <td>3</td>\n",
       "      <td>2</td>\n",
       "      <td>18</td>\n",
       "      <td>0.352080</td>\n",
       "      <td>2.581920</td>\n",
       "      <td>16.3</td>\n",
       "      <td>1</td>\n",
       "    </tr>\n",
       "    <tr>\n",
       "      <th>477</th>\n",
       "      <td>478</td>\n",
       "      <td>25</td>\n",
       "      <td>1</td>\n",
       "      <td>5</td>\n",
       "      <td>5</td>\n",
       "      <td>22</td>\n",
       "      <td>0.402864</td>\n",
       "      <td>1.995136</td>\n",
       "      <td>10.9</td>\n",
       "      <td>0</td>\n",
       "    </tr>\n",
       "    <tr>\n",
       "      <th>478</th>\n",
       "      <td>479</td>\n",
       "      <td>51</td>\n",
       "      <td>2</td>\n",
       "      <td>27</td>\n",
       "      <td>21</td>\n",
       "      <td>166</td>\n",
       "      <td>0.820870</td>\n",
       "      <td>18.269130</td>\n",
       "      <td>11.5</td>\n",
       "      <td>0</td>\n",
       "    </tr>\n",
       "    <tr>\n",
       "      <th>479</th>\n",
       "      <td>480</td>\n",
       "      <td>38</td>\n",
       "      <td>1</td>\n",
       "      <td>21</td>\n",
       "      <td>16</td>\n",
       "      <td>58</td>\n",
       "      <td>4.584030</td>\n",
       "      <td>4.985970</td>\n",
       "      <td>16.5</td>\n",
       "      <td>0</td>\n",
       "    </tr>\n",
       "    <tr>\n",
       "      <th>480</th>\n",
       "      <td>481</td>\n",
       "      <td>44</td>\n",
       "      <td>1</td>\n",
       "      <td>9</td>\n",
       "      <td>20</td>\n",
       "      <td>33</td>\n",
       "      <td>0.545688</td>\n",
       "      <td>1.170312</td>\n",
       "      <td>5.2</td>\n",
       "      <td>0</td>\n",
       "    </tr>\n",
       "    <tr>\n",
       "      <th>481</th>\n",
       "      <td>482</td>\n",
       "      <td>24</td>\n",
       "      <td>2</td>\n",
       "      <td>2</td>\n",
       "      <td>3</td>\n",
       "      <td>26</td>\n",
       "      <td>0.887744</td>\n",
       "      <td>1.634256</td>\n",
       "      <td>9.7</td>\n",
       "      <td>1</td>\n",
       "    </tr>\n",
       "    <tr>\n",
       "      <th>482</th>\n",
       "      <td>483</td>\n",
       "      <td>34</td>\n",
       "      <td>1</td>\n",
       "      <td>5</td>\n",
       "      <td>3</td>\n",
       "      <td>33</td>\n",
       "      <td>0.778107</td>\n",
       "      <td>1.630893</td>\n",
       "      <td>7.3</td>\n",
       "      <td>0</td>\n",
       "    </tr>\n",
       "    <tr>\n",
       "      <th>483</th>\n",
       "      <td>484</td>\n",
       "      <td>25</td>\n",
       "      <td>2</td>\n",
       "      <td>6</td>\n",
       "      <td>2</td>\n",
       "      <td>28</td>\n",
       "      <td>0.070200</td>\n",
       "      <td>1.099800</td>\n",
       "      <td>4.5</td>\n",
       "      <td>0</td>\n",
       "    </tr>\n",
       "    <tr>\n",
       "      <th>484</th>\n",
       "      <td>485</td>\n",
       "      <td>45</td>\n",
       "      <td>3</td>\n",
       "      <td>5</td>\n",
       "      <td>17</td>\n",
       "      <td>94</td>\n",
       "      <td>3.612420</td>\n",
       "      <td>6.257580</td>\n",
       "      <td>10.5</td>\n",
       "      <td>1</td>\n",
       "    </tr>\n",
       "    <tr>\n",
       "      <th>485</th>\n",
       "      <td>486</td>\n",
       "      <td>34</td>\n",
       "      <td>2</td>\n",
       "      <td>4</td>\n",
       "      <td>10</td>\n",
       "      <td>25</td>\n",
       "      <td>0.569850</td>\n",
       "      <td>0.880150</td>\n",
       "      <td>5.8</td>\n",
       "      <td>0</td>\n",
       "    </tr>\n",
       "    <tr>\n",
       "      <th>486</th>\n",
       "      <td>487</td>\n",
       "      <td>27</td>\n",
       "      <td>4</td>\n",
       "      <td>2</td>\n",
       "      <td>8</td>\n",
       "      <td>23</td>\n",
       "      <td>0.319884</td>\n",
       "      <td>0.991116</td>\n",
       "      <td>5.7</td>\n",
       "      <td>1</td>\n",
       "    </tr>\n",
       "    <tr>\n",
       "      <th>487</th>\n",
       "      <td>488</td>\n",
       "      <td>33</td>\n",
       "      <td>2</td>\n",
       "      <td>10</td>\n",
       "      <td>13</td>\n",
       "      <td>57</td>\n",
       "      <td>6.111369</td>\n",
       "      <td>5.801631</td>\n",
       "      <td>20.9</td>\n",
       "      <td>1</td>\n",
       "    </tr>\n",
       "    <tr>\n",
       "      <th>488</th>\n",
       "      <td>489</td>\n",
       "      <td>35</td>\n",
       "      <td>2</td>\n",
       "      <td>0</td>\n",
       "      <td>16</td>\n",
       "      <td>22</td>\n",
       "      <td>1.970100</td>\n",
       "      <td>1.329900</td>\n",
       "      <td>15.0</td>\n",
       "      <td>1</td>\n",
       "    </tr>\n",
       "    <tr>\n",
       "      <th>489</th>\n",
       "      <td>490</td>\n",
       "      <td>50</td>\n",
       "      <td>2</td>\n",
       "      <td>15</td>\n",
       "      <td>31</td>\n",
       "      <td>60</td>\n",
       "      <td>0.467940</td>\n",
       "      <td>0.192060</td>\n",
       "      <td>1.1</td>\n",
       "      <td>0</td>\n",
       "    </tr>\n",
       "    <tr>\n",
       "      <th>490</th>\n",
       "      <td>491</td>\n",
       "      <td>33</td>\n",
       "      <td>1</td>\n",
       "      <td>13</td>\n",
       "      <td>13</td>\n",
       "      <td>42</td>\n",
       "      <td>0.228312</td>\n",
       "      <td>1.283688</td>\n",
       "      <td>3.6</td>\n",
       "      <td>0</td>\n",
       "    </tr>\n",
       "    <tr>\n",
       "      <th>491</th>\n",
       "      <td>492</td>\n",
       "      <td>41</td>\n",
       "      <td>3</td>\n",
       "      <td>13</td>\n",
       "      <td>13</td>\n",
       "      <td>91</td>\n",
       "      <td>2.316132</td>\n",
       "      <td>20.615868</td>\n",
       "      <td>25.2</td>\n",
       "      <td>1</td>\n",
       "    </tr>\n",
       "    <tr>\n",
       "      <th>492</th>\n",
       "      <td>493</td>\n",
       "      <td>28</td>\n",
       "      <td>1</td>\n",
       "      <td>0</td>\n",
       "      <td>2</td>\n",
       "      <td>28</td>\n",
       "      <td>2.284380</td>\n",
       "      <td>7.039620</td>\n",
       "      <td>33.3</td>\n",
       "      <td>1</td>\n",
       "    </tr>\n",
       "    <tr>\n",
       "      <th>493</th>\n",
       "      <td>494</td>\n",
       "      <td>38</td>\n",
       "      <td>3</td>\n",
       "      <td>12</td>\n",
       "      <td>14</td>\n",
       "      <td>63</td>\n",
       "      <td>5.715360</td>\n",
       "      <td>4.364640</td>\n",
       "      <td>16.0</td>\n",
       "      <td>1</td>\n",
       "    </tr>\n",
       "    <tr>\n",
       "      <th>494</th>\n",
       "      <td>495</td>\n",
       "      <td>25</td>\n",
       "      <td>1</td>\n",
       "      <td>3</td>\n",
       "      <td>2</td>\n",
       "      <td>16</td>\n",
       "      <td>1.011040</td>\n",
       "      <td>1.836960</td>\n",
       "      <td>17.8</td>\n",
       "      <td>1</td>\n",
       "    </tr>\n",
       "    <tr>\n",
       "      <th>495</th>\n",
       "      <td>496</td>\n",
       "      <td>47</td>\n",
       "      <td>2</td>\n",
       "      <td>4</td>\n",
       "      <td>9</td>\n",
       "      <td>33</td>\n",
       "      <td>1.194930</td>\n",
       "      <td>1.148070</td>\n",
       "      <td>7.1</td>\n",
       "      <td>1</td>\n",
       "    </tr>\n",
       "    <tr>\n",
       "      <th>496</th>\n",
       "      <td>497</td>\n",
       "      <td>30</td>\n",
       "      <td>2</td>\n",
       "      <td>12</td>\n",
       "      <td>9</td>\n",
       "      <td>98</td>\n",
       "      <td>2.935296</td>\n",
       "      <td>4.120704</td>\n",
       "      <td>7.2</td>\n",
       "      <td>0</td>\n",
       "    </tr>\n",
       "    <tr>\n",
       "      <th>497</th>\n",
       "      <td>498</td>\n",
       "      <td>44</td>\n",
       "      <td>2</td>\n",
       "      <td>12</td>\n",
       "      <td>5</td>\n",
       "      <td>86</td>\n",
       "      <td>1.475760</td>\n",
       "      <td>9.704240</td>\n",
       "      <td>13.0</td>\n",
       "      <td>0</td>\n",
       "    </tr>\n",
       "    <tr>\n",
       "      <th>498</th>\n",
       "      <td>499</td>\n",
       "      <td>25</td>\n",
       "      <td>1</td>\n",
       "      <td>0</td>\n",
       "      <td>2</td>\n",
       "      <td>18</td>\n",
       "      <td>0.513702</td>\n",
       "      <td>2.888298</td>\n",
       "      <td>18.9</td>\n",
       "      <td>1</td>\n",
       "    </tr>\n",
       "    <tr>\n",
       "      <th>499</th>\n",
       "      <td>500</td>\n",
       "      <td>41</td>\n",
       "      <td>2</td>\n",
       "      <td>7</td>\n",
       "      <td>0</td>\n",
       "      <td>36</td>\n",
       "      <td>4.570000</td>\n",
       "      <td>2.570000</td>\n",
       "      <td>19.5</td>\n",
       "      <td>1</td>\n",
       "    </tr>\n",
       "  </tbody>\n",
       "</table>\n",
       "<p>500 rows × 10 columns</p>\n",
       "</div>"
      ],
      "text/plain": [
       "      ID  IDADE  EDUCACAO  TEMPO_EMP  TEMPO_END  RENDA  DIVIDA_CC  OUTRAS_DIV  \\\n",
       "0      1     41         3         18          7    176  11.359392    5.008608   \n",
       "1      2     27         1         10          6     31   1.362202    4.000798   \n",
       "2      3     40         1         15         14     55   0.856075    2.168925   \n",
       "3      4     41         1         15         14    120   2.658720    0.821280   \n",
       "4      5     24         2          2          0     28   1.787436    3.056564   \n",
       "5      6     41         2          5          5     25   0.392700    2.157300   \n",
       "6      7     39         1         20          9     67   3.833874   16.668126   \n",
       "7      8     43         1         12         11     38   0.128592    1.239408   \n",
       "8      9     24         1          3          4     19   1.358348    3.277652   \n",
       "9     10     36         1          0         13     25   2.777700    2.147300   \n",
       "10    11     27         1          0          1     16   0.182512    0.089488   \n",
       "11    12     25         1          4          0     23   0.252356    0.943644   \n",
       "12    13     52         1         24         14     64   3.929600    2.470400   \n",
       "13    14     37         1          6          9     29   1.715901    3.011099   \n",
       "14    15     48         1         22         15    100   3.703700    5.396300   \n",
       "15    16     36         2         10          7     49   0.817516    3.396484   \n",
       "16    17     36         2         13          6     41   2.918216    3.805784   \n",
       "17    18     43         1         23         19     72   1.181952    4.290048   \n",
       "18    19     39         1          6          9     61   0.563274    2.913726   \n",
       "19    20     41         3          0         21     26   0.099008    0.342992   \n",
       "20    21     39         1         22          3     52   1.154816    0.509184   \n",
       "21    22     47         1         17         21     43   0.587552    1.820448   \n",
       "22    23     28         1          3          6     26   0.431600    2.168400   \n",
       "23    24     29         1          8          6     27   0.402192    2.243808   \n",
       "24    25     21         2          1          2     16   0.241920    2.638080   \n",
       "25    26     25         4          0          2     32   2.140160    3.491840   \n",
       "26    27     45         2         10         27     69   0.707319    3.915681   \n",
       "27    28     43         1         25         21     64   0.951232    9.736768   \n",
       "28    29     33         2         12          8     58   3.084208    7.587792   \n",
       "29    30     26         3          2          1     37   0.204906    5.049094   \n",
       "..   ...    ...       ...        ...        ...    ...        ...         ...   \n",
       "470  471     29         1          7          5     20   1.005840    2.954160   \n",
       "471  472     24         4          0          3     29   0.589512    1.324488   \n",
       "472  473     44         1         12          3     31   0.357833    2.649167   \n",
       "473  474     22         1          1          0     18   0.270072    0.521928   \n",
       "474  475     38         2         13          0     59   0.407808    1.008192   \n",
       "475  476     52         2         12         16     76   0.994840    4.857160   \n",
       "476  477     25         1          3          2     18   0.352080    2.581920   \n",
       "477  478     25         1          5          5     22   0.402864    1.995136   \n",
       "478  479     51         2         27         21    166   0.820870   18.269130   \n",
       "479  480     38         1         21         16     58   4.584030    4.985970   \n",
       "480  481     44         1          9         20     33   0.545688    1.170312   \n",
       "481  482     24         2          2          3     26   0.887744    1.634256   \n",
       "482  483     34         1          5          3     33   0.778107    1.630893   \n",
       "483  484     25         2          6          2     28   0.070200    1.099800   \n",
       "484  485     45         3          5         17     94   3.612420    6.257580   \n",
       "485  486     34         2          4         10     25   0.569850    0.880150   \n",
       "486  487     27         4          2          8     23   0.319884    0.991116   \n",
       "487  488     33         2         10         13     57   6.111369    5.801631   \n",
       "488  489     35         2          0         16     22   1.970100    1.329900   \n",
       "489  490     50         2         15         31     60   0.467940    0.192060   \n",
       "490  491     33         1         13         13     42   0.228312    1.283688   \n",
       "491  492     41         3         13         13     91   2.316132   20.615868   \n",
       "492  493     28         1          0          2     28   2.284380    7.039620   \n",
       "493  494     38         3         12         14     63   5.715360    4.364640   \n",
       "494  495     25         1          3          2     16   1.011040    1.836960   \n",
       "495  496     47         2          4          9     33   1.194930    1.148070   \n",
       "496  497     30         2         12          9     98   2.935296    4.120704   \n",
       "497  498     44         2         12          5     86   1.475760    9.704240   \n",
       "498  499     25         1          0          2     18   0.513702    2.888298   \n",
       "499  500     41         2          7          0     36   4.570000    2.570000   \n",
       "\n",
       "     GRAU_ENDIV  DEFAULT  \n",
       "0          10.3        1  \n",
       "1          17.3        0  \n",
       "2           5.5        0  \n",
       "3           2.9        0  \n",
       "4          17.3        1  \n",
       "5          10.2        0  \n",
       "6          30.6        0  \n",
       "7           3.6        0  \n",
       "8          24.4        1  \n",
       "9          19.7        0  \n",
       "10          1.7        0  \n",
       "11          5.2        0  \n",
       "12         10.0        0  \n",
       "13         16.3        0  \n",
       "14          9.1        0  \n",
       "15          8.6        1  \n",
       "16         16.4        1  \n",
       "17          7.6        0  \n",
       "18          5.7        0  \n",
       "19          1.7        0  \n",
       "20          3.2        0  \n",
       "21          5.6        0  \n",
       "22         10.0        0  \n",
       "23          9.8        0  \n",
       "24         18.0        1  \n",
       "25         17.6        0  \n",
       "26          6.7        0  \n",
       "27         16.7        0  \n",
       "28         18.4        0  \n",
       "29         14.2        0  \n",
       "..          ...      ...  \n",
       "470        19.8        1  \n",
       "471         6.6        1  \n",
       "472         9.7        0  \n",
       "473         4.4        0  \n",
       "474         2.4        0  \n",
       "475         7.7        0  \n",
       "476        16.3        1  \n",
       "477        10.9        0  \n",
       "478        11.5        0  \n",
       "479        16.5        0  \n",
       "480         5.2        0  \n",
       "481         9.7        1  \n",
       "482         7.3        0  \n",
       "483         4.5        0  \n",
       "484        10.5        1  \n",
       "485         5.8        0  \n",
       "486         5.7        1  \n",
       "487        20.9        1  \n",
       "488        15.0        1  \n",
       "489         1.1        0  \n",
       "490         3.6        0  \n",
       "491        25.2        1  \n",
       "492        33.3        1  \n",
       "493        16.0        1  \n",
       "494        17.8        1  \n",
       "495         7.1        1  \n",
       "496         7.2        0  \n",
       "497        13.0        0  \n",
       "498        18.9        1  \n",
       "499        19.5        1  \n",
       "\n",
       "[500 rows x 10 columns]"
      ]
     },
     "execution_count": 20,
     "metadata": {},
     "output_type": "execute_result"
    }
   ],
   "source": [
    "dados.iloc[:,:]"
   ]
  },
  {
   "cell_type": "markdown",
   "metadata": {
    "slideshow": {
     "slide_type": "slide"
    }
   },
   "source": [
    "## Slices de células descontínuas\n",
    "\n",
    "Ou então utilizar uma tupla para especificar apenas um conjunto limitado de células"
   ]
  },
  {
   "cell_type": "code",
   "execution_count": 21,
   "metadata": {
    "collapsed": false,
    "slideshow": {
     "slide_type": "fragment"
    }
   },
   "outputs": [
    {
     "data": {
      "text/html": [
       "<div>\n",
       "<table border=\"1\" class=\"dataframe\">\n",
       "  <thead>\n",
       "    <tr style=\"text-align: right;\">\n",
       "      <th></th>\n",
       "      <th>EDUCACAO</th>\n",
       "      <th>TEMPO_END</th>\n",
       "      <th>OUTRAS_DIV</th>\n",
       "    </tr>\n",
       "  </thead>\n",
       "  <tbody>\n",
       "    <tr>\n",
       "      <th>5</th>\n",
       "      <td>2</td>\n",
       "      <td>5</td>\n",
       "      <td>2.1573</td>\n",
       "    </tr>\n",
       "    <tr>\n",
       "      <th>9</th>\n",
       "      <td>1</td>\n",
       "      <td>13</td>\n",
       "      <td>2.1473</td>\n",
       "    </tr>\n",
       "  </tbody>\n",
       "</table>\n",
       "</div>"
      ],
      "text/plain": [
       "   EDUCACAO  TEMPO_END  OUTRAS_DIV\n",
       "5         2          5      2.1573\n",
       "9         1         13      2.1473"
      ]
     },
     "execution_count": 21,
     "metadata": {},
     "output_type": "execute_result"
    }
   ],
   "source": [
    "dados.iloc[(5,9), (2, 4, 7)]"
   ]
  },
  {
   "cell_type": "markdown",
   "metadata": {
    "slideshow": {
     "slide_type": "slide"
    }
   },
   "source": [
    "## Filtragem de células dada uma condição\n",
    "\n",
    "Pode-se especificar uma condição para selecionar apenas as linhas em que aquela condição é válida!\n",
    "\n",
    "Abaixo, reduz o *Dataframe* selecionando apenas linhas quando a informação da coluna IDADE >40!\n",
    "Note que considera todas as colunas do dataset."
   ]
  },
  {
   "cell_type": "code",
   "execution_count": 22,
   "metadata": {
    "collapsed": false
   },
   "outputs": [
    {
     "data": {
      "text/html": [
       "<div>\n",
       "<table border=\"1\" class=\"dataframe\">\n",
       "  <thead>\n",
       "    <tr style=\"text-align: right;\">\n",
       "      <th></th>\n",
       "      <th>ID</th>\n",
       "      <th>IDADE</th>\n",
       "      <th>EDUCACAO</th>\n",
       "      <th>TEMPO_EMP</th>\n",
       "      <th>TEMPO_END</th>\n",
       "      <th>RENDA</th>\n",
       "      <th>DIVIDA_CC</th>\n",
       "      <th>OUTRAS_DIV</th>\n",
       "      <th>GRAU_ENDIV</th>\n",
       "      <th>DEFAULT</th>\n",
       "    </tr>\n",
       "  </thead>\n",
       "  <tbody>\n",
       "    <tr>\n",
       "      <th>0</th>\n",
       "      <td>1</td>\n",
       "      <td>41</td>\n",
       "      <td>3</td>\n",
       "      <td>18</td>\n",
       "      <td>7</td>\n",
       "      <td>176</td>\n",
       "      <td>11.359392</td>\n",
       "      <td>5.008608</td>\n",
       "      <td>10.3</td>\n",
       "      <td>1</td>\n",
       "    </tr>\n",
       "    <tr>\n",
       "      <th>3</th>\n",
       "      <td>4</td>\n",
       "      <td>41</td>\n",
       "      <td>1</td>\n",
       "      <td>15</td>\n",
       "      <td>14</td>\n",
       "      <td>120</td>\n",
       "      <td>2.658720</td>\n",
       "      <td>0.821280</td>\n",
       "      <td>2.9</td>\n",
       "      <td>0</td>\n",
       "    </tr>\n",
       "    <tr>\n",
       "      <th>5</th>\n",
       "      <td>6</td>\n",
       "      <td>41</td>\n",
       "      <td>2</td>\n",
       "      <td>5</td>\n",
       "      <td>5</td>\n",
       "      <td>25</td>\n",
       "      <td>0.392700</td>\n",
       "      <td>2.157300</td>\n",
       "      <td>10.2</td>\n",
       "      <td>0</td>\n",
       "    </tr>\n",
       "    <tr>\n",
       "      <th>7</th>\n",
       "      <td>8</td>\n",
       "      <td>43</td>\n",
       "      <td>1</td>\n",
       "      <td>12</td>\n",
       "      <td>11</td>\n",
       "      <td>38</td>\n",
       "      <td>0.128592</td>\n",
       "      <td>1.239408</td>\n",
       "      <td>3.6</td>\n",
       "      <td>0</td>\n",
       "    </tr>\n",
       "    <tr>\n",
       "      <th>12</th>\n",
       "      <td>13</td>\n",
       "      <td>52</td>\n",
       "      <td>1</td>\n",
       "      <td>24</td>\n",
       "      <td>14</td>\n",
       "      <td>64</td>\n",
       "      <td>3.929600</td>\n",
       "      <td>2.470400</td>\n",
       "      <td>10.0</td>\n",
       "      <td>0</td>\n",
       "    </tr>\n",
       "    <tr>\n",
       "      <th>14</th>\n",
       "      <td>15</td>\n",
       "      <td>48</td>\n",
       "      <td>1</td>\n",
       "      <td>22</td>\n",
       "      <td>15</td>\n",
       "      <td>100</td>\n",
       "      <td>3.703700</td>\n",
       "      <td>5.396300</td>\n",
       "      <td>9.1</td>\n",
       "      <td>0</td>\n",
       "    </tr>\n",
       "    <tr>\n",
       "      <th>17</th>\n",
       "      <td>18</td>\n",
       "      <td>43</td>\n",
       "      <td>1</td>\n",
       "      <td>23</td>\n",
       "      <td>19</td>\n",
       "      <td>72</td>\n",
       "      <td>1.181952</td>\n",
       "      <td>4.290048</td>\n",
       "      <td>7.6</td>\n",
       "      <td>0</td>\n",
       "    </tr>\n",
       "    <tr>\n",
       "      <th>19</th>\n",
       "      <td>20</td>\n",
       "      <td>41</td>\n",
       "      <td>3</td>\n",
       "      <td>0</td>\n",
       "      <td>21</td>\n",
       "      <td>26</td>\n",
       "      <td>0.099008</td>\n",
       "      <td>0.342992</td>\n",
       "      <td>1.7</td>\n",
       "      <td>0</td>\n",
       "    </tr>\n",
       "    <tr>\n",
       "      <th>21</th>\n",
       "      <td>22</td>\n",
       "      <td>47</td>\n",
       "      <td>1</td>\n",
       "      <td>17</td>\n",
       "      <td>21</td>\n",
       "      <td>43</td>\n",
       "      <td>0.587552</td>\n",
       "      <td>1.820448</td>\n",
       "      <td>5.6</td>\n",
       "      <td>0</td>\n",
       "    </tr>\n",
       "    <tr>\n",
       "      <th>26</th>\n",
       "      <td>27</td>\n",
       "      <td>45</td>\n",
       "      <td>2</td>\n",
       "      <td>10</td>\n",
       "      <td>27</td>\n",
       "      <td>69</td>\n",
       "      <td>0.707319</td>\n",
       "      <td>3.915681</td>\n",
       "      <td>6.7</td>\n",
       "      <td>0</td>\n",
       "    </tr>\n",
       "    <tr>\n",
       "      <th>27</th>\n",
       "      <td>28</td>\n",
       "      <td>43</td>\n",
       "      <td>1</td>\n",
       "      <td>25</td>\n",
       "      <td>21</td>\n",
       "      <td>64</td>\n",
       "      <td>0.951232</td>\n",
       "      <td>9.736768</td>\n",
       "      <td>16.7</td>\n",
       "      <td>0</td>\n",
       "    </tr>\n",
       "    <tr>\n",
       "      <th>30</th>\n",
       "      <td>31</td>\n",
       "      <td>45</td>\n",
       "      <td>1</td>\n",
       "      <td>3</td>\n",
       "      <td>15</td>\n",
       "      <td>20</td>\n",
       "      <td>0.105000</td>\n",
       "      <td>0.315000</td>\n",
       "      <td>2.1</td>\n",
       "      <td>0</td>\n",
       "    </tr>\n",
       "    <tr>\n",
       "      <th>39</th>\n",
       "      <td>40</td>\n",
       "      <td>45</td>\n",
       "      <td>1</td>\n",
       "      <td>23</td>\n",
       "      <td>5</td>\n",
       "      <td>50</td>\n",
       "      <td>0.558600</td>\n",
       "      <td>1.541400</td>\n",
       "      <td>4.2</td>\n",
       "      <td>0</td>\n",
       "    </tr>\n",
       "    <tr>\n",
       "      <th>42</th>\n",
       "      <td>43</td>\n",
       "      <td>42</td>\n",
       "      <td>2</td>\n",
       "      <td>7</td>\n",
       "      <td>23</td>\n",
       "      <td>41</td>\n",
       "      <td>0.941114</td>\n",
       "      <td>0.944886</td>\n",
       "      <td>4.6</td>\n",
       "      <td>0</td>\n",
       "    </tr>\n",
       "    <tr>\n",
       "      <th>47</th>\n",
       "      <td>48</td>\n",
       "      <td>47</td>\n",
       "      <td>1</td>\n",
       "      <td>4</td>\n",
       "      <td>2</td>\n",
       "      <td>26</td>\n",
       "      <td>0.121680</td>\n",
       "      <td>2.582320</td>\n",
       "      <td>10.4</td>\n",
       "      <td>0</td>\n",
       "    </tr>\n",
       "    <tr>\n",
       "      <th>51</th>\n",
       "      <td>52</td>\n",
       "      <td>46</td>\n",
       "      <td>1</td>\n",
       "      <td>1</td>\n",
       "      <td>12</td>\n",
       "      <td>20</td>\n",
       "      <td>0.809200</td>\n",
       "      <td>1.990800</td>\n",
       "      <td>14.0</td>\n",
       "      <td>0</td>\n",
       "    </tr>\n",
       "    <tr>\n",
       "      <th>52</th>\n",
       "      <td>53</td>\n",
       "      <td>46</td>\n",
       "      <td>1</td>\n",
       "      <td>16</td>\n",
       "      <td>18</td>\n",
       "      <td>52</td>\n",
       "      <td>3.032016</td>\n",
       "      <td>3.675984</td>\n",
       "      <td>12.9</td>\n",
       "      <td>1</td>\n",
       "    </tr>\n",
       "    <tr>\n",
       "      <th>59</th>\n",
       "      <td>60</td>\n",
       "      <td>50</td>\n",
       "      <td>3</td>\n",
       "      <td>10</td>\n",
       "      <td>20</td>\n",
       "      <td>80</td>\n",
       "      <td>2.479040</td>\n",
       "      <td>7.280960</td>\n",
       "      <td>12.2</td>\n",
       "      <td>0</td>\n",
       "    </tr>\n",
       "    <tr>\n",
       "      <th>72</th>\n",
       "      <td>73</td>\n",
       "      <td>47</td>\n",
       "      <td>1</td>\n",
       "      <td>26</td>\n",
       "      <td>21</td>\n",
       "      <td>100</td>\n",
       "      <td>4.582400</td>\n",
       "      <td>8.217600</td>\n",
       "      <td>12.8</td>\n",
       "      <td>0</td>\n",
       "    </tr>\n",
       "    <tr>\n",
       "      <th>73</th>\n",
       "      <td>74</td>\n",
       "      <td>43</td>\n",
       "      <td>4</td>\n",
       "      <td>1</td>\n",
       "      <td>5</td>\n",
       "      <td>26</td>\n",
       "      <td>1.518556</td>\n",
       "      <td>1.237444</td>\n",
       "      <td>10.6</td>\n",
       "      <td>0</td>\n",
       "    </tr>\n",
       "    <tr>\n",
       "      <th>74</th>\n",
       "      <td>75</td>\n",
       "      <td>41</td>\n",
       "      <td>1</td>\n",
       "      <td>13</td>\n",
       "      <td>10</td>\n",
       "      <td>44</td>\n",
       "      <td>0.071060</td>\n",
       "      <td>0.676940</td>\n",
       "      <td>1.7</td>\n",
       "      <td>0</td>\n",
       "    </tr>\n",
       "    <tr>\n",
       "      <th>75</th>\n",
       "      <td>76</td>\n",
       "      <td>47</td>\n",
       "      <td>1</td>\n",
       "      <td>13</td>\n",
       "      <td>25</td>\n",
       "      <td>51</td>\n",
       "      <td>3.738504</td>\n",
       "      <td>8.399496</td>\n",
       "      <td>23.8</td>\n",
       "      <td>0</td>\n",
       "    </tr>\n",
       "    <tr>\n",
       "      <th>94</th>\n",
       "      <td>95</td>\n",
       "      <td>41</td>\n",
       "      <td>3</td>\n",
       "      <td>2</td>\n",
       "      <td>0</td>\n",
       "      <td>15</td>\n",
       "      <td>1.960665</td>\n",
       "      <td>1.984335</td>\n",
       "      <td>26.3</td>\n",
       "      <td>1</td>\n",
       "    </tr>\n",
       "    <tr>\n",
       "      <th>96</th>\n",
       "      <td>97</td>\n",
       "      <td>42</td>\n",
       "      <td>3</td>\n",
       "      <td>13</td>\n",
       "      <td>0</td>\n",
       "      <td>82</td>\n",
       "      <td>1.315116</td>\n",
       "      <td>1.390884</td>\n",
       "      <td>3.3</td>\n",
       "      <td>0</td>\n",
       "    </tr>\n",
       "    <tr>\n",
       "      <th>97</th>\n",
       "      <td>98</td>\n",
       "      <td>41</td>\n",
       "      <td>1</td>\n",
       "      <td>14</td>\n",
       "      <td>8</td>\n",
       "      <td>52</td>\n",
       "      <td>0.926224</td>\n",
       "      <td>2.869776</td>\n",
       "      <td>7.3</td>\n",
       "      <td>0</td>\n",
       "    </tr>\n",
       "    <tr>\n",
       "      <th>103</th>\n",
       "      <td>104</td>\n",
       "      <td>42</td>\n",
       "      <td>2</td>\n",
       "      <td>21</td>\n",
       "      <td>11</td>\n",
       "      <td>121</td>\n",
       "      <td>1.365364</td>\n",
       "      <td>2.385636</td>\n",
       "      <td>3.1</td>\n",
       "      <td>0</td>\n",
       "    </tr>\n",
       "    <tr>\n",
       "      <th>104</th>\n",
       "      <td>105</td>\n",
       "      <td>41</td>\n",
       "      <td>2</td>\n",
       "      <td>22</td>\n",
       "      <td>17</td>\n",
       "      <td>75</td>\n",
       "      <td>9.876600</td>\n",
       "      <td>7.823400</td>\n",
       "      <td>23.6</td>\n",
       "      <td>0</td>\n",
       "    </tr>\n",
       "    <tr>\n",
       "      <th>106</th>\n",
       "      <td>107</td>\n",
       "      <td>53</td>\n",
       "      <td>1</td>\n",
       "      <td>9</td>\n",
       "      <td>18</td>\n",
       "      <td>50</td>\n",
       "      <td>2.016000</td>\n",
       "      <td>3.584000</td>\n",
       "      <td>11.2</td>\n",
       "      <td>1</td>\n",
       "    </tr>\n",
       "    <tr>\n",
       "      <th>110</th>\n",
       "      <td>111</td>\n",
       "      <td>45</td>\n",
       "      <td>3</td>\n",
       "      <td>2</td>\n",
       "      <td>5</td>\n",
       "      <td>39</td>\n",
       "      <td>0.458640</td>\n",
       "      <td>1.452360</td>\n",
       "      <td>4.9</td>\n",
       "      <td>0</td>\n",
       "    </tr>\n",
       "    <tr>\n",
       "      <th>113</th>\n",
       "      <td>114</td>\n",
       "      <td>42</td>\n",
       "      <td>1</td>\n",
       "      <td>12</td>\n",
       "      <td>11</td>\n",
       "      <td>51</td>\n",
       "      <td>2.411994</td>\n",
       "      <td>8.502006</td>\n",
       "      <td>21.4</td>\n",
       "      <td>0</td>\n",
       "    </tr>\n",
       "    <tr>\n",
       "      <th>...</th>\n",
       "      <td>...</td>\n",
       "      <td>...</td>\n",
       "      <td>...</td>\n",
       "      <td>...</td>\n",
       "      <td>...</td>\n",
       "      <td>...</td>\n",
       "      <td>...</td>\n",
       "      <td>...</td>\n",
       "      <td>...</td>\n",
       "      <td>...</td>\n",
       "    </tr>\n",
       "    <tr>\n",
       "      <th>405</th>\n",
       "      <td>406</td>\n",
       "      <td>50</td>\n",
       "      <td>2</td>\n",
       "      <td>16</td>\n",
       "      <td>14</td>\n",
       "      <td>71</td>\n",
       "      <td>1.662891</td>\n",
       "      <td>6.218109</td>\n",
       "      <td>11.1</td>\n",
       "      <td>0</td>\n",
       "    </tr>\n",
       "    <tr>\n",
       "      <th>407</th>\n",
       "      <td>408</td>\n",
       "      <td>42</td>\n",
       "      <td>3</td>\n",
       "      <td>0</td>\n",
       "      <td>9</td>\n",
       "      <td>64</td>\n",
       "      <td>0.278784</td>\n",
       "      <td>3.945216</td>\n",
       "      <td>6.6</td>\n",
       "      <td>0</td>\n",
       "    </tr>\n",
       "    <tr>\n",
       "      <th>410</th>\n",
       "      <td>411</td>\n",
       "      <td>45</td>\n",
       "      <td>2</td>\n",
       "      <td>21</td>\n",
       "      <td>26</td>\n",
       "      <td>132</td>\n",
       "      <td>2.558160</td>\n",
       "      <td>1.401840</td>\n",
       "      <td>3.0</td>\n",
       "      <td>0</td>\n",
       "    </tr>\n",
       "    <tr>\n",
       "      <th>411</th>\n",
       "      <td>412</td>\n",
       "      <td>45</td>\n",
       "      <td>1</td>\n",
       "      <td>22</td>\n",
       "      <td>24</td>\n",
       "      <td>91</td>\n",
       "      <td>1.256346</td>\n",
       "      <td>9.390654</td>\n",
       "      <td>11.7</td>\n",
       "      <td>0</td>\n",
       "    </tr>\n",
       "    <tr>\n",
       "      <th>417</th>\n",
       "      <td>418</td>\n",
       "      <td>43</td>\n",
       "      <td>1</td>\n",
       "      <td>4</td>\n",
       "      <td>2</td>\n",
       "      <td>29</td>\n",
       "      <td>0.053360</td>\n",
       "      <td>1.280640</td>\n",
       "      <td>4.6</td>\n",
       "      <td>0</td>\n",
       "    </tr>\n",
       "    <tr>\n",
       "      <th>419</th>\n",
       "      <td>420</td>\n",
       "      <td>47</td>\n",
       "      <td>1</td>\n",
       "      <td>19</td>\n",
       "      <td>7</td>\n",
       "      <td>50</td>\n",
       "      <td>3.175550</td>\n",
       "      <td>11.874450</td>\n",
       "      <td>30.1</td>\n",
       "      <td>0</td>\n",
       "    </tr>\n",
       "    <tr>\n",
       "      <th>420</th>\n",
       "      <td>421</td>\n",
       "      <td>46</td>\n",
       "      <td>1</td>\n",
       "      <td>1</td>\n",
       "      <td>15</td>\n",
       "      <td>21</td>\n",
       "      <td>1.376844</td>\n",
       "      <td>1.731156</td>\n",
       "      <td>14.8</td>\n",
       "      <td>1</td>\n",
       "    </tr>\n",
       "    <tr>\n",
       "      <th>421</th>\n",
       "      <td>422</td>\n",
       "      <td>43</td>\n",
       "      <td>2</td>\n",
       "      <td>16</td>\n",
       "      <td>10</td>\n",
       "      <td>83</td>\n",
       "      <td>0.258628</td>\n",
       "      <td>3.144372</td>\n",
       "      <td>4.1</td>\n",
       "      <td>0</td>\n",
       "    </tr>\n",
       "    <tr>\n",
       "      <th>422</th>\n",
       "      <td>423</td>\n",
       "      <td>48</td>\n",
       "      <td>1</td>\n",
       "      <td>3</td>\n",
       "      <td>7</td>\n",
       "      <td>24</td>\n",
       "      <td>0.764400</td>\n",
       "      <td>0.915600</td>\n",
       "      <td>7.0</td>\n",
       "      <td>0</td>\n",
       "    </tr>\n",
       "    <tr>\n",
       "      <th>427</th>\n",
       "      <td>428</td>\n",
       "      <td>43</td>\n",
       "      <td>1</td>\n",
       "      <td>16</td>\n",
       "      <td>7</td>\n",
       "      <td>89</td>\n",
       "      <td>0.159488</td>\n",
       "      <td>0.196512</td>\n",
       "      <td>0.4</td>\n",
       "      <td>0</td>\n",
       "    </tr>\n",
       "    <tr>\n",
       "      <th>429</th>\n",
       "      <td>430</td>\n",
       "      <td>41</td>\n",
       "      <td>1</td>\n",
       "      <td>21</td>\n",
       "      <td>2</td>\n",
       "      <td>77</td>\n",
       "      <td>6.948680</td>\n",
       "      <td>8.631320</td>\n",
       "      <td>20.5</td>\n",
       "      <td>0</td>\n",
       "    </tr>\n",
       "    <tr>\n",
       "      <th>431</th>\n",
       "      <td>432</td>\n",
       "      <td>50</td>\n",
       "      <td>1</td>\n",
       "      <td>11</td>\n",
       "      <td>5</td>\n",
       "      <td>36</td>\n",
       "      <td>0.834624</td>\n",
       "      <td>0.893376</td>\n",
       "      <td>4.8</td>\n",
       "      <td>0</td>\n",
       "    </tr>\n",
       "    <tr>\n",
       "      <th>444</th>\n",
       "      <td>445</td>\n",
       "      <td>43</td>\n",
       "      <td>4</td>\n",
       "      <td>18</td>\n",
       "      <td>14</td>\n",
       "      <td>446</td>\n",
       "      <td>16.031470</td>\n",
       "      <td>12.958530</td>\n",
       "      <td>6.5</td>\n",
       "      <td>1</td>\n",
       "    </tr>\n",
       "    <tr>\n",
       "      <th>445</th>\n",
       "      <td>446</td>\n",
       "      <td>56</td>\n",
       "      <td>1</td>\n",
       "      <td>11</td>\n",
       "      <td>20</td>\n",
       "      <td>59</td>\n",
       "      <td>4.672800</td>\n",
       "      <td>4.177200</td>\n",
       "      <td>15.0</td>\n",
       "      <td>0</td>\n",
       "    </tr>\n",
       "    <tr>\n",
       "      <th>447</th>\n",
       "      <td>448</td>\n",
       "      <td>42</td>\n",
       "      <td>1</td>\n",
       "      <td>7</td>\n",
       "      <td>12</td>\n",
       "      <td>25</td>\n",
       "      <td>1.629450</td>\n",
       "      <td>0.920550</td>\n",
       "      <td>10.2</td>\n",
       "      <td>0</td>\n",
       "    </tr>\n",
       "    <tr>\n",
       "      <th>448</th>\n",
       "      <td>449</td>\n",
       "      <td>46</td>\n",
       "      <td>3</td>\n",
       "      <td>3</td>\n",
       "      <td>13</td>\n",
       "      <td>43</td>\n",
       "      <td>3.042336</td>\n",
       "      <td>2.633664</td>\n",
       "      <td>13.2</td>\n",
       "      <td>1</td>\n",
       "    </tr>\n",
       "    <tr>\n",
       "      <th>450</th>\n",
       "      <td>451</td>\n",
       "      <td>43</td>\n",
       "      <td>1</td>\n",
       "      <td>25</td>\n",
       "      <td>16</td>\n",
       "      <td>242</td>\n",
       "      <td>1.635920</td>\n",
       "      <td>4.656080</td>\n",
       "      <td>2.6</td>\n",
       "      <td>0</td>\n",
       "    </tr>\n",
       "    <tr>\n",
       "      <th>458</th>\n",
       "      <td>459</td>\n",
       "      <td>50</td>\n",
       "      <td>1</td>\n",
       "      <td>1</td>\n",
       "      <td>26</td>\n",
       "      <td>26</td>\n",
       "      <td>1.851564</td>\n",
       "      <td>1.866436</td>\n",
       "      <td>14.3</td>\n",
       "      <td>0</td>\n",
       "    </tr>\n",
       "    <tr>\n",
       "      <th>464</th>\n",
       "      <td>465</td>\n",
       "      <td>48</td>\n",
       "      <td>1</td>\n",
       "      <td>0</td>\n",
       "      <td>23</td>\n",
       "      <td>30</td>\n",
       "      <td>2.662620</td>\n",
       "      <td>4.027380</td>\n",
       "      <td>22.3</td>\n",
       "      <td>0</td>\n",
       "    </tr>\n",
       "    <tr>\n",
       "      <th>466</th>\n",
       "      <td>467</td>\n",
       "      <td>47</td>\n",
       "      <td>3</td>\n",
       "      <td>16</td>\n",
       "      <td>26</td>\n",
       "      <td>221</td>\n",
       "      <td>15.791776</td>\n",
       "      <td>23.104224</td>\n",
       "      <td>17.6</td>\n",
       "      <td>1</td>\n",
       "    </tr>\n",
       "    <tr>\n",
       "      <th>472</th>\n",
       "      <td>473</td>\n",
       "      <td>44</td>\n",
       "      <td>1</td>\n",
       "      <td>12</td>\n",
       "      <td>3</td>\n",
       "      <td>31</td>\n",
       "      <td>0.357833</td>\n",
       "      <td>2.649167</td>\n",
       "      <td>9.7</td>\n",
       "      <td>0</td>\n",
       "    </tr>\n",
       "    <tr>\n",
       "      <th>475</th>\n",
       "      <td>476</td>\n",
       "      <td>52</td>\n",
       "      <td>2</td>\n",
       "      <td>12</td>\n",
       "      <td>16</td>\n",
       "      <td>76</td>\n",
       "      <td>0.994840</td>\n",
       "      <td>4.857160</td>\n",
       "      <td>7.7</td>\n",
       "      <td>0</td>\n",
       "    </tr>\n",
       "    <tr>\n",
       "      <th>478</th>\n",
       "      <td>479</td>\n",
       "      <td>51</td>\n",
       "      <td>2</td>\n",
       "      <td>27</td>\n",
       "      <td>21</td>\n",
       "      <td>166</td>\n",
       "      <td>0.820870</td>\n",
       "      <td>18.269130</td>\n",
       "      <td>11.5</td>\n",
       "      <td>0</td>\n",
       "    </tr>\n",
       "    <tr>\n",
       "      <th>480</th>\n",
       "      <td>481</td>\n",
       "      <td>44</td>\n",
       "      <td>1</td>\n",
       "      <td>9</td>\n",
       "      <td>20</td>\n",
       "      <td>33</td>\n",
       "      <td>0.545688</td>\n",
       "      <td>1.170312</td>\n",
       "      <td>5.2</td>\n",
       "      <td>0</td>\n",
       "    </tr>\n",
       "    <tr>\n",
       "      <th>484</th>\n",
       "      <td>485</td>\n",
       "      <td>45</td>\n",
       "      <td>3</td>\n",
       "      <td>5</td>\n",
       "      <td>17</td>\n",
       "      <td>94</td>\n",
       "      <td>3.612420</td>\n",
       "      <td>6.257580</td>\n",
       "      <td>10.5</td>\n",
       "      <td>1</td>\n",
       "    </tr>\n",
       "    <tr>\n",
       "      <th>489</th>\n",
       "      <td>490</td>\n",
       "      <td>50</td>\n",
       "      <td>2</td>\n",
       "      <td>15</td>\n",
       "      <td>31</td>\n",
       "      <td>60</td>\n",
       "      <td>0.467940</td>\n",
       "      <td>0.192060</td>\n",
       "      <td>1.1</td>\n",
       "      <td>0</td>\n",
       "    </tr>\n",
       "    <tr>\n",
       "      <th>491</th>\n",
       "      <td>492</td>\n",
       "      <td>41</td>\n",
       "      <td>3</td>\n",
       "      <td>13</td>\n",
       "      <td>13</td>\n",
       "      <td>91</td>\n",
       "      <td>2.316132</td>\n",
       "      <td>20.615868</td>\n",
       "      <td>25.2</td>\n",
       "      <td>1</td>\n",
       "    </tr>\n",
       "    <tr>\n",
       "      <th>495</th>\n",
       "      <td>496</td>\n",
       "      <td>47</td>\n",
       "      <td>2</td>\n",
       "      <td>4</td>\n",
       "      <td>9</td>\n",
       "      <td>33</td>\n",
       "      <td>1.194930</td>\n",
       "      <td>1.148070</td>\n",
       "      <td>7.1</td>\n",
       "      <td>1</td>\n",
       "    </tr>\n",
       "    <tr>\n",
       "      <th>497</th>\n",
       "      <td>498</td>\n",
       "      <td>44</td>\n",
       "      <td>2</td>\n",
       "      <td>12</td>\n",
       "      <td>5</td>\n",
       "      <td>86</td>\n",
       "      <td>1.475760</td>\n",
       "      <td>9.704240</td>\n",
       "      <td>13.0</td>\n",
       "      <td>0</td>\n",
       "    </tr>\n",
       "    <tr>\n",
       "      <th>499</th>\n",
       "      <td>500</td>\n",
       "      <td>41</td>\n",
       "      <td>2</td>\n",
       "      <td>7</td>\n",
       "      <td>0</td>\n",
       "      <td>36</td>\n",
       "      <td>4.570000</td>\n",
       "      <td>2.570000</td>\n",
       "      <td>19.5</td>\n",
       "      <td>1</td>\n",
       "    </tr>\n",
       "  </tbody>\n",
       "</table>\n",
       "<p>116 rows × 10 columns</p>\n",
       "</div>"
      ],
      "text/plain": [
       "      ID  IDADE  EDUCACAO  TEMPO_EMP  TEMPO_END  RENDA  DIVIDA_CC  OUTRAS_DIV  \\\n",
       "0      1     41         3         18          7    176  11.359392    5.008608   \n",
       "3      4     41         1         15         14    120   2.658720    0.821280   \n",
       "5      6     41         2          5          5     25   0.392700    2.157300   \n",
       "7      8     43         1         12         11     38   0.128592    1.239408   \n",
       "12    13     52         1         24         14     64   3.929600    2.470400   \n",
       "14    15     48         1         22         15    100   3.703700    5.396300   \n",
       "17    18     43         1         23         19     72   1.181952    4.290048   \n",
       "19    20     41         3          0         21     26   0.099008    0.342992   \n",
       "21    22     47         1         17         21     43   0.587552    1.820448   \n",
       "26    27     45         2         10         27     69   0.707319    3.915681   \n",
       "27    28     43         1         25         21     64   0.951232    9.736768   \n",
       "30    31     45         1          3         15     20   0.105000    0.315000   \n",
       "39    40     45         1         23          5     50   0.558600    1.541400   \n",
       "42    43     42         2          7         23     41   0.941114    0.944886   \n",
       "47    48     47         1          4          2     26   0.121680    2.582320   \n",
       "51    52     46         1          1         12     20   0.809200    1.990800   \n",
       "52    53     46         1         16         18     52   3.032016    3.675984   \n",
       "59    60     50         3         10         20     80   2.479040    7.280960   \n",
       "72    73     47         1         26         21    100   4.582400    8.217600   \n",
       "73    74     43         4          1          5     26   1.518556    1.237444   \n",
       "74    75     41         1         13         10     44   0.071060    0.676940   \n",
       "75    76     47         1         13         25     51   3.738504    8.399496   \n",
       "94    95     41         3          2          0     15   1.960665    1.984335   \n",
       "96    97     42         3         13          0     82   1.315116    1.390884   \n",
       "97    98     41         1         14          8     52   0.926224    2.869776   \n",
       "103  104     42         2         21         11    121   1.365364    2.385636   \n",
       "104  105     41         2         22         17     75   9.876600    7.823400   \n",
       "106  107     53         1          9         18     50   2.016000    3.584000   \n",
       "110  111     45         3          2          5     39   0.458640    1.452360   \n",
       "113  114     42         1         12         11     51   2.411994    8.502006   \n",
       "..   ...    ...       ...        ...        ...    ...        ...         ...   \n",
       "405  406     50         2         16         14     71   1.662891    6.218109   \n",
       "407  408     42         3          0          9     64   0.278784    3.945216   \n",
       "410  411     45         2         21         26    132   2.558160    1.401840   \n",
       "411  412     45         1         22         24     91   1.256346    9.390654   \n",
       "417  418     43         1          4          2     29   0.053360    1.280640   \n",
       "419  420     47         1         19          7     50   3.175550   11.874450   \n",
       "420  421     46         1          1         15     21   1.376844    1.731156   \n",
       "421  422     43         2         16         10     83   0.258628    3.144372   \n",
       "422  423     48         1          3          7     24   0.764400    0.915600   \n",
       "427  428     43         1         16          7     89   0.159488    0.196512   \n",
       "429  430     41         1         21          2     77   6.948680    8.631320   \n",
       "431  432     50         1         11          5     36   0.834624    0.893376   \n",
       "444  445     43         4         18         14    446  16.031470   12.958530   \n",
       "445  446     56         1         11         20     59   4.672800    4.177200   \n",
       "447  448     42         1          7         12     25   1.629450    0.920550   \n",
       "448  449     46         3          3         13     43   3.042336    2.633664   \n",
       "450  451     43         1         25         16    242   1.635920    4.656080   \n",
       "458  459     50         1          1         26     26   1.851564    1.866436   \n",
       "464  465     48         1          0         23     30   2.662620    4.027380   \n",
       "466  467     47         3         16         26    221  15.791776   23.104224   \n",
       "472  473     44         1         12          3     31   0.357833    2.649167   \n",
       "475  476     52         2         12         16     76   0.994840    4.857160   \n",
       "478  479     51         2         27         21    166   0.820870   18.269130   \n",
       "480  481     44         1          9         20     33   0.545688    1.170312   \n",
       "484  485     45         3          5         17     94   3.612420    6.257580   \n",
       "489  490     50         2         15         31     60   0.467940    0.192060   \n",
       "491  492     41         3         13         13     91   2.316132   20.615868   \n",
       "495  496     47         2          4          9     33   1.194930    1.148070   \n",
       "497  498     44         2         12          5     86   1.475760    9.704240   \n",
       "499  500     41         2          7          0     36   4.570000    2.570000   \n",
       "\n",
       "     GRAU_ENDIV  DEFAULT  \n",
       "0          10.3        1  \n",
       "3           2.9        0  \n",
       "5          10.2        0  \n",
       "7           3.6        0  \n",
       "12         10.0        0  \n",
       "14          9.1        0  \n",
       "17          7.6        0  \n",
       "19          1.7        0  \n",
       "21          5.6        0  \n",
       "26          6.7        0  \n",
       "27         16.7        0  \n",
       "30          2.1        0  \n",
       "39          4.2        0  \n",
       "42          4.6        0  \n",
       "47         10.4        0  \n",
       "51         14.0        0  \n",
       "52         12.9        1  \n",
       "59         12.2        0  \n",
       "72         12.8        0  \n",
       "73         10.6        0  \n",
       "74          1.7        0  \n",
       "75         23.8        0  \n",
       "94         26.3        1  \n",
       "96          3.3        0  \n",
       "97          7.3        0  \n",
       "103         3.1        0  \n",
       "104        23.6        0  \n",
       "106        11.2        1  \n",
       "110         4.9        0  \n",
       "113        21.4        0  \n",
       "..          ...      ...  \n",
       "405        11.1        0  \n",
       "407         6.6        0  \n",
       "410         3.0        0  \n",
       "411        11.7        0  \n",
       "417         4.6        0  \n",
       "419        30.1        0  \n",
       "420        14.8        1  \n",
       "421         4.1        0  \n",
       "422         7.0        0  \n",
       "427         0.4        0  \n",
       "429        20.5        0  \n",
       "431         4.8        0  \n",
       "444         6.5        1  \n",
       "445        15.0        0  \n",
       "447        10.2        0  \n",
       "448        13.2        1  \n",
       "450         2.6        0  \n",
       "458        14.3        0  \n",
       "464        22.3        0  \n",
       "466        17.6        1  \n",
       "472         9.7        0  \n",
       "475         7.7        0  \n",
       "478        11.5        0  \n",
       "480         5.2        0  \n",
       "484        10.5        1  \n",
       "489         1.1        0  \n",
       "491        25.2        1  \n",
       "495         7.1        1  \n",
       "497        13.0        0  \n",
       "499        19.5        1  \n",
       "\n",
       "[116 rows x 10 columns]"
      ]
     },
     "execution_count": 22,
     "metadata": {},
     "output_type": "execute_result"
    }
   ],
   "source": [
    "dados[dados.IDADE>40]"
   ]
  },
  {
   "cell_type": "markdown",
   "metadata": {
    "slideshow": {
     "slide_type": "slide"
    }
   },
   "source": [
    "## Filtragem de células dada uma condição\n",
    "\n",
    "Abaixo, faz uso apenas das variáveis das colunas 1 a 4 quando a informação IDADE > 40!\n",
    "Note que nesse filtro, seleciona apenas algumas colunas do dataset para as linhas com IDADE > 40."
   ]
  },
  {
   "cell_type": "code",
   "execution_count": 23,
   "metadata": {
    "collapsed": false,
    "slideshow": {
     "slide_type": "fragment"
    }
   },
   "outputs": [
    {
     "data": {
      "text/html": [
       "<div>\n",
       "<table border=\"1\" class=\"dataframe\">\n",
       "  <thead>\n",
       "    <tr style=\"text-align: right;\">\n",
       "      <th></th>\n",
       "      <th>IDADE</th>\n",
       "      <th>EDUCACAO</th>\n",
       "      <th>TEMPO_EMP</th>\n",
       "    </tr>\n",
       "  </thead>\n",
       "  <tbody>\n",
       "    <tr>\n",
       "      <th>0</th>\n",
       "      <td>41</td>\n",
       "      <td>3</td>\n",
       "      <td>18</td>\n",
       "    </tr>\n",
       "    <tr>\n",
       "      <th>3</th>\n",
       "      <td>41</td>\n",
       "      <td>1</td>\n",
       "      <td>15</td>\n",
       "    </tr>\n",
       "    <tr>\n",
       "      <th>5</th>\n",
       "      <td>41</td>\n",
       "      <td>2</td>\n",
       "      <td>5</td>\n",
       "    </tr>\n",
       "    <tr>\n",
       "      <th>7</th>\n",
       "      <td>43</td>\n",
       "      <td>1</td>\n",
       "      <td>12</td>\n",
       "    </tr>\n",
       "    <tr>\n",
       "      <th>12</th>\n",
       "      <td>52</td>\n",
       "      <td>1</td>\n",
       "      <td>24</td>\n",
       "    </tr>\n",
       "    <tr>\n",
       "      <th>14</th>\n",
       "      <td>48</td>\n",
       "      <td>1</td>\n",
       "      <td>22</td>\n",
       "    </tr>\n",
       "    <tr>\n",
       "      <th>17</th>\n",
       "      <td>43</td>\n",
       "      <td>1</td>\n",
       "      <td>23</td>\n",
       "    </tr>\n",
       "    <tr>\n",
       "      <th>19</th>\n",
       "      <td>41</td>\n",
       "      <td>3</td>\n",
       "      <td>0</td>\n",
       "    </tr>\n",
       "  </tbody>\n",
       "</table>\n",
       "</div>"
      ],
      "text/plain": [
       "    IDADE  EDUCACAO  TEMPO_EMP\n",
       "0      41         3         18\n",
       "3      41         1         15\n",
       "5      41         2          5\n",
       "7      43         1         12\n",
       "12     52         1         24\n",
       "14     48         1         22\n",
       "17     43         1         23\n",
       "19     41         3          0"
      ]
     },
     "execution_count": 23,
     "metadata": {},
     "output_type": "execute_result"
    }
   ],
   "source": [
    "dados[dados.IDADE>40].iloc[:,1:4].head(8)"
   ]
  },
  {
   "cell_type": "markdown",
   "metadata": {
    "slideshow": {
     "slide_type": "slide"
    }
   },
   "source": [
    "## Operadores *booleanos* nas condições\n",
    "\n",
    "Pode-se combinar condições.\n",
    "\n",
    "Note que são operadores *diferentes* do que você usaria no *if*. Estas condições usam os operadores *bit a bit*"
   ]
  },
  {
   "cell_type": "code",
   "execution_count": 24,
   "metadata": {
    "collapsed": false,
    "scrolled": true,
    "slideshow": {
     "slide_type": "fragment"
    }
   },
   "outputs": [
    {
     "data": {
      "text/html": [
       "<div>\n",
       "<table border=\"1\" class=\"dataframe\">\n",
       "  <thead>\n",
       "    <tr style=\"text-align: right;\">\n",
       "      <th></th>\n",
       "      <th>ID</th>\n",
       "      <th>IDADE</th>\n",
       "      <th>EDUCACAO</th>\n",
       "      <th>TEMPO_EMP</th>\n",
       "      <th>TEMPO_END</th>\n",
       "      <th>RENDA</th>\n",
       "      <th>DIVIDA_CC</th>\n",
       "      <th>OUTRAS_DIV</th>\n",
       "      <th>GRAU_ENDIV</th>\n",
       "      <th>DEFAULT</th>\n",
       "    </tr>\n",
       "  </thead>\n",
       "  <tbody>\n",
       "    <tr>\n",
       "      <th>1</th>\n",
       "      <td>2</td>\n",
       "      <td>27</td>\n",
       "      <td>1</td>\n",
       "      <td>10</td>\n",
       "      <td>6</td>\n",
       "      <td>31</td>\n",
       "      <td>1.362202</td>\n",
       "      <td>4.000798</td>\n",
       "      <td>17.3</td>\n",
       "      <td>0</td>\n",
       "    </tr>\n",
       "    <tr>\n",
       "      <th>10</th>\n",
       "      <td>11</td>\n",
       "      <td>27</td>\n",
       "      <td>1</td>\n",
       "      <td>0</td>\n",
       "      <td>1</td>\n",
       "      <td>16</td>\n",
       "      <td>0.182512</td>\n",
       "      <td>0.089488</td>\n",
       "      <td>1.7</td>\n",
       "      <td>0</td>\n",
       "    </tr>\n",
       "    <tr>\n",
       "      <th>11</th>\n",
       "      <td>12</td>\n",
       "      <td>25</td>\n",
       "      <td>1</td>\n",
       "      <td>4</td>\n",
       "      <td>0</td>\n",
       "      <td>23</td>\n",
       "      <td>0.252356</td>\n",
       "      <td>0.943644</td>\n",
       "      <td>5.2</td>\n",
       "      <td>0</td>\n",
       "    </tr>\n",
       "    <tr>\n",
       "      <th>22</th>\n",
       "      <td>23</td>\n",
       "      <td>28</td>\n",
       "      <td>1</td>\n",
       "      <td>3</td>\n",
       "      <td>6</td>\n",
       "      <td>26</td>\n",
       "      <td>0.431600</td>\n",
       "      <td>2.168400</td>\n",
       "      <td>10.0</td>\n",
       "      <td>0</td>\n",
       "    </tr>\n",
       "    <tr>\n",
       "      <th>23</th>\n",
       "      <td>24</td>\n",
       "      <td>29</td>\n",
       "      <td>1</td>\n",
       "      <td>8</td>\n",
       "      <td>6</td>\n",
       "      <td>27</td>\n",
       "      <td>0.402192</td>\n",
       "      <td>2.243808</td>\n",
       "      <td>9.8</td>\n",
       "      <td>0</td>\n",
       "    </tr>\n",
       "    <tr>\n",
       "      <th>25</th>\n",
       "      <td>26</td>\n",
       "      <td>25</td>\n",
       "      <td>4</td>\n",
       "      <td>0</td>\n",
       "      <td>2</td>\n",
       "      <td>32</td>\n",
       "      <td>2.140160</td>\n",
       "      <td>3.491840</td>\n",
       "      <td>17.6</td>\n",
       "      <td>0</td>\n",
       "    </tr>\n",
       "    <tr>\n",
       "      <th>28</th>\n",
       "      <td>29</td>\n",
       "      <td>33</td>\n",
       "      <td>2</td>\n",
       "      <td>12</td>\n",
       "      <td>8</td>\n",
       "      <td>58</td>\n",
       "      <td>3.084208</td>\n",
       "      <td>7.587792</td>\n",
       "      <td>18.4</td>\n",
       "      <td>0</td>\n",
       "    </tr>\n",
       "    <tr>\n",
       "      <th>29</th>\n",
       "      <td>30</td>\n",
       "      <td>26</td>\n",
       "      <td>3</td>\n",
       "      <td>2</td>\n",
       "      <td>1</td>\n",
       "      <td>37</td>\n",
       "      <td>0.204906</td>\n",
       "      <td>5.049094</td>\n",
       "      <td>14.2</td>\n",
       "      <td>0</td>\n",
       "    </tr>\n",
       "    <tr>\n",
       "      <th>31</th>\n",
       "      <td>32</td>\n",
       "      <td>30</td>\n",
       "      <td>1</td>\n",
       "      <td>1</td>\n",
       "      <td>10</td>\n",
       "      <td>22</td>\n",
       "      <td>1.138830</td>\n",
       "      <td>1.171170</td>\n",
       "      <td>10.5</td>\n",
       "      <td>0</td>\n",
       "    </tr>\n",
       "    <tr>\n",
       "      <th>32</th>\n",
       "      <td>33</td>\n",
       "      <td>27</td>\n",
       "      <td>3</td>\n",
       "      <td>2</td>\n",
       "      <td>7</td>\n",
       "      <td>26</td>\n",
       "      <td>0.722280</td>\n",
       "      <td>0.837720</td>\n",
       "      <td>6.0</td>\n",
       "      <td>0</td>\n",
       "    </tr>\n",
       "    <tr>\n",
       "      <th>33</th>\n",
       "      <td>34</td>\n",
       "      <td>25</td>\n",
       "      <td>1</td>\n",
       "      <td>8</td>\n",
       "      <td>4</td>\n",
       "      <td>27</td>\n",
       "      <td>1.018656</td>\n",
       "      <td>2.869344</td>\n",
       "      <td>14.4</td>\n",
       "      <td>0</td>\n",
       "    </tr>\n",
       "    <tr>\n",
       "      <th>34</th>\n",
       "      <td>35</td>\n",
       "      <td>25</td>\n",
       "      <td>1</td>\n",
       "      <td>8</td>\n",
       "      <td>1</td>\n",
       "      <td>35</td>\n",
       "      <td>0.077140</td>\n",
       "      <td>0.937860</td>\n",
       "      <td>2.9</td>\n",
       "      <td>0</td>\n",
       "    </tr>\n",
       "    <tr>\n",
       "      <th>35</th>\n",
       "      <td>36</td>\n",
       "      <td>26</td>\n",
       "      <td>2</td>\n",
       "      <td>6</td>\n",
       "      <td>7</td>\n",
       "      <td>45</td>\n",
       "      <td>6.048900</td>\n",
       "      <td>5.651100</td>\n",
       "      <td>26.0</td>\n",
       "      <td>0</td>\n",
       "    </tr>\n",
       "    <tr>\n",
       "      <th>36</th>\n",
       "      <td>37</td>\n",
       "      <td>30</td>\n",
       "      <td>2</td>\n",
       "      <td>10</td>\n",
       "      <td>4</td>\n",
       "      <td>22</td>\n",
       "      <td>1.409716</td>\n",
       "      <td>2.132284</td>\n",
       "      <td>16.1</td>\n",
       "      <td>0</td>\n",
       "    </tr>\n",
       "    <tr>\n",
       "      <th>37</th>\n",
       "      <td>38</td>\n",
       "      <td>32</td>\n",
       "      <td>2</td>\n",
       "      <td>12</td>\n",
       "      <td>1</td>\n",
       "      <td>54</td>\n",
       "      <td>3.195936</td>\n",
       "      <td>4.580064</td>\n",
       "      <td>14.4</td>\n",
       "      <td>0</td>\n",
       "    </tr>\n",
       "    <tr>\n",
       "      <th>38</th>\n",
       "      <td>39</td>\n",
       "      <td>28</td>\n",
       "      <td>2</td>\n",
       "      <td>1</td>\n",
       "      <td>8</td>\n",
       "      <td>24</td>\n",
       "      <td>1.337904</td>\n",
       "      <td>2.766096</td>\n",
       "      <td>17.1</td>\n",
       "      <td>1</td>\n",
       "    </tr>\n",
       "    <tr>\n",
       "      <th>41</th>\n",
       "      <td>42</td>\n",
       "      <td>34</td>\n",
       "      <td>1</td>\n",
       "      <td>17</td>\n",
       "      <td>3</td>\n",
       "      <td>59</td>\n",
       "      <td>1.807760</td>\n",
       "      <td>2.912240</td>\n",
       "      <td>8.0</td>\n",
       "      <td>0</td>\n",
       "    </tr>\n",
       "    <tr>\n",
       "      <th>44</th>\n",
       "      <td>45</td>\n",
       "      <td>26</td>\n",
       "      <td>1</td>\n",
       "      <td>0</td>\n",
       "      <td>0</td>\n",
       "      <td>14</td>\n",
       "      <td>0.302400</td>\n",
       "      <td>0.747600</td>\n",
       "      <td>7.5</td>\n",
       "      <td>1</td>\n",
       "    </tr>\n",
       "    <tr>\n",
       "      <th>50</th>\n",
       "      <td>51</td>\n",
       "      <td>34</td>\n",
       "      <td>1</td>\n",
       "      <td>2</td>\n",
       "      <td>11</td>\n",
       "      <td>25</td>\n",
       "      <td>0.573300</td>\n",
       "      <td>2.576700</td>\n",
       "      <td>12.6</td>\n",
       "      <td>1</td>\n",
       "    </tr>\n",
       "    <tr>\n",
       "      <th>60</th>\n",
       "      <td>61</td>\n",
       "      <td>31</td>\n",
       "      <td>1</td>\n",
       "      <td>9</td>\n",
       "      <td>10</td>\n",
       "      <td>28</td>\n",
       "      <td>0.047712</td>\n",
       "      <td>0.624288</td>\n",
       "      <td>2.4</td>\n",
       "      <td>0</td>\n",
       "    </tr>\n",
       "    <tr>\n",
       "      <th>61</th>\n",
       "      <td>62</td>\n",
       "      <td>29</td>\n",
       "      <td>1</td>\n",
       "      <td>13</td>\n",
       "      <td>1</td>\n",
       "      <td>42</td>\n",
       "      <td>1.457652</td>\n",
       "      <td>1.650348</td>\n",
       "      <td>7.4</td>\n",
       "      <td>1</td>\n",
       "    </tr>\n",
       "    <tr>\n",
       "      <th>63</th>\n",
       "      <td>64</td>\n",
       "      <td>33</td>\n",
       "      <td>2</td>\n",
       "      <td>4</td>\n",
       "      <td>9</td>\n",
       "      <td>55</td>\n",
       "      <td>2.159850</td>\n",
       "      <td>1.690150</td>\n",
       "      <td>7.0</td>\n",
       "      <td>0</td>\n",
       "    </tr>\n",
       "    <tr>\n",
       "      <th>64</th>\n",
       "      <td>65</td>\n",
       "      <td>26</td>\n",
       "      <td>2</td>\n",
       "      <td>5</td>\n",
       "      <td>7</td>\n",
       "      <td>28</td>\n",
       "      <td>1.024296</td>\n",
       "      <td>1.159704</td>\n",
       "      <td>7.8</td>\n",
       "      <td>0</td>\n",
       "    </tr>\n",
       "    <tr>\n",
       "      <th>65</th>\n",
       "      <td>66</td>\n",
       "      <td>32</td>\n",
       "      <td>2</td>\n",
       "      <td>11</td>\n",
       "      <td>6</td>\n",
       "      <td>75</td>\n",
       "      <td>7.758900</td>\n",
       "      <td>9.716100</td>\n",
       "      <td>23.3</td>\n",
       "      <td>1</td>\n",
       "    </tr>\n",
       "    <tr>\n",
       "      <th>66</th>\n",
       "      <td>67</td>\n",
       "      <td>28</td>\n",
       "      <td>2</td>\n",
       "      <td>2</td>\n",
       "      <td>3</td>\n",
       "      <td>23</td>\n",
       "      <td>0.186944</td>\n",
       "      <td>1.285056</td>\n",
       "      <td>6.4</td>\n",
       "      <td>1</td>\n",
       "    </tr>\n",
       "    <tr>\n",
       "      <th>68</th>\n",
       "      <td>69</td>\n",
       "      <td>28</td>\n",
       "      <td>2</td>\n",
       "      <td>8</td>\n",
       "      <td>3</td>\n",
       "      <td>31</td>\n",
       "      <td>1.492154</td>\n",
       "      <td>1.049846</td>\n",
       "      <td>8.2</td>\n",
       "      <td>1</td>\n",
       "    </tr>\n",
       "    <tr>\n",
       "      <th>69</th>\n",
       "      <td>70</td>\n",
       "      <td>29</td>\n",
       "      <td>1</td>\n",
       "      <td>1</td>\n",
       "      <td>2</td>\n",
       "      <td>20</td>\n",
       "      <td>0.569160</td>\n",
       "      <td>3.150840</td>\n",
       "      <td>18.6</td>\n",
       "      <td>1</td>\n",
       "    </tr>\n",
       "    <tr>\n",
       "      <th>70</th>\n",
       "      <td>71</td>\n",
       "      <td>34</td>\n",
       "      <td>2</td>\n",
       "      <td>3</td>\n",
       "      <td>8</td>\n",
       "      <td>21</td>\n",
       "      <td>1.401939</td>\n",
       "      <td>3.449061</td>\n",
       "      <td>23.1</td>\n",
       "      <td>0</td>\n",
       "    </tr>\n",
       "    <tr>\n",
       "      <th>71</th>\n",
       "      <td>72</td>\n",
       "      <td>28</td>\n",
       "      <td>2</td>\n",
       "      <td>5</td>\n",
       "      <td>9</td>\n",
       "      <td>34</td>\n",
       "      <td>3.099236</td>\n",
       "      <td>4.992764</td>\n",
       "      <td>23.8</td>\n",
       "      <td>0</td>\n",
       "    </tr>\n",
       "    <tr>\n",
       "      <th>77</th>\n",
       "      <td>78</td>\n",
       "      <td>29</td>\n",
       "      <td>1</td>\n",
       "      <td>1</td>\n",
       "      <td>9</td>\n",
       "      <td>17</td>\n",
       "      <td>0.157182</td>\n",
       "      <td>0.981818</td>\n",
       "      <td>6.7</td>\n",
       "      <td>0</td>\n",
       "    </tr>\n",
       "    <tr>\n",
       "      <th>...</th>\n",
       "      <td>...</td>\n",
       "      <td>...</td>\n",
       "      <td>...</td>\n",
       "      <td>...</td>\n",
       "      <td>...</td>\n",
       "      <td>...</td>\n",
       "      <td>...</td>\n",
       "      <td>...</td>\n",
       "      <td>...</td>\n",
       "      <td>...</td>\n",
       "    </tr>\n",
       "    <tr>\n",
       "      <th>418</th>\n",
       "      <td>419</td>\n",
       "      <td>32</td>\n",
       "      <td>2</td>\n",
       "      <td>11</td>\n",
       "      <td>4</td>\n",
       "      <td>57</td>\n",
       "      <td>5.439966</td>\n",
       "      <td>8.126034</td>\n",
       "      <td>23.8</td>\n",
       "      <td>1</td>\n",
       "    </tr>\n",
       "    <tr>\n",
       "      <th>423</th>\n",
       "      <td>424</td>\n",
       "      <td>30</td>\n",
       "      <td>3</td>\n",
       "      <td>8</td>\n",
       "      <td>7</td>\n",
       "      <td>61</td>\n",
       "      <td>0.549976</td>\n",
       "      <td>1.158024</td>\n",
       "      <td>2.8</td>\n",
       "      <td>0</td>\n",
       "    </tr>\n",
       "    <tr>\n",
       "      <th>430</th>\n",
       "      <td>431</td>\n",
       "      <td>34</td>\n",
       "      <td>1</td>\n",
       "      <td>12</td>\n",
       "      <td>5</td>\n",
       "      <td>68</td>\n",
       "      <td>7.817144</td>\n",
       "      <td>9.250856</td>\n",
       "      <td>25.1</td>\n",
       "      <td>1</td>\n",
       "    </tr>\n",
       "    <tr>\n",
       "      <th>433</th>\n",
       "      <td>434</td>\n",
       "      <td>29</td>\n",
       "      <td>2</td>\n",
       "      <td>0</td>\n",
       "      <td>8</td>\n",
       "      <td>22</td>\n",
       "      <td>1.038708</td>\n",
       "      <td>1.799292</td>\n",
       "      <td>12.9</td>\n",
       "      <td>1</td>\n",
       "    </tr>\n",
       "    <tr>\n",
       "      <th>436</th>\n",
       "      <td>437</td>\n",
       "      <td>27</td>\n",
       "      <td>1</td>\n",
       "      <td>0</td>\n",
       "      <td>5</td>\n",
       "      <td>16</td>\n",
       "      <td>0.130416</td>\n",
       "      <td>0.045584</td>\n",
       "      <td>1.1</td>\n",
       "      <td>0</td>\n",
       "    </tr>\n",
       "    <tr>\n",
       "      <th>438</th>\n",
       "      <td>439</td>\n",
       "      <td>32</td>\n",
       "      <td>2</td>\n",
       "      <td>8</td>\n",
       "      <td>2</td>\n",
       "      <td>45</td>\n",
       "      <td>0.982350</td>\n",
       "      <td>0.682650</td>\n",
       "      <td>3.7</td>\n",
       "      <td>0</td>\n",
       "    </tr>\n",
       "    <tr>\n",
       "      <th>441</th>\n",
       "      <td>442</td>\n",
       "      <td>32</td>\n",
       "      <td>1</td>\n",
       "      <td>10</td>\n",
       "      <td>11</td>\n",
       "      <td>42</td>\n",
       "      <td>1.540266</td>\n",
       "      <td>2.281734</td>\n",
       "      <td>9.1</td>\n",
       "      <td>0</td>\n",
       "    </tr>\n",
       "    <tr>\n",
       "      <th>446</th>\n",
       "      <td>447</td>\n",
       "      <td>32</td>\n",
       "      <td>3</td>\n",
       "      <td>5</td>\n",
       "      <td>9</td>\n",
       "      <td>23</td>\n",
       "      <td>0.326025</td>\n",
       "      <td>0.708975</td>\n",
       "      <td>4.5</td>\n",
       "      <td>0</td>\n",
       "    </tr>\n",
       "    <tr>\n",
       "      <th>449</th>\n",
       "      <td>450</td>\n",
       "      <td>31</td>\n",
       "      <td>1</td>\n",
       "      <td>2</td>\n",
       "      <td>2</td>\n",
       "      <td>22</td>\n",
       "      <td>1.739056</td>\n",
       "      <td>1.868944</td>\n",
       "      <td>16.4</td>\n",
       "      <td>1</td>\n",
       "    </tr>\n",
       "    <tr>\n",
       "      <th>451</th>\n",
       "      <td>452</td>\n",
       "      <td>28</td>\n",
       "      <td>2</td>\n",
       "      <td>6</td>\n",
       "      <td>9</td>\n",
       "      <td>22</td>\n",
       "      <td>0.650210</td>\n",
       "      <td>1.879790</td>\n",
       "      <td>11.5</td>\n",
       "      <td>0</td>\n",
       "    </tr>\n",
       "    <tr>\n",
       "      <th>455</th>\n",
       "      <td>456</td>\n",
       "      <td>30</td>\n",
       "      <td>1</td>\n",
       "      <td>0</td>\n",
       "      <td>11</td>\n",
       "      <td>17</td>\n",
       "      <td>0.303960</td>\n",
       "      <td>1.736040</td>\n",
       "      <td>12.0</td>\n",
       "      <td>0</td>\n",
       "    </tr>\n",
       "    <tr>\n",
       "      <th>459</th>\n",
       "      <td>460</td>\n",
       "      <td>30</td>\n",
       "      <td>1</td>\n",
       "      <td>10</td>\n",
       "      <td>2</td>\n",
       "      <td>19</td>\n",
       "      <td>0.336072</td>\n",
       "      <td>0.499928</td>\n",
       "      <td>4.4</td>\n",
       "      <td>0</td>\n",
       "    </tr>\n",
       "    <tr>\n",
       "      <th>462</th>\n",
       "      <td>463</td>\n",
       "      <td>31</td>\n",
       "      <td>3</td>\n",
       "      <td>9</td>\n",
       "      <td>2</td>\n",
       "      <td>28</td>\n",
       "      <td>0.121576</td>\n",
       "      <td>0.606424</td>\n",
       "      <td>2.6</td>\n",
       "      <td>0</td>\n",
       "    </tr>\n",
       "    <tr>\n",
       "      <th>463</th>\n",
       "      <td>464</td>\n",
       "      <td>31</td>\n",
       "      <td>2</td>\n",
       "      <td>9</td>\n",
       "      <td>1</td>\n",
       "      <td>30</td>\n",
       "      <td>0.602040</td>\n",
       "      <td>1.137960</td>\n",
       "      <td>5.8</td>\n",
       "      <td>0</td>\n",
       "    </tr>\n",
       "    <tr>\n",
       "      <th>465</th>\n",
       "      <td>466</td>\n",
       "      <td>28</td>\n",
       "      <td>1</td>\n",
       "      <td>4</td>\n",
       "      <td>1</td>\n",
       "      <td>16</td>\n",
       "      <td>1.085280</td>\n",
       "      <td>2.722720</td>\n",
       "      <td>23.8</td>\n",
       "      <td>0</td>\n",
       "    </tr>\n",
       "    <tr>\n",
       "      <th>467</th>\n",
       "      <td>468</td>\n",
       "      <td>27</td>\n",
       "      <td>2</td>\n",
       "      <td>6</td>\n",
       "      <td>1</td>\n",
       "      <td>34</td>\n",
       "      <td>0.237864</td>\n",
       "      <td>1.258136</td>\n",
       "      <td>4.4</td>\n",
       "      <td>0</td>\n",
       "    </tr>\n",
       "    <tr>\n",
       "      <th>468</th>\n",
       "      <td>469</td>\n",
       "      <td>29</td>\n",
       "      <td>2</td>\n",
       "      <td>6</td>\n",
       "      <td>10</td>\n",
       "      <td>65</td>\n",
       "      <td>1.985360</td>\n",
       "      <td>9.974640</td>\n",
       "      <td>18.4</td>\n",
       "      <td>0</td>\n",
       "    </tr>\n",
       "    <tr>\n",
       "      <th>470</th>\n",
       "      <td>471</td>\n",
       "      <td>29</td>\n",
       "      <td>1</td>\n",
       "      <td>7</td>\n",
       "      <td>5</td>\n",
       "      <td>20</td>\n",
       "      <td>1.005840</td>\n",
       "      <td>2.954160</td>\n",
       "      <td>19.8</td>\n",
       "      <td>1</td>\n",
       "    </tr>\n",
       "    <tr>\n",
       "      <th>476</th>\n",
       "      <td>477</td>\n",
       "      <td>25</td>\n",
       "      <td>1</td>\n",
       "      <td>3</td>\n",
       "      <td>2</td>\n",
       "      <td>18</td>\n",
       "      <td>0.352080</td>\n",
       "      <td>2.581920</td>\n",
       "      <td>16.3</td>\n",
       "      <td>1</td>\n",
       "    </tr>\n",
       "    <tr>\n",
       "      <th>477</th>\n",
       "      <td>478</td>\n",
       "      <td>25</td>\n",
       "      <td>1</td>\n",
       "      <td>5</td>\n",
       "      <td>5</td>\n",
       "      <td>22</td>\n",
       "      <td>0.402864</td>\n",
       "      <td>1.995136</td>\n",
       "      <td>10.9</td>\n",
       "      <td>0</td>\n",
       "    </tr>\n",
       "    <tr>\n",
       "      <th>482</th>\n",
       "      <td>483</td>\n",
       "      <td>34</td>\n",
       "      <td>1</td>\n",
       "      <td>5</td>\n",
       "      <td>3</td>\n",
       "      <td>33</td>\n",
       "      <td>0.778107</td>\n",
       "      <td>1.630893</td>\n",
       "      <td>7.3</td>\n",
       "      <td>0</td>\n",
       "    </tr>\n",
       "    <tr>\n",
       "      <th>483</th>\n",
       "      <td>484</td>\n",
       "      <td>25</td>\n",
       "      <td>2</td>\n",
       "      <td>6</td>\n",
       "      <td>2</td>\n",
       "      <td>28</td>\n",
       "      <td>0.070200</td>\n",
       "      <td>1.099800</td>\n",
       "      <td>4.5</td>\n",
       "      <td>0</td>\n",
       "    </tr>\n",
       "    <tr>\n",
       "      <th>485</th>\n",
       "      <td>486</td>\n",
       "      <td>34</td>\n",
       "      <td>2</td>\n",
       "      <td>4</td>\n",
       "      <td>10</td>\n",
       "      <td>25</td>\n",
       "      <td>0.569850</td>\n",
       "      <td>0.880150</td>\n",
       "      <td>5.8</td>\n",
       "      <td>0</td>\n",
       "    </tr>\n",
       "    <tr>\n",
       "      <th>486</th>\n",
       "      <td>487</td>\n",
       "      <td>27</td>\n",
       "      <td>4</td>\n",
       "      <td>2</td>\n",
       "      <td>8</td>\n",
       "      <td>23</td>\n",
       "      <td>0.319884</td>\n",
       "      <td>0.991116</td>\n",
       "      <td>5.7</td>\n",
       "      <td>1</td>\n",
       "    </tr>\n",
       "    <tr>\n",
       "      <th>487</th>\n",
       "      <td>488</td>\n",
       "      <td>33</td>\n",
       "      <td>2</td>\n",
       "      <td>10</td>\n",
       "      <td>13</td>\n",
       "      <td>57</td>\n",
       "      <td>6.111369</td>\n",
       "      <td>5.801631</td>\n",
       "      <td>20.9</td>\n",
       "      <td>1</td>\n",
       "    </tr>\n",
       "    <tr>\n",
       "      <th>490</th>\n",
       "      <td>491</td>\n",
       "      <td>33</td>\n",
       "      <td>1</td>\n",
       "      <td>13</td>\n",
       "      <td>13</td>\n",
       "      <td>42</td>\n",
       "      <td>0.228312</td>\n",
       "      <td>1.283688</td>\n",
       "      <td>3.6</td>\n",
       "      <td>0</td>\n",
       "    </tr>\n",
       "    <tr>\n",
       "      <th>492</th>\n",
       "      <td>493</td>\n",
       "      <td>28</td>\n",
       "      <td>1</td>\n",
       "      <td>0</td>\n",
       "      <td>2</td>\n",
       "      <td>28</td>\n",
       "      <td>2.284380</td>\n",
       "      <td>7.039620</td>\n",
       "      <td>33.3</td>\n",
       "      <td>1</td>\n",
       "    </tr>\n",
       "    <tr>\n",
       "      <th>494</th>\n",
       "      <td>495</td>\n",
       "      <td>25</td>\n",
       "      <td>1</td>\n",
       "      <td>3</td>\n",
       "      <td>2</td>\n",
       "      <td>16</td>\n",
       "      <td>1.011040</td>\n",
       "      <td>1.836960</td>\n",
       "      <td>17.8</td>\n",
       "      <td>1</td>\n",
       "    </tr>\n",
       "    <tr>\n",
       "      <th>496</th>\n",
       "      <td>497</td>\n",
       "      <td>30</td>\n",
       "      <td>2</td>\n",
       "      <td>12</td>\n",
       "      <td>9</td>\n",
       "      <td>98</td>\n",
       "      <td>2.935296</td>\n",
       "      <td>4.120704</td>\n",
       "      <td>7.2</td>\n",
       "      <td>0</td>\n",
       "    </tr>\n",
       "    <tr>\n",
       "      <th>498</th>\n",
       "      <td>499</td>\n",
       "      <td>25</td>\n",
       "      <td>1</td>\n",
       "      <td>0</td>\n",
       "      <td>2</td>\n",
       "      <td>18</td>\n",
       "      <td>0.513702</td>\n",
       "      <td>2.888298</td>\n",
       "      <td>18.9</td>\n",
       "      <td>1</td>\n",
       "    </tr>\n",
       "  </tbody>\n",
       "</table>\n",
       "<p>218 rows × 10 columns</p>\n",
       "</div>"
      ],
      "text/plain": [
       "      ID  IDADE  EDUCACAO  TEMPO_EMP  TEMPO_END  RENDA  DIVIDA_CC  OUTRAS_DIV  \\\n",
       "1      2     27         1         10          6     31   1.362202    4.000798   \n",
       "10    11     27         1          0          1     16   0.182512    0.089488   \n",
       "11    12     25         1          4          0     23   0.252356    0.943644   \n",
       "22    23     28         1          3          6     26   0.431600    2.168400   \n",
       "23    24     29         1          8          6     27   0.402192    2.243808   \n",
       "25    26     25         4          0          2     32   2.140160    3.491840   \n",
       "28    29     33         2         12          8     58   3.084208    7.587792   \n",
       "29    30     26         3          2          1     37   0.204906    5.049094   \n",
       "31    32     30         1          1         10     22   1.138830    1.171170   \n",
       "32    33     27         3          2          7     26   0.722280    0.837720   \n",
       "33    34     25         1          8          4     27   1.018656    2.869344   \n",
       "34    35     25         1          8          1     35   0.077140    0.937860   \n",
       "35    36     26         2          6          7     45   6.048900    5.651100   \n",
       "36    37     30         2         10          4     22   1.409716    2.132284   \n",
       "37    38     32         2         12          1     54   3.195936    4.580064   \n",
       "38    39     28         2          1          8     24   1.337904    2.766096   \n",
       "41    42     34         1         17          3     59   1.807760    2.912240   \n",
       "44    45     26         1          0          0     14   0.302400    0.747600   \n",
       "50    51     34         1          2         11     25   0.573300    2.576700   \n",
       "60    61     31         1          9         10     28   0.047712    0.624288   \n",
       "61    62     29         1         13          1     42   1.457652    1.650348   \n",
       "63    64     33         2          4          9     55   2.159850    1.690150   \n",
       "64    65     26         2          5          7     28   1.024296    1.159704   \n",
       "65    66     32         2         11          6     75   7.758900    9.716100   \n",
       "66    67     28         2          2          3     23   0.186944    1.285056   \n",
       "68    69     28         2          8          3     31   1.492154    1.049846   \n",
       "69    70     29         1          1          2     20   0.569160    3.150840   \n",
       "70    71     34         2          3          8     21   1.401939    3.449061   \n",
       "71    72     28         2          5          9     34   3.099236    4.992764   \n",
       "77    78     29         1          1          9     17   0.157182    0.981818   \n",
       "..   ...    ...       ...        ...        ...    ...        ...         ...   \n",
       "418  419     32         2         11          4     57   5.439966    8.126034   \n",
       "423  424     30         3          8          7     61   0.549976    1.158024   \n",
       "430  431     34         1         12          5     68   7.817144    9.250856   \n",
       "433  434     29         2          0          8     22   1.038708    1.799292   \n",
       "436  437     27         1          0          5     16   0.130416    0.045584   \n",
       "438  439     32         2          8          2     45   0.982350    0.682650   \n",
       "441  442     32         1         10         11     42   1.540266    2.281734   \n",
       "446  447     32         3          5          9     23   0.326025    0.708975   \n",
       "449  450     31         1          2          2     22   1.739056    1.868944   \n",
       "451  452     28         2          6          9     22   0.650210    1.879790   \n",
       "455  456     30         1          0         11     17   0.303960    1.736040   \n",
       "459  460     30         1         10          2     19   0.336072    0.499928   \n",
       "462  463     31         3          9          2     28   0.121576    0.606424   \n",
       "463  464     31         2          9          1     30   0.602040    1.137960   \n",
       "465  466     28         1          4          1     16   1.085280    2.722720   \n",
       "467  468     27         2          6          1     34   0.237864    1.258136   \n",
       "468  469     29         2          6         10     65   1.985360    9.974640   \n",
       "470  471     29         1          7          5     20   1.005840    2.954160   \n",
       "476  477     25         1          3          2     18   0.352080    2.581920   \n",
       "477  478     25         1          5          5     22   0.402864    1.995136   \n",
       "482  483     34         1          5          3     33   0.778107    1.630893   \n",
       "483  484     25         2          6          2     28   0.070200    1.099800   \n",
       "485  486     34         2          4         10     25   0.569850    0.880150   \n",
       "486  487     27         4          2          8     23   0.319884    0.991116   \n",
       "487  488     33         2         10         13     57   6.111369    5.801631   \n",
       "490  491     33         1         13         13     42   0.228312    1.283688   \n",
       "492  493     28         1          0          2     28   2.284380    7.039620   \n",
       "494  495     25         1          3          2     16   1.011040    1.836960   \n",
       "496  497     30         2         12          9     98   2.935296    4.120704   \n",
       "498  499     25         1          0          2     18   0.513702    2.888298   \n",
       "\n",
       "     GRAU_ENDIV  DEFAULT  \n",
       "1          17.3        0  \n",
       "10          1.7        0  \n",
       "11          5.2        0  \n",
       "22         10.0        0  \n",
       "23          9.8        0  \n",
       "25         17.6        0  \n",
       "28         18.4        0  \n",
       "29         14.2        0  \n",
       "31         10.5        0  \n",
       "32          6.0        0  \n",
       "33         14.4        0  \n",
       "34          2.9        0  \n",
       "35         26.0        0  \n",
       "36         16.1        0  \n",
       "37         14.4        0  \n",
       "38         17.1        1  \n",
       "41          8.0        0  \n",
       "44          7.5        1  \n",
       "50         12.6        1  \n",
       "60          2.4        0  \n",
       "61          7.4        1  \n",
       "63          7.0        0  \n",
       "64          7.8        0  \n",
       "65         23.3        1  \n",
       "66          6.4        1  \n",
       "68          8.2        1  \n",
       "69         18.6        1  \n",
       "70         23.1        0  \n",
       "71         23.8        0  \n",
       "77          6.7        0  \n",
       "..          ...      ...  \n",
       "418        23.8        1  \n",
       "423         2.8        0  \n",
       "430        25.1        1  \n",
       "433        12.9        1  \n",
       "436         1.1        0  \n",
       "438         3.7        0  \n",
       "441         9.1        0  \n",
       "446         4.5        0  \n",
       "449        16.4        1  \n",
       "451        11.5        0  \n",
       "455        12.0        0  \n",
       "459         4.4        0  \n",
       "462         2.6        0  \n",
       "463         5.8        0  \n",
       "465        23.8        0  \n",
       "467         4.4        0  \n",
       "468        18.4        0  \n",
       "470        19.8        1  \n",
       "476        16.3        1  \n",
       "477        10.9        0  \n",
       "482         7.3        0  \n",
       "483         4.5        0  \n",
       "485         5.8        0  \n",
       "486         5.7        1  \n",
       "487        20.9        1  \n",
       "490         3.6        0  \n",
       "492        33.3        1  \n",
       "494        17.8        1  \n",
       "496         7.2        0  \n",
       "498        18.9        1  \n",
       "\n",
       "[218 rows x 10 columns]"
      ]
     },
     "execution_count": 24,
     "metadata": {},
     "output_type": "execute_result"
    }
   ],
   "source": [
    "dados[(dados.IDADE >= 25) & (dados.IDADE < 35)]"
   ]
  },
  {
   "cell_type": "markdown",
   "metadata": {
    "slideshow": {
     "slide_type": "slide"
    }
   },
   "source": [
    "## Seleção de colunas\n",
    "\n",
    "Em cima da condição especificada, podemos ainda selecionar apenas uma coluna"
   ]
  },
  {
   "cell_type": "code",
   "execution_count": 25,
   "metadata": {
    "collapsed": false,
    "scrolled": true,
    "slideshow": {
     "slide_type": "fragment"
    }
   },
   "outputs": [
    {
     "data": {
      "text/plain": [
       "0      41\n",
       "4      24\n",
       "8      24\n",
       "15     36\n",
       "16     36\n",
       "24     21\n",
       "38     28\n",
       "44     26\n",
       "48     23\n",
       "50     34\n",
       "52     46\n",
       "55     37\n",
       "61     29\n",
       "65     32\n",
       "66     28\n",
       "68     28\n",
       "69     29\n",
       "80     26\n",
       "86     29\n",
       "89     23\n",
       "91     25\n",
       "93     32\n",
       "94     41\n",
       "99     38\n",
       "106    53\n",
       "118    31\n",
       "119    25\n",
       "121    23\n",
       "122    34\n",
       "123    31\n",
       "       ..\n",
       "414    29\n",
       "418    32\n",
       "420    46\n",
       "424    23\n",
       "428    23\n",
       "430    34\n",
       "433    29\n",
       "443    24\n",
       "444    43\n",
       "448    46\n",
       "449    31\n",
       "454    37\n",
       "461    21\n",
       "466    47\n",
       "469    21\n",
       "470    29\n",
       "471    24\n",
       "476    25\n",
       "481    24\n",
       "484    45\n",
       "486    27\n",
       "487    33\n",
       "488    35\n",
       "491    41\n",
       "492    28\n",
       "493    38\n",
       "494    25\n",
       "495    47\n",
       "498    25\n",
       "499    41\n",
       "Name: IDADE, dtype: int64"
      ]
     },
     "execution_count": 25,
     "metadata": {},
     "output_type": "execute_result"
    }
   ],
   "source": [
    "dados[dados.DEFAULT==1].IDADE"
   ]
  },
  {
   "cell_type": "markdown",
   "metadata": {
    "slideshow": {
     "slide_type": "slide"
    }
   },
   "source": [
    "## Listando as colunas\n",
    "\n",
    "List devolve uma lista das colunas do DataFrame"
   ]
  },
  {
   "cell_type": "code",
   "execution_count": 26,
   "metadata": {
    "collapsed": false,
    "slideshow": {
     "slide_type": "fragment"
    }
   },
   "outputs": [
    {
     "data": {
      "text/plain": [
       "['ID',\n",
       " 'IDADE',\n",
       " 'EDUCACAO',\n",
       " 'TEMPO_EMP',\n",
       " 'TEMPO_END',\n",
       " 'RENDA',\n",
       " 'DIVIDA_CC',\n",
       " 'OUTRAS_DIV',\n",
       " 'GRAU_ENDIV',\n",
       " 'DEFAULT']"
      ]
     },
     "execution_count": 26,
     "metadata": {},
     "output_type": "execute_result"
    }
   ],
   "source": [
    "list(dados)"
   ]
  },
  {
   "cell_type": "markdown",
   "metadata": {},
   "source": [
    "### Listando as colunas"
   ]
  },
  {
   "cell_type": "code",
   "execution_count": 27,
   "metadata": {
    "collapsed": false
   },
   "outputs": [
    {
     "data": {
      "text/plain": [
       "Index(['ID', 'IDADE', 'EDUCACAO', 'TEMPO_EMP', 'TEMPO_END', 'RENDA',\n",
       "       'DIVIDA_CC', 'OUTRAS_DIV', 'GRAU_ENDIV', 'DEFAULT'],\n",
       "      dtype='object')"
      ]
     },
     "execution_count": 27,
     "metadata": {},
     "output_type": "execute_result"
    }
   ],
   "source": [
    "dados.columns"
   ]
  },
  {
   "cell_type": "markdown",
   "metadata": {
    "slideshow": {
     "slide_type": "slide"
    }
   },
   "source": [
    "## Ordenando valores "
   ]
  },
  {
   "cell_type": "markdown",
   "metadata": {
    "slideshow": {
     "slide_type": "fragment"
    }
   },
   "source": [
    "O método `sort_values()` ordena pela coluna desejada"
   ]
  },
  {
   "cell_type": "code",
   "execution_count": 28,
   "metadata": {
    "collapsed": false,
    "slideshow": {
     "slide_type": "fragment"
    }
   },
   "outputs": [
    {
     "data": {
      "text/html": [
       "<div>\n",
       "<table border=\"1\" class=\"dataframe\">\n",
       "  <thead>\n",
       "    <tr style=\"text-align: right;\">\n",
       "      <th></th>\n",
       "      <th>ID</th>\n",
       "      <th>IDADE</th>\n",
       "      <th>EDUCACAO</th>\n",
       "      <th>TEMPO_EMP</th>\n",
       "      <th>TEMPO_END</th>\n",
       "      <th>RENDA</th>\n",
       "      <th>DIVIDA_CC</th>\n",
       "      <th>OUTRAS_DIV</th>\n",
       "      <th>GRAU_ENDIV</th>\n",
       "      <th>DEFAULT</th>\n",
       "    </tr>\n",
       "  </thead>\n",
       "  <tbody>\n",
       "    <tr>\n",
       "      <th>160</th>\n",
       "      <td>161</td>\n",
       "      <td>21</td>\n",
       "      <td>1</td>\n",
       "      <td>4</td>\n",
       "      <td>0</td>\n",
       "      <td>26</td>\n",
       "      <td>1.420796</td>\n",
       "      <td>0.893204</td>\n",
       "      <td>8.9</td>\n",
       "      <td>0</td>\n",
       "    </tr>\n",
       "    <tr>\n",
       "      <th>388</th>\n",
       "      <td>389</td>\n",
       "      <td>31</td>\n",
       "      <td>1</td>\n",
       "      <td>7</td>\n",
       "      <td>10</td>\n",
       "      <td>23</td>\n",
       "      <td>0.225400</td>\n",
       "      <td>0.901600</td>\n",
       "      <td>4.9</td>\n",
       "      <td>0</td>\n",
       "    </tr>\n",
       "    <tr>\n",
       "      <th>206</th>\n",
       "      <td>207</td>\n",
       "      <td>33</td>\n",
       "      <td>1</td>\n",
       "      <td>7</td>\n",
       "      <td>6</td>\n",
       "      <td>26</td>\n",
       "      <td>0.542880</td>\n",
       "      <td>1.017120</td>\n",
       "      <td>6.0</td>\n",
       "      <td>0</td>\n",
       "    </tr>\n",
       "    <tr>\n",
       "      <th>389</th>\n",
       "      <td>390</td>\n",
       "      <td>34</td>\n",
       "      <td>1</td>\n",
       "      <td>13</td>\n",
       "      <td>8</td>\n",
       "      <td>56</td>\n",
       "      <td>0.864248</td>\n",
       "      <td>2.551752</td>\n",
       "      <td>6.1</td>\n",
       "      <td>0</td>\n",
       "    </tr>\n",
       "    <tr>\n",
       "      <th>390</th>\n",
       "      <td>391</td>\n",
       "      <td>40</td>\n",
       "      <td>1</td>\n",
       "      <td>22</td>\n",
       "      <td>4</td>\n",
       "      <td>95</td>\n",
       "      <td>0.632700</td>\n",
       "      <td>2.787300</td>\n",
       "      <td>3.6</td>\n",
       "      <td>0</td>\n",
       "    </tr>\n",
       "  </tbody>\n",
       "</table>\n",
       "</div>"
      ],
      "text/plain": [
       "      ID  IDADE  EDUCACAO  TEMPO_EMP  TEMPO_END  RENDA  DIVIDA_CC  OUTRAS_DIV  \\\n",
       "160  161     21         1          4          0     26   1.420796    0.893204   \n",
       "388  389     31         1          7         10     23   0.225400    0.901600   \n",
       "206  207     33         1          7          6     26   0.542880    1.017120   \n",
       "389  390     34         1         13          8     56   0.864248    2.551752   \n",
       "390  391     40         1         22          4     95   0.632700    2.787300   \n",
       "\n",
       "     GRAU_ENDIV  DEFAULT  \n",
       "160         8.9        0  \n",
       "388         4.9        0  \n",
       "206         6.0        0  \n",
       "389         6.1        0  \n",
       "390         3.6        0  "
      ]
     },
     "execution_count": 28,
     "metadata": {},
     "output_type": "execute_result"
    }
   ],
   "source": [
    "dados.sort_values(by=\"EDUCACAO\").head()"
   ]
  },
  {
   "cell_type": "markdown",
   "metadata": {
    "slideshow": {
     "slide_type": "slide"
    }
   },
   "source": [
    "# VARIÁVEIS QUALITATIVAS\n",
    "\n",
    "\n",
    "## Tabelas e Gráficos"
   ]
  },
  {
   "cell_type": "markdown",
   "metadata": {
    "slideshow": {
     "slide_type": "slide"
    }
   },
   "source": [
    "## Dados categóricos\n",
    "\n",
    "\n",
    "Observe o tipo dos dados da coluna EDUCACAO!!\n",
    "\n",
    "Apesar de mostra valor inteiros, é uma variável qualitativa!"
   ]
  },
  {
   "cell_type": "code",
   "execution_count": 29,
   "metadata": {
    "collapsed": false,
    "slideshow": {
     "slide_type": "fragment"
    }
   },
   "outputs": [
    {
     "data": {
      "text/plain": [
       "0      3\n",
       "1      1\n",
       "2      1\n",
       "3      1\n",
       "4      2\n",
       "5      2\n",
       "6      1\n",
       "7      1\n",
       "8      1\n",
       "9      1\n",
       "10     1\n",
       "11     1\n",
       "12     1\n",
       "13     1\n",
       "14     1\n",
       "15     2\n",
       "16     2\n",
       "17     1\n",
       "18     1\n",
       "19     3\n",
       "20     1\n",
       "21     1\n",
       "22     1\n",
       "23     1\n",
       "24     2\n",
       "25     4\n",
       "26     2\n",
       "27     1\n",
       "28     2\n",
       "29     3\n",
       "      ..\n",
       "470    1\n",
       "471    4\n",
       "472    1\n",
       "473    1\n",
       "474    2\n",
       "475    2\n",
       "476    1\n",
       "477    1\n",
       "478    2\n",
       "479    1\n",
       "480    1\n",
       "481    2\n",
       "482    1\n",
       "483    2\n",
       "484    3\n",
       "485    2\n",
       "486    4\n",
       "487    2\n",
       "488    2\n",
       "489    2\n",
       "490    1\n",
       "491    3\n",
       "492    1\n",
       "493    3\n",
       "494    1\n",
       "495    2\n",
       "496    2\n",
       "497    2\n",
       "498    1\n",
       "499    2\n",
       "Name: EDUCACAO, dtype: int64"
      ]
     },
     "execution_count": 29,
     "metadata": {},
     "output_type": "execute_result"
    }
   ],
   "source": [
    "dados.EDUCACAO"
   ]
  },
  {
   "cell_type": "markdown",
   "metadata": {
    "slideshow": {
     "slide_type": "slide"
    }
   },
   "source": [
    "## Criando as categorias\n",
    "\n",
    "Vamos indicar para o Pandas que a coluna EDUCACAO é do tipo categórica (variável qualitativa)!"
   ]
  },
  {
   "cell_type": "code",
   "execution_count": 30,
   "metadata": {
    "collapsed": true,
    "slideshow": {
     "slide_type": "fragment"
    }
   },
   "outputs": [],
   "source": [
    "dados.EDUCACAO = dados.EDUCACAO.astype('category')"
   ]
  },
  {
   "cell_type": "code",
   "execution_count": 31,
   "metadata": {
    "collapsed": false,
    "slideshow": {
     "slide_type": "fragment"
    }
   },
   "outputs": [
    {
     "data": {
      "text/plain": [
       "0      3\n",
       "1      1\n",
       "2      1\n",
       "3      1\n",
       "4      2\n",
       "5      2\n",
       "6      1\n",
       "7      1\n",
       "8      1\n",
       "9      1\n",
       "10     1\n",
       "11     1\n",
       "12     1\n",
       "13     1\n",
       "14     1\n",
       "15     2\n",
       "16     2\n",
       "17     1\n",
       "18     1\n",
       "19     3\n",
       "20     1\n",
       "21     1\n",
       "22     1\n",
       "23     1\n",
       "24     2\n",
       "25     4\n",
       "26     2\n",
       "27     1\n",
       "28     2\n",
       "29     3\n",
       "      ..\n",
       "470    1\n",
       "471    4\n",
       "472    1\n",
       "473    1\n",
       "474    2\n",
       "475    2\n",
       "476    1\n",
       "477    1\n",
       "478    2\n",
       "479    1\n",
       "480    1\n",
       "481    2\n",
       "482    1\n",
       "483    2\n",
       "484    3\n",
       "485    2\n",
       "486    4\n",
       "487    2\n",
       "488    2\n",
       "489    2\n",
       "490    1\n",
       "491    3\n",
       "492    1\n",
       "493    3\n",
       "494    1\n",
       "495    2\n",
       "496    2\n",
       "497    2\n",
       "498    1\n",
       "499    2\n",
       "Name: EDUCACAO, dtype: category\n",
       "Categories (5, int64): [1, 2, 3, 4, 5]"
      ]
     },
     "execution_count": 31,
     "metadata": {},
     "output_type": "execute_result"
    }
   ],
   "source": [
    "dados.EDUCACAO"
   ]
  },
  {
   "cell_type": "markdown",
   "metadata": {
    "slideshow": {
     "slide_type": "slide"
    }
   },
   "source": [
    "## Mudando rótulos categóricos\n",
    "\n",
    "Vamos substituir os números das categorias por rótulos!"
   ]
  },
  {
   "cell_type": "code",
   "execution_count": 32,
   "metadata": {
    "collapsed": false,
    "slideshow": {
     "slide_type": "fragment"
    }
   },
   "outputs": [],
   "source": [
    "dados.EDUCACAO.cat.categories = ('Analfabeto', '1o. Grau', '2o. Grau', 'Graduacao', 'Pos-Graduacao')"
   ]
  },
  {
   "cell_type": "code",
   "execution_count": 33,
   "metadata": {
    "collapsed": false,
    "scrolled": true,
    "slideshow": {
     "slide_type": "slide"
    }
   },
   "outputs": [
    {
     "data": {
      "text/html": [
       "<div>\n",
       "<table border=\"1\" class=\"dataframe\">\n",
       "  <thead>\n",
       "    <tr style=\"text-align: right;\">\n",
       "      <th></th>\n",
       "      <th>ID</th>\n",
       "      <th>IDADE</th>\n",
       "      <th>EDUCACAO</th>\n",
       "      <th>TEMPO_EMP</th>\n",
       "      <th>TEMPO_END</th>\n",
       "      <th>RENDA</th>\n",
       "      <th>DIVIDA_CC</th>\n",
       "      <th>OUTRAS_DIV</th>\n",
       "      <th>GRAU_ENDIV</th>\n",
       "      <th>DEFAULT</th>\n",
       "    </tr>\n",
       "  </thead>\n",
       "  <tbody>\n",
       "    <tr>\n",
       "      <th>0</th>\n",
       "      <td>1</td>\n",
       "      <td>41</td>\n",
       "      <td>2o. Grau</td>\n",
       "      <td>18</td>\n",
       "      <td>7</td>\n",
       "      <td>176</td>\n",
       "      <td>11.359392</td>\n",
       "      <td>5.008608</td>\n",
       "      <td>10.3</td>\n",
       "      <td>1</td>\n",
       "    </tr>\n",
       "    <tr>\n",
       "      <th>1</th>\n",
       "      <td>2</td>\n",
       "      <td>27</td>\n",
       "      <td>Analfabeto</td>\n",
       "      <td>10</td>\n",
       "      <td>6</td>\n",
       "      <td>31</td>\n",
       "      <td>1.362202</td>\n",
       "      <td>4.000798</td>\n",
       "      <td>17.3</td>\n",
       "      <td>0</td>\n",
       "    </tr>\n",
       "    <tr>\n",
       "      <th>2</th>\n",
       "      <td>3</td>\n",
       "      <td>40</td>\n",
       "      <td>Analfabeto</td>\n",
       "      <td>15</td>\n",
       "      <td>14</td>\n",
       "      <td>55</td>\n",
       "      <td>0.856075</td>\n",
       "      <td>2.168925</td>\n",
       "      <td>5.5</td>\n",
       "      <td>0</td>\n",
       "    </tr>\n",
       "    <tr>\n",
       "      <th>3</th>\n",
       "      <td>4</td>\n",
       "      <td>41</td>\n",
       "      <td>Analfabeto</td>\n",
       "      <td>15</td>\n",
       "      <td>14</td>\n",
       "      <td>120</td>\n",
       "      <td>2.658720</td>\n",
       "      <td>0.821280</td>\n",
       "      <td>2.9</td>\n",
       "      <td>0</td>\n",
       "    </tr>\n",
       "    <tr>\n",
       "      <th>4</th>\n",
       "      <td>5</td>\n",
       "      <td>24</td>\n",
       "      <td>1o. Grau</td>\n",
       "      <td>2</td>\n",
       "      <td>0</td>\n",
       "      <td>28</td>\n",
       "      <td>1.787436</td>\n",
       "      <td>3.056564</td>\n",
       "      <td>17.3</td>\n",
       "      <td>1</td>\n",
       "    </tr>\n",
       "  </tbody>\n",
       "</table>\n",
       "</div>"
      ],
      "text/plain": [
       "   ID  IDADE    EDUCACAO  TEMPO_EMP  TEMPO_END  RENDA  DIVIDA_CC  OUTRAS_DIV  \\\n",
       "0   1     41    2o. Grau         18          7    176  11.359392    5.008608   \n",
       "1   2     27  Analfabeto         10          6     31   1.362202    4.000798   \n",
       "2   3     40  Analfabeto         15         14     55   0.856075    2.168925   \n",
       "3   4     41  Analfabeto         15         14    120   2.658720    0.821280   \n",
       "4   5     24    1o. Grau          2          0     28   1.787436    3.056564   \n",
       "\n",
       "   GRAU_ENDIV  DEFAULT  \n",
       "0        10.3        1  \n",
       "1        17.3        0  \n",
       "2         5.5        0  \n",
       "3         2.9        0  \n",
       "4        17.3        1  "
      ]
     },
     "execution_count": 33,
     "metadata": {},
     "output_type": "execute_result"
    }
   ],
   "source": [
    "dados.head()"
   ]
  },
  {
   "cell_type": "markdown",
   "metadata": {
    "slideshow": {
     "slide_type": "slide"
    }
   },
   "source": [
    "### Fazendo o mesmo para a coluna DEFAULT"
   ]
  },
  {
   "cell_type": "code",
   "execution_count": 34,
   "metadata": {
    "collapsed": true,
    "slideshow": {
     "slide_type": "fragment"
    }
   },
   "outputs": [],
   "source": [
    "dados.DEFAULT = dados.DEFAULT.astype('category')\n"
   ]
  },
  {
   "cell_type": "code",
   "execution_count": 35,
   "metadata": {
    "collapsed": false,
    "slideshow": {
     "slide_type": "fragment"
    }
   },
   "outputs": [
    {
     "data": {
      "text/plain": [
       "Int64Index([0, 1], dtype='int64')"
      ]
     },
     "execution_count": 35,
     "metadata": {},
     "output_type": "execute_result"
    }
   ],
   "source": [
    "dados.DEFAULT.cat.categories"
   ]
  },
  {
   "cell_type": "markdown",
   "metadata": {
    "slideshow": {
     "slide_type": "fragment"
    }
   },
   "source": [
    "Note que a palavra `DEFAULT` neste caso indica *default* financeiro. Ou seja: inadimplência. "
   ]
  },
  {
   "cell_type": "code",
   "execution_count": 36,
   "metadata": {
    "collapsed": true,
    "slideshow": {
     "slide_type": "fragment"
    }
   },
   "outputs": [],
   "source": [
    "dados.DEFAULT.cat.categories = ('Adimplente', 'Inadimplente')"
   ]
  },
  {
   "cell_type": "code",
   "execution_count": 37,
   "metadata": {
    "collapsed": false,
    "scrolled": false,
    "slideshow": {
     "slide_type": "slide"
    }
   },
   "outputs": [
    {
     "data": {
      "text/html": [
       "<div>\n",
       "<table border=\"1\" class=\"dataframe\">\n",
       "  <thead>\n",
       "    <tr style=\"text-align: right;\">\n",
       "      <th></th>\n",
       "      <th>ID</th>\n",
       "      <th>IDADE</th>\n",
       "      <th>EDUCACAO</th>\n",
       "      <th>TEMPO_EMP</th>\n",
       "      <th>TEMPO_END</th>\n",
       "      <th>RENDA</th>\n",
       "      <th>DIVIDA_CC</th>\n",
       "      <th>OUTRAS_DIV</th>\n",
       "      <th>GRAU_ENDIV</th>\n",
       "      <th>DEFAULT</th>\n",
       "    </tr>\n",
       "  </thead>\n",
       "  <tbody>\n",
       "    <tr>\n",
       "      <th>0</th>\n",
       "      <td>1</td>\n",
       "      <td>41</td>\n",
       "      <td>2o. Grau</td>\n",
       "      <td>18</td>\n",
       "      <td>7</td>\n",
       "      <td>176</td>\n",
       "      <td>11.359392</td>\n",
       "      <td>5.008608</td>\n",
       "      <td>10.3</td>\n",
       "      <td>Inadimplente</td>\n",
       "    </tr>\n",
       "    <tr>\n",
       "      <th>1</th>\n",
       "      <td>2</td>\n",
       "      <td>27</td>\n",
       "      <td>Analfabeto</td>\n",
       "      <td>10</td>\n",
       "      <td>6</td>\n",
       "      <td>31</td>\n",
       "      <td>1.362202</td>\n",
       "      <td>4.000798</td>\n",
       "      <td>17.3</td>\n",
       "      <td>Adimplente</td>\n",
       "    </tr>\n",
       "    <tr>\n",
       "      <th>2</th>\n",
       "      <td>3</td>\n",
       "      <td>40</td>\n",
       "      <td>Analfabeto</td>\n",
       "      <td>15</td>\n",
       "      <td>14</td>\n",
       "      <td>55</td>\n",
       "      <td>0.856075</td>\n",
       "      <td>2.168925</td>\n",
       "      <td>5.5</td>\n",
       "      <td>Adimplente</td>\n",
       "    </tr>\n",
       "    <tr>\n",
       "      <th>3</th>\n",
       "      <td>4</td>\n",
       "      <td>41</td>\n",
       "      <td>Analfabeto</td>\n",
       "      <td>15</td>\n",
       "      <td>14</td>\n",
       "      <td>120</td>\n",
       "      <td>2.658720</td>\n",
       "      <td>0.821280</td>\n",
       "      <td>2.9</td>\n",
       "      <td>Adimplente</td>\n",
       "    </tr>\n",
       "    <tr>\n",
       "      <th>4</th>\n",
       "      <td>5</td>\n",
       "      <td>24</td>\n",
       "      <td>1o. Grau</td>\n",
       "      <td>2</td>\n",
       "      <td>0</td>\n",
       "      <td>28</td>\n",
       "      <td>1.787436</td>\n",
       "      <td>3.056564</td>\n",
       "      <td>17.3</td>\n",
       "      <td>Inadimplente</td>\n",
       "    </tr>\n",
       "  </tbody>\n",
       "</table>\n",
       "</div>"
      ],
      "text/plain": [
       "   ID  IDADE    EDUCACAO  TEMPO_EMP  TEMPO_END  RENDA  DIVIDA_CC  OUTRAS_DIV  \\\n",
       "0   1     41    2o. Grau         18          7    176  11.359392    5.008608   \n",
       "1   2     27  Analfabeto         10          6     31   1.362202    4.000798   \n",
       "2   3     40  Analfabeto         15         14     55   0.856075    2.168925   \n",
       "3   4     41  Analfabeto         15         14    120   2.658720    0.821280   \n",
       "4   5     24    1o. Grau          2          0     28   1.787436    3.056564   \n",
       "\n",
       "   GRAU_ENDIV       DEFAULT  \n",
       "0        10.3  Inadimplente  \n",
       "1        17.3    Adimplente  \n",
       "2         5.5    Adimplente  \n",
       "3         2.9    Adimplente  \n",
       "4        17.3  Inadimplente  "
      ]
     },
     "execution_count": 37,
     "metadata": {},
     "output_type": "execute_result"
    }
   ],
   "source": [
    "dados.head()"
   ]
  },
  {
   "cell_type": "markdown",
   "metadata": {
    "slideshow": {
     "slide_type": "slide"
    }
   },
   "source": [
    "## Contando valores de uma variável *Qualitativa*"
   ]
  },
  {
   "cell_type": "code",
   "execution_count": 38,
   "metadata": {
    "collapsed": false,
    "slideshow": {
     "slide_type": "fragment"
    }
   },
   "outputs": [
    {
     "data": {
      "text/plain": [
       "Analfabeto       269\n",
       "1o. Grau         139\n",
       "2o. Grau          61\n",
       "Graduacao         27\n",
       "Pos-Graduacao      4\n",
       "Name: EDUCACAO, dtype: int64"
      ]
     },
     "execution_count": 38,
     "metadata": {},
     "output_type": "execute_result"
    }
   ],
   "source": [
    "dados.EDUCACAO.value_counts()\n"
   ]
  },
  {
   "cell_type": "markdown",
   "metadata": {
    "slideshow": {
     "slide_type": "slide"
    }
   },
   "source": [
    "## Normalizando a contagem"
   ]
  },
  {
   "cell_type": "code",
   "execution_count": 39,
   "metadata": {
    "collapsed": false,
    "slideshow": {
     "slide_type": "fragment"
    }
   },
   "outputs": [
    {
     "data": {
      "text/plain": [
       "Analfabeto       0.538\n",
       "1o. Grau         0.278\n",
       "2o. Grau         0.122\n",
       "Graduacao        0.054\n",
       "Pos-Graduacao    0.008\n",
       "Name: EDUCACAO, dtype: float64"
      ]
     },
     "execution_count": 39,
     "metadata": {},
     "output_type": "execute_result"
    }
   ],
   "source": [
    "dados.EDUCACAO.value_counts(True)\n"
   ]
  },
  {
   "cell_type": "markdown",
   "metadata": {
    "slideshow": {
     "slide_type": "slide"
    }
   },
   "source": [
    "### Obtendo percentuais\n",
    "\n",
    "Basta multiplicar as frequências relativas por 100"
   ]
  },
  {
   "cell_type": "code",
   "execution_count": 40,
   "metadata": {
    "collapsed": false,
    "slideshow": {
     "slide_type": "fragment"
    }
   },
   "outputs": [
    {
     "data": {
      "text/plain": [
       "Analfabeto       53.8\n",
       "1o. Grau         27.8\n",
       "2o. Grau         12.2\n",
       "Graduacao         5.4\n",
       "Pos-Graduacao     0.8\n",
       "Name: EDUCACAO, dtype: float64"
      ]
     },
     "execution_count": 40,
     "metadata": {},
     "output_type": "execute_result"
    }
   ],
   "source": [
    "dados.EDUCACAO.value_counts(True) * 100\n"
   ]
  },
  {
   "cell_type": "code",
   "execution_count": 41,
   "metadata": {
    "collapsed": false,
    "slideshow": {
     "slide_type": "skip"
    }
   },
   "outputs": [
    {
     "data": {
      "text/plain": [
       "Adimplente      371\n",
       "Inadimplente    129\n",
       "Name: DEFAULT, dtype: int64"
      ]
     },
     "execution_count": 41,
     "metadata": {},
     "output_type": "execute_result"
    }
   ],
   "source": [
    "dados.DEFAULT.value_counts()\n"
   ]
  },
  {
   "cell_type": "code",
   "execution_count": 42,
   "metadata": {
    "collapsed": false,
    "slideshow": {
     "slide_type": "skip"
    }
   },
   "outputs": [
    {
     "data": {
      "text/plain": [
       "Adimplente      0.742\n",
       "Inadimplente    0.258\n",
       "Name: DEFAULT, dtype: float64"
      ]
     },
     "execution_count": 42,
     "metadata": {},
     "output_type": "execute_result"
    }
   ],
   "source": [
    "dados.DEFAULT.value_counts(True)\n"
   ]
  },
  {
   "cell_type": "code",
   "execution_count": 43,
   "metadata": {
    "collapsed": false,
    "slideshow": {
     "slide_type": "skip"
    }
   },
   "outputs": [
    {
     "data": {
      "text/plain": [
       "Adimplente      74.2\n",
       "Inadimplente    25.8\n",
       "Name: DEFAULT, dtype: float64"
      ]
     },
     "execution_count": 43,
     "metadata": {},
     "output_type": "execute_result"
    }
   ],
   "source": [
    "dados.DEFAULT.value_counts(True) * 100\n"
   ]
  },
  {
   "cell_type": "markdown",
   "metadata": {
    "slideshow": {
     "slide_type": "slide"
    }
   },
   "source": [
    "## Cruzando duas variáveis *Qualitativas*\n",
    "\n",
    "Tabela cruzada *crosstab* com frequências absolutas"
   ]
  },
  {
   "cell_type": "code",
   "execution_count": 44,
   "metadata": {
    "collapsed": true,
    "slideshow": {
     "slide_type": "fragment"
    }
   },
   "outputs": [],
   "source": [
    "ct = pd.crosstab(dados.EDUCACAO, dados.DEFAULT)\n"
   ]
  },
  {
   "cell_type": "code",
   "execution_count": 45,
   "metadata": {
    "collapsed": false,
    "scrolled": true,
    "slideshow": {
     "slide_type": "fragment"
    }
   },
   "outputs": [
    {
     "data": {
      "text/html": [
       "<div>\n",
       "<table border=\"1\" class=\"dataframe\">\n",
       "  <thead>\n",
       "    <tr style=\"text-align: right;\">\n",
       "      <th>DEFAULT</th>\n",
       "      <th>Adimplente</th>\n",
       "      <th>Inadimplente</th>\n",
       "    </tr>\n",
       "    <tr>\n",
       "      <th>EDUCACAO</th>\n",
       "      <th></th>\n",
       "      <th></th>\n",
       "    </tr>\n",
       "  </thead>\n",
       "  <tbody>\n",
       "    <tr>\n",
       "      <th>Analfabeto</th>\n",
       "      <td>214</td>\n",
       "      <td>55</td>\n",
       "    </tr>\n",
       "    <tr>\n",
       "      <th>1o. Grau</th>\n",
       "      <td>98</td>\n",
       "      <td>41</td>\n",
       "    </tr>\n",
       "    <tr>\n",
       "      <th>2o. Grau</th>\n",
       "      <td>39</td>\n",
       "      <td>22</td>\n",
       "    </tr>\n",
       "    <tr>\n",
       "      <th>Graduacao</th>\n",
       "      <td>17</td>\n",
       "      <td>10</td>\n",
       "    </tr>\n",
       "    <tr>\n",
       "      <th>Pos-Graduacao</th>\n",
       "      <td>3</td>\n",
       "      <td>1</td>\n",
       "    </tr>\n",
       "  </tbody>\n",
       "</table>\n",
       "</div>"
      ],
      "text/plain": [
       "DEFAULT        Adimplente  Inadimplente\n",
       "EDUCACAO                               \n",
       "Analfabeto            214            55\n",
       "1o. Grau               98            41\n",
       "2o. Grau               39            22\n",
       "Graduacao              17            10\n",
       "Pos-Graduacao           3             1"
      ]
     },
     "execution_count": 45,
     "metadata": {},
     "output_type": "execute_result"
    }
   ],
   "source": [
    "ct"
   ]
  },
  {
   "cell_type": "markdown",
   "metadata": {
    "slideshow": {
     "slide_type": "slide"
    }
   },
   "source": [
    "### Normalizando o crosstab\n",
    "\n",
    "Para obter uma versão normalizada"
   ]
  },
  {
   "cell_type": "code",
   "execution_count": 46,
   "metadata": {
    "collapsed": false,
    "slideshow": {
     "slide_type": "fragment"
    }
   },
   "outputs": [
    {
     "data": {
      "text/html": [
       "<div>\n",
       "<table border=\"1\" class=\"dataframe\">\n",
       "  <thead>\n",
       "    <tr style=\"text-align: right;\">\n",
       "      <th>DEFAULT</th>\n",
       "      <th>Adimplente</th>\n",
       "      <th>Inadimplente</th>\n",
       "    </tr>\n",
       "    <tr>\n",
       "      <th>EDUCACAO</th>\n",
       "      <th></th>\n",
       "      <th></th>\n",
       "    </tr>\n",
       "  </thead>\n",
       "  <tbody>\n",
       "    <tr>\n",
       "      <th>Analfabeto</th>\n",
       "      <td>0.428</td>\n",
       "      <td>0.110</td>\n",
       "    </tr>\n",
       "    <tr>\n",
       "      <th>1o. Grau</th>\n",
       "      <td>0.196</td>\n",
       "      <td>0.082</td>\n",
       "    </tr>\n",
       "    <tr>\n",
       "      <th>2o. Grau</th>\n",
       "      <td>0.078</td>\n",
       "      <td>0.044</td>\n",
       "    </tr>\n",
       "    <tr>\n",
       "      <th>Graduacao</th>\n",
       "      <td>0.034</td>\n",
       "      <td>0.020</td>\n",
       "    </tr>\n",
       "    <tr>\n",
       "      <th>Pos-Graduacao</th>\n",
       "      <td>0.006</td>\n",
       "      <td>0.002</td>\n",
       "    </tr>\n",
       "  </tbody>\n",
       "</table>\n",
       "</div>"
      ],
      "text/plain": [
       "DEFAULT        Adimplente  Inadimplente\n",
       "EDUCACAO                               \n",
       "Analfabeto          0.428         0.110\n",
       "1o. Grau            0.196         0.082\n",
       "2o. Grau            0.078         0.044\n",
       "Graduacao           0.034         0.020\n",
       "Pos-Graduacao       0.006         0.002"
      ]
     },
     "execution_count": 46,
     "metadata": {},
     "output_type": "execute_result"
    }
   ],
   "source": [
    "pd.crosstab(dados.EDUCACAO, dados.DEFAULT, normalize=True)\n"
   ]
  },
  {
   "cell_type": "markdown",
   "metadata": {
    "slideshow": {
     "slide_type": "slide"
    }
   },
   "source": [
    "### Somando as frequênias das categorias"
   ]
  },
  {
   "cell_type": "markdown",
   "metadata": {
    "slideshow": {
     "slide_type": "fragment"
    }
   },
   "source": [
    "Somando por coluna:"
   ]
  },
  {
   "cell_type": "code",
   "execution_count": 47,
   "metadata": {
    "collapsed": false,
    "slideshow": {
     "slide_type": "fragment"
    }
   },
   "outputs": [
    {
     "data": {
      "text/plain": [
       "DEFAULT\n",
       "Adimplente      371\n",
       "Inadimplente    129\n",
       "dtype: int64"
      ]
     },
     "execution_count": 47,
     "metadata": {},
     "output_type": "execute_result"
    }
   ],
   "source": [
    "ct.sum()"
   ]
  },
  {
   "cell_type": "markdown",
   "metadata": {
    "slideshow": {
     "slide_type": "fragment"
    }
   },
   "source": [
    "Somando todas as frequências => total geral:"
   ]
  },
  {
   "cell_type": "code",
   "execution_count": 48,
   "metadata": {
    "collapsed": false,
    "slideshow": {
     "slide_type": "fragment"
    }
   },
   "outputs": [
    {
     "data": {
      "text/plain": [
       "500"
      ]
     },
     "execution_count": 48,
     "metadata": {},
     "output_type": "execute_result"
    }
   ],
   "source": [
    "ct.sum().sum()"
   ]
  },
  {
   "cell_type": "code",
   "execution_count": 49,
   "metadata": {
    "collapsed": true,
    "slideshow": {
     "slide_type": "slide"
    }
   },
   "outputs": [],
   "source": [
    "soma_tabela = ct.sum().sum()"
   ]
  },
  {
   "cell_type": "code",
   "execution_count": 50,
   "metadata": {
    "collapsed": false,
    "slideshow": {
     "slide_type": "fragment"
    }
   },
   "outputs": [
    {
     "data": {
      "text/html": [
       "<div>\n",
       "<table border=\"1\" class=\"dataframe\">\n",
       "  <thead>\n",
       "    <tr style=\"text-align: right;\">\n",
       "      <th>DEFAULT</th>\n",
       "      <th>Adimplente</th>\n",
       "      <th>Inadimplente</th>\n",
       "    </tr>\n",
       "    <tr>\n",
       "      <th>EDUCACAO</th>\n",
       "      <th></th>\n",
       "      <th></th>\n",
       "    </tr>\n",
       "  </thead>\n",
       "  <tbody>\n",
       "    <tr>\n",
       "      <th>Analfabeto</th>\n",
       "      <td>0.428</td>\n",
       "      <td>0.110</td>\n",
       "    </tr>\n",
       "    <tr>\n",
       "      <th>1o. Grau</th>\n",
       "      <td>0.196</td>\n",
       "      <td>0.082</td>\n",
       "    </tr>\n",
       "    <tr>\n",
       "      <th>2o. Grau</th>\n",
       "      <td>0.078</td>\n",
       "      <td>0.044</td>\n",
       "    </tr>\n",
       "    <tr>\n",
       "      <th>Graduacao</th>\n",
       "      <td>0.034</td>\n",
       "      <td>0.020</td>\n",
       "    </tr>\n",
       "    <tr>\n",
       "      <th>Pos-Graduacao</th>\n",
       "      <td>0.006</td>\n",
       "      <td>0.002</td>\n",
       "    </tr>\n",
       "  </tbody>\n",
       "</table>\n",
       "</div>"
      ],
      "text/plain": [
       "DEFAULT        Adimplente  Inadimplente\n",
       "EDUCACAO                               \n",
       "Analfabeto          0.428         0.110\n",
       "1o. Grau            0.196         0.082\n",
       "2o. Grau            0.078         0.044\n",
       "Graduacao           0.034         0.020\n",
       "Pos-Graduacao       0.006         0.002"
      ]
     },
     "execution_count": 50,
     "metadata": {},
     "output_type": "execute_result"
    }
   ],
   "source": [
    "ct/soma_tabela"
   ]
  },
  {
   "cell_type": "code",
   "execution_count": 51,
   "metadata": {
    "collapsed": false,
    "slideshow": {
     "slide_type": "fragment"
    }
   },
   "outputs": [
    {
     "data": {
      "text/html": [
       "<div>\n",
       "<table border=\"1\" class=\"dataframe\">\n",
       "  <thead>\n",
       "    <tr style=\"text-align: right;\">\n",
       "      <th>DEFAULT</th>\n",
       "      <th>Adimplente</th>\n",
       "      <th>Inadimplente</th>\n",
       "    </tr>\n",
       "    <tr>\n",
       "      <th>EDUCACAO</th>\n",
       "      <th></th>\n",
       "      <th></th>\n",
       "    </tr>\n",
       "  </thead>\n",
       "  <tbody>\n",
       "    <tr>\n",
       "      <th>Analfabeto</th>\n",
       "      <td>42.8</td>\n",
       "      <td>11.0</td>\n",
       "    </tr>\n",
       "    <tr>\n",
       "      <th>1o. Grau</th>\n",
       "      <td>19.6</td>\n",
       "      <td>8.2</td>\n",
       "    </tr>\n",
       "    <tr>\n",
       "      <th>2o. Grau</th>\n",
       "      <td>7.8</td>\n",
       "      <td>4.4</td>\n",
       "    </tr>\n",
       "    <tr>\n",
       "      <th>Graduacao</th>\n",
       "      <td>3.4</td>\n",
       "      <td>2.0</td>\n",
       "    </tr>\n",
       "    <tr>\n",
       "      <th>Pos-Graduacao</th>\n",
       "      <td>0.6</td>\n",
       "      <td>0.2</td>\n",
       "    </tr>\n",
       "  </tbody>\n",
       "</table>\n",
       "</div>"
      ],
      "text/plain": [
       "DEFAULT        Adimplente  Inadimplente\n",
       "EDUCACAO                               \n",
       "Analfabeto           42.8          11.0\n",
       "1o. Grau             19.6           8.2\n",
       "2o. Grau              7.8           4.4\n",
       "Graduacao             3.4           2.0\n",
       "Pos-Graduacao         0.6           0.2"
      ]
     },
     "execution_count": 51,
     "metadata": {},
     "output_type": "execute_result"
    }
   ],
   "source": [
    "ct*100/soma_tabela"
   ]
  },
  {
   "cell_type": "markdown",
   "metadata": {
    "slideshow": {
     "slide_type": "slide"
    }
   },
   "source": [
    "## Gráficos\n",
    "O pandas usa os recursos de gráficos do _matplotlib_\n",
    "\n",
    "As linhas abaixo fazem plots do _matplotlib_ ou pandas aparecerem corretamente no _IPython Notebook_."
   ]
  },
  {
   "cell_type": "code",
   "execution_count": 52,
   "metadata": {
    "collapsed": false,
    "slideshow": {
     "slide_type": "fragment"
    }
   },
   "outputs": [],
   "source": [
    "%matplotlib inline\n",
    "import matplotlib.pyplot as plt\n",
    "import matplotlib\n",
    "matplotlib.style.use('ggplot')"
   ]
  },
  {
   "cell_type": "markdown",
   "metadata": {
    "slideshow": {
     "slide_type": "slide"
    }
   },
   "source": [
    "### Gráfico de barras"
   ]
  },
  {
   "cell_type": "markdown",
   "metadata": {
    "slideshow": {
     "slide_type": "fragment"
    }
   },
   "source": [
    "A função que faz gráfico de barras é  a  [_DataFrame.plot()_](http://pandas.pydata.org/pandas-docs/stable/generated/pandas.DataFrame.plot.html)"
   ]
  },
  {
   "cell_type": "code",
   "execution_count": 53,
   "metadata": {
    "collapsed": false,
    "slideshow": {
     "slide_type": "fragment"
    }
   },
   "outputs": [
    {
     "data": {
      "text/plain": [
       "<matplotlib.axes._subplots.AxesSubplot at 0x9060828>"
      ]
     },
     "execution_count": 53,
     "metadata": {},
     "output_type": "execute_result"
    },
    {
     "data": {
      "image/png": "[encoded data removed]",
      "text/plain": [
       "<matplotlib.figure.Figure at 0x905af98>"
      ]
     },
     "metadata": {},
     "output_type": "display_data"
    }
   ],
   "source": [
    "dfc = dados.DEFAULT.value_counts()\n",
    "dfc.plot(kind='bar', color=('blue', 'red'), legend=False)"
   ]
  },
  {
   "cell_type": "markdown",
   "metadata": {
    "slideshow": {
     "slide_type": "slide"
    }
   },
   "source": [
    "## Reordenando as categorias "
   ]
  },
  {
   "cell_type": "markdown",
   "metadata": {
    "slideshow": {
     "slide_type": "fragment"
    }
   },
   "source": [
    "O método `reindex` serve para ordenar as linhas de uma tabela.  \n",
    "\n",
    "Digamos que quiséssemos que os Inadimplentes viessem antes dos Adimplentes."
   ]
  },
  {
   "cell_type": "code",
   "execution_count": 54,
   "metadata": {
    "collapsed": false,
    "slideshow": {
     "slide_type": "fragment"
    }
   },
   "outputs": [
    {
     "data": {
      "text/plain": [
       "<matplotlib.axes._subplots.AxesSubplot at 0x91d22b0>"
      ]
     },
     "execution_count": 54,
     "metadata": {},
     "output_type": "execute_result"
    },
    {
     "data": {
      "image/png": "[encoded data removed]",
      "text/plain": [
       "<matplotlib.figure.Figure at 0x921d588>"
      ]
     },
     "metadata": {},
     "output_type": "display_data"
    }
   ],
   "source": [
    "dfc2 = dados.DEFAULT.value_counts().reindex([\"Inadimplente\",  \"Adimplente\"])\n",
    "\n",
    "dfc2.plot(kind='bar', color=('red', 'blue'), legend=False)"
   ]
  },
  {
   "cell_type": "markdown",
   "metadata": {
    "slideshow": {
     "slide_type": "slide"
    }
   },
   "source": [
    "### Gráfico de pizza\n",
    "\n",
    "Plot do percentual de adimplentes e inadimplentes."
   ]
  },
  {
   "cell_type": "code",
   "execution_count": 55,
   "metadata": {
    "collapsed": false,
    "slideshow": {
     "slide_type": "fragment"
    }
   },
   "outputs": [
    {
     "data": {
      "text/plain": [
       "<matplotlib.axes._subplots.AxesSubplot at 0x94a70b8>"
      ]
     },
     "execution_count": 55,
     "metadata": {},
     "output_type": "execute_result"
    },
    {
     "data": {
      "image/png": "[encoded data removed]",
      "text/plain": [
       "<matplotlib.figure.Figure at 0x94f30f0>"
      ]
     },
     "metadata": {},
     "output_type": "display_data"
    }
   ],
   "source": [
    "dfc2.plot(kind='pie', colors=('blue', 'red'), autopct=\"%0.2f\",legend=False)\n"
   ]
  },
  {
   "cell_type": "markdown",
   "metadata": {
    "slideshow": {
     "slide_type": "slide"
    }
   },
   "source": [
    "## Gráfico de barras"
   ]
  },
  {
   "cell_type": "markdown",
   "metadata": {
    "slideshow": {
     "slide_type": "fragment"
    }
   },
   "source": [
    "Gráfico de barras comparando os diversos níveis de educação"
   ]
  },
  {
   "cell_type": "code",
   "execution_count": 56,
   "metadata": {
    "collapsed": true,
    "slideshow": {
     "slide_type": "fragment"
    }
   },
   "outputs": [],
   "source": [
    "evc = dados.EDUCACAO.value_counts().reindex(['Analfabeto','1o. Grau', '2o. Grau', 'Graduacao', 'Pos-Graduacao'])"
   ]
  },
  {
   "cell_type": "code",
   "execution_count": 57,
   "metadata": {
    "collapsed": false,
    "slideshow": {
     "slide_type": "fragment"
    }
   },
   "outputs": [
    {
     "data": {
      "text/plain": [
       "<matplotlib.axes._subplots.AxesSubplot at 0x94e85f8>"
      ]
     },
     "execution_count": 57,
     "metadata": {},
     "output_type": "execute_result"
    },
    {
     "data": {
      "image/png": "[encoded data removed]",
      "text/plain": [
       "<matplotlib.figure.Figure at 0x951a518>"
      ]
     },
     "metadata": {},
     "output_type": "display_data"
    }
   ],
   "source": [
    "evc.plot(kind='bar', color=('yellow', 'salmon', 'blue', 'red', 'green'),  legend=False)"
   ]
  },
  {
   "cell_type": "markdown",
   "metadata": {
    "slideshow": {
     "slide_type": "slide"
    }
   },
   "source": [
    "## Gráfico de pizza"
   ]
  },
  {
   "cell_type": "code",
   "execution_count": 58,
   "metadata": {
    "collapsed": false,
    "slideshow": {
     "slide_type": "fragment"
    }
   },
   "outputs": [
    {
     "data": {
      "text/plain": [
       "<matplotlib.axes._subplots.AxesSubplot at 0x951f4e0>"
      ]
     },
     "execution_count": 58,
     "metadata": {},
     "output_type": "execute_result"
    },
    {
     "data": {
      "image/png": "[encoded data removed]",
      "text/plain": [
       "<matplotlib.figure.Figure at 0x95789b0>"
      ]
     },
     "metadata": {},
     "output_type": "display_data"
    }
   ],
   "source": [
    "evc.plot(kind='pie', colors=('yellow', 'salmon', 'blue', 'red', 'green'), autopct=\"%.2f\", legend=False)\n"
   ]
  },
  {
   "cell_type": "markdown",
   "metadata": {
    "slideshow": {
     "slide_type": "slide"
    }
   },
   "source": [
    "## Gráficos de barra para tabela cruzada (crosstab)\n",
    "\n",
    "Considerando frequências absolutas"
   ]
  },
  {
   "cell_type": "code",
   "execution_count": 59,
   "metadata": {
    "collapsed": false,
    "slideshow": {
     "slide_type": "fragment"
    }
   },
   "outputs": [
    {
     "data": {
      "text/plain": [
       "<matplotlib.text.Text at 0xa616f98>"
      ]
     },
     "execution_count": 59,
     "metadata": {},
     "output_type": "execute_result"
    },
    {
     "data": {
      "image/png": "[encoded data removed]",
      "text/plain": [
       "<matplotlib.figure.Figure at 0x95dcf98>"
      ]
     },
     "metadata": {},
     "output_type": "display_data"
    }
   ],
   "source": [
    "ct1 = pd.crosstab(dados.EDUCACAO, dados.DEFAULT)\n",
    "ct1.plot(kind='bar', color=('yellow', 'salmon'))\n",
    "plt.ylabel('Frequência Absoluta')\n"
   ]
  },
  {
   "cell_type": "code",
   "execution_count": 60,
   "metadata": {
    "collapsed": false,
    "slideshow": {
     "slide_type": "slide"
    }
   },
   "outputs": [
    {
     "data": {
      "text/plain": [
       "<matplotlib.text.Text at 0xa6a4160>"
      ]
     },
     "execution_count": 60,
     "metadata": {},
     "output_type": "execute_result"
    },
    {
     "data": {
      "image/png": "[encoded data removed]",
      "text/plain": [
       "<matplotlib.figure.Figure at 0xa68b748>"
      ]
     },
     "metadata": {},
     "output_type": "display_data"
    }
   ],
   "source": [
    "ct1 = pd.crosstab(dados.DEFAULT, dados.EDUCACAO)\n",
    "ct1.plot(kind='bar', color=('red','blue','green','yellow', 'salmon'))\n",
    "plt.ylabel('Frequência Absoluta')"
   ]
  },
  {
   "cell_type": "markdown",
   "metadata": {
    "slideshow": {
     "slide_type": "slide"
    }
   },
   "source": [
    "## Gráficos de barra para tabela cruzada (crosstab)\n",
    "\n",
    "Considerando frequências relativas"
   ]
  },
  {
   "cell_type": "code",
   "execution_count": 61,
   "metadata": {
    "collapsed": false,
    "slideshow": {
     "slide_type": "fragment"
    }
   },
   "outputs": [
    {
     "data": {
      "text/plain": [
       "<matplotlib.text.Text at 0xa6b6eb8>"
      ]
     },
     "execution_count": 61,
     "metadata": {},
     "output_type": "execute_result"
    },
    {
     "data": {
      "image/png": "[encoded data removed]",
      "text/plain": [
       "<matplotlib.figure.Figure at 0x95bd2b0>"
      ]
     },
     "metadata": {},
     "output_type": "display_data"
    }
   ],
   "source": [
    "ct2 = pd.crosstab(dados.EDUCACAO, dados.DEFAULT)\n",
    "ct2 = (ct2/ct2.sum().sum()*100).round(decimals=0)\n",
    "ct2.plot(kind='bar', color=('yellow', 'salmon'))\n",
    "plt.ylabel('Frequência Relativa (em %)')"
   ]
  },
  {
   "cell_type": "code",
   "execution_count": 62,
   "metadata": {
    "collapsed": false,
    "slideshow": {
     "slide_type": "slide"
    }
   },
   "outputs": [
    {
     "data": {
      "text/plain": [
       "<matplotlib.text.Text at 0xa763278>"
      ]
     },
     "execution_count": 62,
     "metadata": {},
     "output_type": "execute_result"
    },
    {
     "data": {
      "image/png": "[encoded data removed]",
      "text/plain": [
       "<matplotlib.figure.Figure at 0x9037630>"
      ]
     },
     "metadata": {},
     "output_type": "display_data"
    }
   ],
   "source": [
    "ct2 = pd.crosstab(dados.DEFAULT, dados.EDUCACAO)\n",
    "ct2 = (ct2/ct2.sum().sum()*100).round(decimals=0)\n",
    "ct2.plot(kind='bar', color=('red','blue','green','yellow', 'salmon'))\n",
    "plt.ylabel('Frequência Relativa (em %)')"
   ]
  },
  {
   "cell_type": "markdown",
   "metadata": {
    "slideshow": {
     "slide_type": "slide"
    }
   },
   "source": [
    "## Gráfico de pizza considerando duas variáveis qualitativas\n",
    "\n",
    "Considerando frequências relativas de Educação em cada nível de Default!\n"
   ]
  },
  {
   "cell_type": "code",
   "execution_count": 63,
   "metadata": {
    "collapsed": false,
    "slideshow": {
     "slide_type": "fragment"
    }
   },
   "outputs": [
    {
     "data": {
      "text/plain": [
       "<matplotlib.text.Text at 0xa851b00>"
      ]
     },
     "execution_count": 63,
     "metadata": {},
     "output_type": "execute_result"
    },
    {
     "data": {
      "image/png": "[encoded data removed]",
      "text/plain": [
       "<matplotlib.figure.Figure at 0x95cbfd0>"
      ]
     },
     "metadata": {},
     "output_type": "display_data"
    }
   ],
   "source": [
    "adim = dados.EDUCACAO[dados.DEFAULT == 'Adimplente'].value_counts()\n",
    "adim.plot(kind='pie', autopct=\"%.2f\",legend=False)\n",
    "plt.title('ADIMPLENTES')"
   ]
  },
  {
   "cell_type": "code",
   "execution_count": 64,
   "metadata": {
    "collapsed": false,
    "slideshow": {
     "slide_type": "slide"
    }
   },
   "outputs": [
    {
     "data": {
      "text/plain": [
       "<matplotlib.text.Text at 0xa8c17f0>"
      ]
     },
     "execution_count": 64,
     "metadata": {},
     "output_type": "execute_result"
    },
    {
     "data": {
      "image/png": "[encoded data removed]",
      "text/plain": [
       "<matplotlib.figure.Figure at 0xa849710>"
      ]
     },
     "metadata": {},
     "output_type": "display_data"
    }
   ],
   "source": [
    "inadim = dados.EDUCACAO[dados.DEFAULT == 'Inadimplente'].value_counts()\n",
    "inadim.plot(kind='pie', autopct=\"%.2f\",legend=False)\n",
    "plt.title('INADIMPLENTES')"
   ]
  },
  {
   "cell_type": "markdown",
   "metadata": {
    "slideshow": {
     "slide_type": "slide"
    }
   },
   "source": [
    "## Gráficos *stacked*"
   ]
  },
  {
   "cell_type": "markdown",
   "metadata": {
    "slideshow": {
     "slide_type": "fragment"
    }
   },
   "source": [
    "Rodar função para conseguir fazer gráfico do tipo \"stacked\" corretamente que esteja \"delimitado\" por total de linhas ou de colunas!"
   ]
  },
  {
   "cell_type": "code",
   "execution_count": 65,
   "metadata": {
    "collapsed": true,
    "slideshow": {
     "slide_type": "fragment"
    }
   },
   "outputs": [],
   "source": [
    "#Função que divide cada valor da tabela cruzada pelo total da última linha (quando axis=0) ou da última coluna (quando axis=1)\n",
    "#Retorna tabela cruzada com valores sem casa decimais\n",
    "#https://www.analyticsvidhya.com/blog/2016/01/12-pandas-techniques-python-data-manipulation/\n",
    "def percConvert(tab):\n",
    "  return (tab/float(tab[-1])*100).round(decimals=0)"
   ]
  },
  {
   "cell_type": "code",
   "execution_count": 66,
   "metadata": {
    "collapsed": false,
    "slideshow": {
     "slide_type": "slide"
    }
   },
   "outputs": [
    {
     "name": "stdout",
     "output_type": "stream",
     "text": [
      "Tabela Cruzada por total de COLUNAS (em %):\n"
     ]
    },
    {
     "data": {
      "text/html": [
       "<div>\n",
       "<table border=\"1\" class=\"dataframe\">\n",
       "  <thead>\n",
       "    <tr style=\"text-align: right;\">\n",
       "      <th>Default</th>\n",
       "      <th>Adimplente</th>\n",
       "      <th>Inadimplente</th>\n",
       "      <th>All</th>\n",
       "    </tr>\n",
       "    <tr>\n",
       "      <th>Educação</th>\n",
       "      <th></th>\n",
       "      <th></th>\n",
       "      <th></th>\n",
       "    </tr>\n",
       "  </thead>\n",
       "  <tbody>\n",
       "    <tr>\n",
       "      <th>Analfabeto</th>\n",
       "      <td>58.0</td>\n",
       "      <td>43.0</td>\n",
       "      <td>54.0</td>\n",
       "    </tr>\n",
       "    <tr>\n",
       "      <th>1o. Grau</th>\n",
       "      <td>26.0</td>\n",
       "      <td>32.0</td>\n",
       "      <td>28.0</td>\n",
       "    </tr>\n",
       "    <tr>\n",
       "      <th>2o. Grau</th>\n",
       "      <td>11.0</td>\n",
       "      <td>17.0</td>\n",
       "      <td>12.0</td>\n",
       "    </tr>\n",
       "    <tr>\n",
       "      <th>Graduacao</th>\n",
       "      <td>5.0</td>\n",
       "      <td>8.0</td>\n",
       "      <td>5.0</td>\n",
       "    </tr>\n",
       "    <tr>\n",
       "      <th>Pos-Graduacao</th>\n",
       "      <td>1.0</td>\n",
       "      <td>1.0</td>\n",
       "      <td>1.0</td>\n",
       "    </tr>\n",
       "    <tr>\n",
       "      <th>All</th>\n",
       "      <td>100.0</td>\n",
       "      <td>100.0</td>\n",
       "      <td>100.0</td>\n",
       "    </tr>\n",
       "  </tbody>\n",
       "</table>\n",
       "</div>"
      ],
      "text/plain": [
       "Default        Adimplente  Inadimplente    All\n",
       "Educação                                      \n",
       "Analfabeto           58.0          43.0   54.0\n",
       "1o. Grau             26.0          32.0   28.0\n",
       "2o. Grau             11.0          17.0   12.0\n",
       "Graduacao             5.0           8.0    5.0\n",
       "Pos-Graduacao         1.0           1.0    1.0\n",
       "All                 100.0         100.0  100.0"
      ]
     },
     "execution_count": 66,
     "metadata": {},
     "output_type": "execute_result"
    }
   ],
   "source": [
    "print('Tabela Cruzada por total de COLUNAS (em %):')\n",
    "#Use axis igual a 0\n",
    "ct3=pd.crosstab(dados.EDUCACAO,dados.DEFAULT,margins=True,rownames=['Educação'], colnames=['Default']).apply(percConvert, axis=0)\n",
    "ct3"
   ]
  },
  {
   "cell_type": "markdown",
   "metadata": {
    "slideshow": {
     "slide_type": "slide"
    }
   },
   "source": [
    "## Gráficos *stacked* por total de coluna"
   ]
  },
  {
   "cell_type": "code",
   "execution_count": 67,
   "metadata": {
    "collapsed": false,
    "slideshow": {
     "slide_type": "fragment"
    }
   },
   "outputs": [
    {
     "data": {
      "text/plain": [
       "<matplotlib.legend.Legend at 0x95ed1d0>"
      ]
     },
     "execution_count": 67,
     "metadata": {},
     "output_type": "execute_result"
    },
    {
     "data": {
      "image/png": "[encoded data removed]",
      "text/plain": [
       "<matplotlib.figure.Figure at 0x95ed630>"
      ]
     },
     "metadata": {},
     "output_type": "display_data"
    }
   ],
   "source": [
    "ct3 = ct3.iloc[0:5,:]\n",
    "plot = ct3.T.plot(kind='bar', stacked=True,title='Educação por Default')\n",
    "plot.set_ylim([0, 100])\n",
    "plt.ylabel('Freq.Relativa (em%)')\n",
    "\n",
    "#Para legenda ficar fora do gráfico\n",
    "ax = plt.subplot(111)\n",
    "box = ax.get_position()\n",
    "ax.set_position([box.x0, box.y0, box.width * 0.8, box.height])\n",
    "ax.legend(loc='center left', bbox_to_anchor=(1, 0.5))"
   ]
  },
  {
   "cell_type": "code",
   "execution_count": 68,
   "metadata": {
    "collapsed": false,
    "slideshow": {
     "slide_type": "slide"
    }
   },
   "outputs": [
    {
     "name": "stdout",
     "output_type": "stream",
     "text": [
      "Tabela Cruzada por total de LINHAS (em %):\n"
     ]
    },
    {
     "data": {
      "text/html": [
       "<div>\n",
       "<table border=\"1\" class=\"dataframe\">\n",
       "  <thead>\n",
       "    <tr style=\"text-align: right;\">\n",
       "      <th>Default</th>\n",
       "      <th>Adimplente</th>\n",
       "      <th>Inadimplente</th>\n",
       "      <th>All</th>\n",
       "    </tr>\n",
       "    <tr>\n",
       "      <th>Educação</th>\n",
       "      <th></th>\n",
       "      <th></th>\n",
       "      <th></th>\n",
       "    </tr>\n",
       "  </thead>\n",
       "  <tbody>\n",
       "    <tr>\n",
       "      <th>Analfabeto</th>\n",
       "      <td>80.0</td>\n",
       "      <td>20.0</td>\n",
       "      <td>100.0</td>\n",
       "    </tr>\n",
       "    <tr>\n",
       "      <th>1o. Grau</th>\n",
       "      <td>71.0</td>\n",
       "      <td>29.0</td>\n",
       "      <td>100.0</td>\n",
       "    </tr>\n",
       "    <tr>\n",
       "      <th>2o. Grau</th>\n",
       "      <td>64.0</td>\n",
       "      <td>36.0</td>\n",
       "      <td>100.0</td>\n",
       "    </tr>\n",
       "    <tr>\n",
       "      <th>Graduacao</th>\n",
       "      <td>63.0</td>\n",
       "      <td>37.0</td>\n",
       "      <td>100.0</td>\n",
       "    </tr>\n",
       "    <tr>\n",
       "      <th>Pos-Graduacao</th>\n",
       "      <td>75.0</td>\n",
       "      <td>25.0</td>\n",
       "      <td>100.0</td>\n",
       "    </tr>\n",
       "    <tr>\n",
       "      <th>All</th>\n",
       "      <td>74.0</td>\n",
       "      <td>26.0</td>\n",
       "      <td>100.0</td>\n",
       "    </tr>\n",
       "  </tbody>\n",
       "</table>\n",
       "</div>"
      ],
      "text/plain": [
       "Default        Adimplente  Inadimplente    All\n",
       "Educação                                      \n",
       "Analfabeto           80.0          20.0  100.0\n",
       "1o. Grau             71.0          29.0  100.0\n",
       "2o. Grau             64.0          36.0  100.0\n",
       "Graduacao            63.0          37.0  100.0\n",
       "Pos-Graduacao        75.0          25.0  100.0\n",
       "All                  74.0          26.0  100.0"
      ]
     },
     "execution_count": 68,
     "metadata": {},
     "output_type": "execute_result"
    }
   ],
   "source": [
    "print('Tabela Cruzada por total de LINHAS (em %):')\n",
    "#Use axis igual a 1\n",
    "ct4=pd.crosstab(dados.EDUCACAO,dados.DEFAULT,margins=True,rownames=['Educação'], colnames=['Default']).apply(percConvert, axis=1)\n",
    "ct4"
   ]
  },
  {
   "cell_type": "markdown",
   "metadata": {
    "slideshow": {
     "slide_type": "slide"
    }
   },
   "source": [
    "## Gráficos *stacked* por total de linha"
   ]
  },
  {
   "cell_type": "code",
   "execution_count": 69,
   "metadata": {
    "collapsed": false,
    "slideshow": {
     "slide_type": "fragment"
    }
   },
   "outputs": [
    {
     "data": {
      "text/plain": [
       "<matplotlib.legend.Legend at 0x95ed4a8>"
      ]
     },
     "execution_count": 69,
     "metadata": {},
     "output_type": "execute_result"
    },
    {
     "data": {
      "image/png": "[encoded data removed]",
      "text/plain": [
       "<matplotlib.figure.Figure at 0xa928320>"
      ]
     },
     "metadata": {},
     "output_type": "display_data"
    }
   ],
   "source": [
    "ct4 = ct4.iloc[:,0:2]\n",
    "plot = ct4.plot(kind='bar', stacked=True,title='Default por Educação')\n",
    "plot.set_ylim([0, 100])\n",
    "plt.ylabel('Freq.Relativa (em%)')\n",
    "\n",
    "#Para legenda ficar fora do gráfico\n",
    "ax = plt.subplot(111)\n",
    "box = ax.get_position()\n",
    "ax.set_position([box.x0, box.y0, box.width * 0.8, box.height])\n",
    "ax.legend(loc='center left', bbox_to_anchor=(1, 0.5))"
   ]
  },
  {
   "cell_type": "markdown",
   "metadata": {
    "slideshow": {
     "slide_type": "slide"
    }
   },
   "source": [
    "## Gráficos *stacked* construídos de forma inadequada para interpretar\n",
    "\n",
    "# CUIDADO!!\n",
    "\n",
    "Não considere frequências absolutas e nem tão pouco as frequências relativas do total geral. Você certamente terá erros na interpretação e conclusão do comportamento dos dados."
   ]
  },
  {
   "cell_type": "code",
   "execution_count": 70,
   "metadata": {
    "collapsed": false,
    "slideshow": {
     "slide_type": "fragment"
    }
   },
   "outputs": [
    {
     "data": {
      "text/plain": [
       "<matplotlib.axes._subplots.AxesSubplot at 0xa9d36d8>"
      ]
     },
     "execution_count": 70,
     "metadata": {},
     "output_type": "execute_result"
    },
    {
     "data": {
      "image/png": "[encoded data removed]",
      "text/plain": [
       "<matplotlib.figure.Figure at 0xa9f9240>"
      ]
     },
     "metadata": {},
     "output_type": "display_data"
    }
   ],
   "source": [
    "ct5 = pd.crosstab(dados.EDUCACAO,dados.DEFAULT,rownames=['Educação'], colnames=['Default'])\n",
    "ct5.plot.bar(color=('yellow', 'salmon', 'blue', 'red', 'green'), stacked=True)"
   ]
  },
  {
   "cell_type": "markdown",
   "metadata": {
    "slideshow": {
     "slide_type": "slide"
    }
   },
   "source": [
    "## Gráficos *stacked* construídos de forma inadequada para interpretar\n",
    "\n",
    "# CUIDADO!!\n",
    "\n",
    "Não considere frequências absolutas e nem tão pouco as frequências relativas do total geral. Você certamente terá erros na interpretação e conclusão do comportamento dos dados."
   ]
  },
  {
   "cell_type": "code",
   "execution_count": 71,
   "metadata": {
    "collapsed": false,
    "slideshow": {
     "slide_type": "fragment"
    }
   },
   "outputs": [
    {
     "data": {
      "text/plain": [
       "<matplotlib.axes._subplots.AxesSubplot at 0xaa80470>"
      ]
     },
     "execution_count": 71,
     "metadata": {},
     "output_type": "execute_result"
    },
    {
     "data": {
      "image/png": "[encoded data removed]",
      "text/plain": [
       "<matplotlib.figure.Figure at 0xaa86198>"
      ]
     },
     "metadata": {},
     "output_type": "display_data"
    }
   ],
   "source": [
    "ct6 = pd.crosstab(dados.DEFAULT,dados.EDUCACAO,rownames=['Default'], colnames=['Educação'])\n",
    "ct6.plot(kind='bar', color=('yellow', 'salmon', 'blue', 'red', 'green'), legend=False, stacked=True)"
   ]
  },
  {
   "cell_type": "markdown",
   "metadata": {
    "slideshow": {
     "slide_type": "slide"
    }
   },
   "source": [
    "# VARIÁVEIS QUANTITATIVAS\n",
    "\n",
    "\n",
    "## Tabelas e Gráficos"
   ]
  },
  {
   "cell_type": "markdown",
   "metadata": {
    "slideshow": {
     "slide_type": "slide"
    }
   },
   "source": [
    "## Categorizando uma variável quantitativa\n",
    "\n",
    "Por exemplo a variável renda é uma variável quantitativa (contínua, melhor dizendo). \n",
    "\n",
    "Graficamente, a ferramenta ideal para estudá-la é por meio de um histograma!\n",
    "\n",
    "Mas para construir uma tabela com as frequências de ocorrências, devemos criar faixas (*bins*) para simplificar a análise."
   ]
  },
  {
   "cell_type": "code",
   "execution_count": 72,
   "metadata": {
    "collapsed": false,
    "slideshow": {
     "slide_type": "fragment"
    }
   },
   "outputs": [],
   "source": [
    "RENDA_cat = pd.cut(dados.RENDA, bins=10)"
   ]
  },
  {
   "cell_type": "markdown",
   "metadata": {
    "collapsed": true,
    "slideshow": {
     "slide_type": "slide"
    }
   },
   "source": [
    "Analisando resultado da tabela com as frequências absolutas!\n",
    "\n",
    "Com as categorias ordenadas por ordem decrescente da frequência absoluta!"
   ]
  },
  {
   "cell_type": "code",
   "execution_count": 73,
   "metadata": {
    "collapsed": false,
    "slideshow": {
     "slide_type": "fragment"
    }
   },
   "outputs": [
    {
     "data": {
      "text/plain": [
       "(13.568, 57.2]    390\n",
       "(57.2, 100.4]      83\n",
       "(100.4, 143.6]     16\n",
       "(143.6, 186.8]      6\n",
       "(186.8, 230]        2\n",
       "(402.8, 446]        1\n",
       "(273.2, 316.4]      1\n",
       "(230, 273.2]        1\n",
       "(359.6, 402.8]      0\n",
       "(316.4, 359.6]      0\n",
       "Name: RENDA, dtype: int64"
      ]
     },
     "execution_count": 73,
     "metadata": {},
     "output_type": "execute_result"
    }
   ],
   "source": [
    "RENDA_cat.value_counts()"
   ]
  },
  {
   "cell_type": "markdown",
   "metadata": {
    "slideshow": {
     "slide_type": "slide"
    }
   },
   "source": [
    "Criando faixas e visualizando tabela com frequências relativas.\n",
    "\n",
    "Entretanto, antes verifique os valores mínimo e máximo para que todos os valores sejam considerados nas categorias que serão criadas."
   ]
  },
  {
   "cell_type": "code",
   "execution_count": 74,
   "metadata": {
    "collapsed": false,
    "slideshow": {
     "slide_type": "fragment"
    }
   },
   "outputs": [
    {
     "data": {
      "text/plain": [
       "count    500.00000\n",
       "mean      45.37600\n",
       "std       37.01804\n",
       "min       14.00000\n",
       "25%       24.00000\n",
       "50%       34.00000\n",
       "75%       54.00000\n",
       "max      446.00000\n",
       "Name: RENDA, dtype: float64"
      ]
     },
     "execution_count": 74,
     "metadata": {},
     "output_type": "execute_result"
    }
   ],
   "source": [
    "dados.RENDA.describe()"
   ]
  },
  {
   "cell_type": "markdown",
   "metadata": {
    "slideshow": {
     "slide_type": "slide"
    }
   },
   "source": [
    "Aqui os valores de quebra das faixas ficam a \"gosto do freguês\" desde que haja bom senso entre a quantidade de faixas com o tamanho amostral."
   ]
  },
  {
   "cell_type": "code",
   "execution_count": 75,
   "metadata": {
    "collapsed": true,
    "slideshow": {
     "slide_type": "fragment"
    }
   },
   "outputs": [],
   "source": [
    "faixa = range(10,500,50)"
   ]
  },
  {
   "cell_type": "code",
   "execution_count": 76,
   "metadata": {
    "collapsed": false,
    "slideshow": {
     "slide_type": "fragment"
    }
   },
   "outputs": [
    {
     "data": {
      "text/plain": [
       "(10, 60]      80.6\n",
       "(60, 110]     14.6\n",
       "(110, 160]     3.4\n",
       "(210, 260]     0.6\n",
       "(160, 210]     0.4\n",
       "(410, 460]     0.2\n",
       "(260, 310]     0.2\n",
       "(360, 410]     0.0\n",
       "(310, 360]     0.0\n",
       "Name: RENDA, dtype: float64"
      ]
     },
     "execution_count": 76,
     "metadata": {},
     "output_type": "execute_result"
    }
   ],
   "source": [
    "RENDA_cat = pd.cut(dados.RENDA, bins=faixa)\n",
    "RENDA_cat.value_counts(True)*100"
   ]
  },
  {
   "cell_type": "markdown",
   "metadata": {
    "slideshow": {
     "slide_type": "slide"
    }
   },
   "source": [
    "Analisando resultado da tabela com as frequências absolutas!\n",
    "\n",
    "Com as categorias ordenadas por ordem das categorias, crescentemente!"
   ]
  },
  {
   "cell_type": "code",
   "execution_count": 77,
   "metadata": {
    "collapsed": false,
    "slideshow": {
     "slide_type": "fragment"
    }
   },
   "outputs": [
    {
     "data": {
      "text/plain": [
       "(10, 60]      80.6\n",
       "(60, 110]     14.6\n",
       "(110, 160]     3.4\n",
       "(160, 210]     0.4\n",
       "(210, 260]     0.6\n",
       "(260, 310]     0.2\n",
       "(310, 360]     0.0\n",
       "(360, 410]     0.0\n",
       "(410, 460]     0.2\n",
       "Name: RENDA, dtype: float64"
      ]
     },
     "execution_count": 77,
     "metadata": {},
     "output_type": "execute_result"
    }
   ],
   "source": [
    "RENDA_cat.value_counts(True).reindex(['(10, 60]', '(60, 110]', '(110, 160]', '(160, 210]',\n",
    "                                '(210, 260]', '(260, 310]', '(310, 360]','(360, 410]','(410, 460]',]).round(decimals=4)*100"
   ]
  },
  {
   "cell_type": "markdown",
   "metadata": {
    "slideshow": {
     "slide_type": "slide"
    }
   },
   "source": [
    "## Gráfico de colunas com as frequências absolutas"
   ]
  },
  {
   "cell_type": "code",
   "execution_count": 78,
   "metadata": {
    "collapsed": false,
    "slideshow": {
     "slide_type": "fragment"
    }
   },
   "outputs": [
    {
     "data": {
      "text/plain": [
       "<matplotlib.text.Text at 0xaad86a0>"
      ]
     },
     "execution_count": 78,
     "metadata": {},
     "output_type": "execute_result"
    },
    {
     "data": {
      "image/png": "[encoded data removed]",
      "text/plain": [
       "<matplotlib.figure.Figure at 0xab6f160>"
      ]
     },
     "metadata": {},
     "output_type": "display_data"
    }
   ],
   "source": [
    "plot = dados.RENDA.plot.hist(bins=faixa,title='GRAFICO DE COLUNAS', figsize=(6, 6), alpha=0.9)\n",
    "plt.ylabel('Frequência absoluta')\n",
    "plt.xlabel('renda (em reais)')"
   ]
  },
  {
   "cell_type": "markdown",
   "metadata": {
    "slideshow": {
     "slide_type": "slide"
    }
   },
   "source": [
    "## Gráfico de colunas com as frequências relativas"
   ]
  },
  {
   "cell_type": "code",
   "execution_count": 79,
   "metadata": {
    "collapsed": false,
    "slideshow": {
     "slide_type": "fragment"
    }
   },
   "outputs": [
    {
     "data": {
      "text/plain": [
       "<matplotlib.text.Text at 0xab0c2e8>"
      ]
     },
     "execution_count": 79,
     "metadata": {},
     "output_type": "execute_result"
    },
    {
     "data": {
      "image/png": "[encoded data removed]",
      "text/plain": [
       "<matplotlib.figure.Figure at 0xabddc18>"
      ]
     },
     "metadata": {},
     "output_type": "display_data"
    }
   ],
   "source": [
    "from numpy import zeros_like\n",
    "plot = dados.RENDA.plot.hist(bins=faixa,title='GRAFICO DE COLUNAS', weights=zeros_like(dados.RENDA)+1./dados.RENDA.size*100, figsize=(6, 6), alpha=0.7)\n",
    "plt.ylabel('Frequência relativa (em %)')\n",
    "plt.xlabel('renda (em reais)')"
   ]
  },
  {
   "cell_type": "markdown",
   "metadata": {
    "slideshow": {
     "slide_type": "slide"
    }
   },
   "source": [
    "## Histograma"
   ]
  },
  {
   "cell_type": "code",
   "execution_count": 80,
   "metadata": {
    "collapsed": false,
    "slideshow": {
     "slide_type": "fragment"
    }
   },
   "outputs": [
    {
     "data": {
      "text/plain": [
       "<matplotlib.text.Text at 0xac10b38>"
      ]
     },
     "execution_count": 80,
     "metadata": {},
     "output_type": "execute_result"
    },
    {
     "data": {
      "image/png": "[encoded data removed]",
      "text/plain": [
       "<matplotlib.figure.Figure at 0xabe1630>"
      ]
     },
     "metadata": {},
     "output_type": "display_data"
    }
   ],
   "source": [
    "plot = dados.RENDA.plot.hist(bins=faixa,title='HISTOGRAMA', normed=1, figsize=(6, 6), alpha=0.5)\n",
    "plt.ylabel('Densidade')\n",
    "plt.xlabel('renda (em reais)')"
   ]
  },
  {
   "cell_type": "markdown",
   "metadata": {
    "slideshow": {
     "slide_type": "slide"
    }
   },
   "source": [
    "## Organizando os gráficos em forma de *array*"
   ]
  },
  {
   "cell_type": "markdown",
   "metadata": {
    "slideshow": {
     "slide_type": "fragment"
    }
   },
   "source": [
    "Aqui, tem os comandos de como construir um gráfico ao lado do outro em forma de *array*. Excelente recurso para organizar gráficos dentro do notebook e não deixá-lo tão extenso!"
   ]
  },
  {
   "cell_type": "code",
   "execution_count": 81,
   "metadata": {
    "collapsed": false,
    "slideshow": {
     "slide_type": "slide"
    }
   },
   "outputs": [
    {
     "data": {
      "image/png": "[encoded data removed]",
      "text/plain": [
       "<matplotlib.figure.Figure at 0xac6f550>"
      ]
     },
     "metadata": {},
     "output_type": "display_data"
    }
   ],
   "source": [
    "f, axarr = plt.subplots(3,figsize=(5,10))\n",
    "axarr[0].hist(dados.RENDA, bins=15, alpha=0.9)\n",
    "axarr[0].set_title('Gráfico de Colunas')\n",
    "axarr[0].set_xlabel('Renda')\n",
    "axarr[0].set_ylabel('Frequência Absoluta')\n",
    "\n",
    "axarr[1].hist(dados.RENDA, bins=15, weights=zeros_like(dados.RENDA)+1./dados.RENDA.size*100, alpha=0.7)\n",
    "axarr[1].set_title('Gráfico de Colunas')\n",
    "axarr[1].set_xlabel('Renda')\n",
    "axarr[1].set_ylabel('Frequência Relativa (em%)')\n",
    "\n",
    "axarr[2].hist(dados.RENDA, bins=15, normed=1, alpha=0.5)\n",
    "axarr[2].set_title('Histograma')\n",
    "axarr[0].set_xlabel('Renda')\n",
    "axarr[0].set_ylabel('Densidade')\n",
    "\n",
    "plt.tight_layout(1)"
   ]
  },
  {
   "cell_type": "code",
   "execution_count": null,
   "metadata": {
    "collapsed": true
   },
   "outputs": [],
   "source": []
  }
 ],
 "metadata": {
  "celltoolbar": "Slideshow",
  "kernelspec": {
   "display_name": "Python [Root]",
   "language": "python",
   "name": "Python [Root]"
  },
  "language_info": {
   "codemirror_mode": {
    "name": "ipython",
    "version": 3
   },
   "file_extension": ".py",
   "mimetype": "text/x-python",
   "name": "python",
   "nbconvert_exporter": "python",
   "pygments_lexer": "ipython3",
   "version": "3.5.2"
  }
 },
 "nbformat": 4,
 "nbformat_minor": 0
}
