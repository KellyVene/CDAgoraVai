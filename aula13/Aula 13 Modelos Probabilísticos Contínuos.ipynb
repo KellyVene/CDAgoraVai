{
 "cells": [
  {
   "cell_type": "markdown",
   "metadata": {},
   "source": [
    "___\n",
    "# Modelos probabilísticos contínuos - Alguns resultados da aula\n",
    "___\n",
    "\n",
    "## Aula 13\n",
    "\n",
    "**Preparo Prévio:**\n",
    "1.\tLeitura prévia necessária: Magalhães e Lima (7ª. Edição): Modelo Normal (pág. 197 a 203).\n",
    "\n",
    "**Hoje:**\n",
    "1.\tDescrever as propriedades do modelo normal quanto aos resultados teóricos.\n",
    "2. Utilizar modelos normais para resolução de problemas seja com ou sem uso do Python.\n",
    "3. Contrastar resultados teóricos e empíricos.\n",
    "\n",
    "\n",
    "**Próxima aula:**\n",
    "1.\tLeitura prévia necessária: Magalhães e Lima (7ª. Edição): Seção 5.1 (pág. 137) e Seção 5.2 (pág. 146).\n",
    "___"
   ]
  },
  {
   "cell_type": "markdown",
   "metadata": {},
   "source": [
    "___\n",
    "## <font color='blue'>Propriedades da distribuição Normal</font>\n",
    "\n",
    "> **DISTRIBUIÇÃO NORMAL - TEORIA:**\n",
    "\n",
    "> Seja $X$ uma variável aleatória contínua com média igual a $\\mu$ e variância igual a $\\sigma^2$. Se essa variável é modelada por uma distribuição normal, dizemos que $X$~$N(\\mu,\\sigma^2)$. \n",
    "\n",
    "> A função densidade de probabilidade - fdp (ou pdf, em inglês) de uma distribuição Normal é dada por:\n",
    "$f(x)=\\frac{1}{\\sqrt{2\\pi\\sigma^2}}e^{-\\frac{(x-\\mu)^2}{2\\sigma^2}}$, \n",
    "sendo $x\\in\\mathbb{R}$, $\\mu\\in\\mathbb{R}$ e $\\sigma^2>0$.\n",
    "\n",
    "> Alterando possíveis valores de $x$ em torno de $\\mu$ e calculando, para cada $x$, o respectivo valor de $f(x)$, é possível visualizar graficamente a famosa distribuição em forma de sino.\n",
    "\n",
    "\n",
    "> **DISTRIBUIÇÃO NORMAL - PYTHON:** <sup> [https://en.wikipedia.org/wiki/SciPy]\n",
    "\n",
    "> Algumas funções úteis para desenvolver seu código: <sup> [http://docs.scipy.org/doc/scipy/reference/generated/scipy.stats.norm.html]\n",
    "\n",
    "> Com a linha de comando `from scipy import stats` e assumindo que $E(X)=\\mu$ e $Var(X)=\\sigma^2$, alguns dos exemplos abaixo úteis para trabalhar com a distribuição normal no Python:\n",
    "* $f(x)$: `stats.norm.pdf(x, loc=mu, scale=sigma)`\n",
    "* $P(X\\leq x)$: `stats.norm.cdf(x, loc=mu, scale=sigma)`\n",
    "* $x$ tal que $P(X\\leq x)=p$: `stats.norm.ppf(p, loc=mu, scale=sigma)`\n",
    "\n",
    "\n"
   ]
  },
  {
   "cell_type": "code",
   "execution_count": null,
   "metadata": {
    "collapsed": false
   },
   "outputs": [],
   "source": [
    "%matplotlib inline\n",
    "\n",
    "import os\n",
    "import matplotlib.pyplot as plt\n",
    "import pandas as pd\n",
    "from scipy import stats\n",
    "from numpy import mean, var\n",
    "\n",
    "print('Esperamos trabalhar no diretório')\n",
    "print(os.getcwd())"
   ]
  },
  {
   "cell_type": "markdown",
   "metadata": {},
   "source": [
    "___\n",
    "### <font color='green'>Gráfico distribuição Normal alterando valores para a média $\\mu$  e/ou  variância $\\sigma^2$ </font>\n"
   ]
  },
  {
   "cell_type": "code",
   "execution_count": null,
   "metadata": {
    "collapsed": false
   },
   "outputs": [],
   "source": [
    "#Distribuição Normal \n",
    "#Média muda \n",
    "#Desvio padrão igual\n",
    "sigma = 10\n",
    "lista = (60, 70, 80)\n",
    "for mu in lista:\n",
    "    x=sorted(stats.norm.rvs(size=4000, loc=mu, scale=sigma))\n",
    "    plt.plot(x, stats.norm.pdf(x, loc=mu, scale=sigma), lw=3, alpha=0.6)\n",
    "    \n",
    "plt.title('Médias diferentes')\n",
    "plt.xlabel('valores de x')\n",
    "plt.ylabel('f(x)')"
   ]
  },
  {
   "cell_type": "code",
   "execution_count": null,
   "metadata": {
    "collapsed": false
   },
   "outputs": [],
   "source": [
    "#Distribuição Normal \n",
    "#Média igual\n",
    "#Desvio padrão muda\n",
    "mu = 70\n",
    "lista = (5, 10, 20)\n",
    "for sigma in lista:\n",
    "    x=sorted(stats.norm.rvs(size=4000, loc=mu, scale=sigma))\n",
    "    plt.plot(x, stats.norm.pdf(x, loc=mu, scale=sigma), lw=3, alpha=0.6)\n",
    "    \n",
    "plt.title('Desvios padrões diferentes')\n",
    "plt.xlabel('valores de x')\n",
    "plt.ylabel('f(x)')"
   ]
  },
  {
   "cell_type": "markdown",
   "metadata": {},
   "source": [
    "___\n",
    "### <font color='green'> Propriedades da distribuição normal </font>"
   ]
  },
  {
   "cell_type": "code",
   "execution_count": null,
   "metadata": {
    "collapsed": false
   },
   "outputs": [],
   "source": [
    "#Probabilidade de X estar entre mu mais ou menos c*sigma\n",
    "#Pode alterar valores de mu (média de X) e de sigma (desvio padrao de X)!\n",
    "#Alterações de mu e sigma NÃO alteram as probabilidades abaixo, pois trata-se de propriedade !!\n",
    "mu = 70\n",
    "sigma = 10\n",
    "print('Probabilidade de X acontecere considerando UM desvio padrão em torno da média:', \n",
    "      stats.norm.cdf(mu+sigma, loc=mu, scale=sigma)-stats.norm.cdf(mu-sigma, loc=mu, scale=sigma))\n",
    "\n",
    "print('Probabilidade de X acontecere considerando DOIS desvio padrão em torno da média:', \n",
    "      stats.norm.cdf(mu+2*sigma, loc=mu, scale=sigma)-stats.norm.cdf(mu-2*sigma, loc=mu, scale=sigma))\n",
    "\n",
    "print('Probabilidade de X acontecere considerando TRÊS desvio padrão em torno da média:', \n",
    "      stats.norm.cdf(mu+3*sigma, loc=mu, scale=sigma)-stats.norm.cdf(mu-3*sigma, loc=mu, scale=sigma))"
   ]
  },
  {
   "cell_type": "markdown",
   "metadata": {},
   "source": [
    "___\n",
    "## <font color='blue'>Exemplo 1 da Aula 13 </font>"
   ]
  },
  {
   "cell_type": "code",
   "execution_count": null,
   "metadata": {
    "collapsed": false
   },
   "outputs": [],
   "source": [
    "#Simulação de valores a partir de uma distribuição Normal com média 15 e desvio padrão 6 apenas \n",
    "#Simulação de dados para visualizar histograma com densidade da normal\n",
    "mu = 15\n",
    "sigma = 6\n",
    "x=sorted(stats.norm.rvs(size=10000, loc=mu, scale=sigma))"
   ]
  },
  {
   "cell_type": "code",
   "execution_count": null,
   "metadata": {
    "collapsed": false
   },
   "outputs": [],
   "source": [
    "#Distribuição Normal com média 15 e desvio padrão 6\n",
    "plt.hist(x, normed=1, histtype='stepfilled', alpha=0.2)\n",
    "plt.plot(x, stats.norm.pdf(x, loc=mu, scale=sigma), lw=3, alpha=0.6)\n",
    "plt.title('')\n",
    "plt.xlabel('Quantidade de lubrificante')\n",
    "plt.ylabel('Densidade')"
   ]
  },
  {
   "cell_type": "code",
   "execution_count": null,
   "metadata": {
    "collapsed": false
   },
   "outputs": [],
   "source": [
    "#Conta para padronizar dados\n",
    "z=(x-mean(x))/(var(x)**(1/2))\n"
   ]
  },
  {
   "cell_type": "code",
   "execution_count": null,
   "metadata": {
    "collapsed": false
   },
   "outputs": [],
   "source": [
    "#Distribuição Normal Padrão\n",
    "plt.hist(z, normed=1, histtype='stepfilled', alpha=0.2)\n",
    "plt.plot(z, stats.norm.pdf(z, loc=0, scale=1), 'r', lw=3, alpha=0.6)\n",
    "plt.title('')\n",
    "plt.xlabel('Valores de z')\n",
    "plt.ylabel('Densidade')"
   ]
  },
  {
   "cell_type": "code",
   "execution_count": null,
   "metadata": {
    "collapsed": false
   },
   "outputs": [],
   "source": [
    "f, (ax1,ax2) = plt.subplots(1,2)\n",
    "\n",
    "ax1.hist(x, normed=1, histtype='stepfilled', alpha=0.2)\n",
    "ax1.plot(x, stats.norm.pdf(x, loc=mu, scale=sigma), lw=3, alpha=0.6)\n",
    "ax1.set_xlabel('Quantidade de lubrificante')\n",
    "ax1.set_ylabel('Densidade')\n",
    "\n",
    "ax2.hist(z, normed=1, histtype='stepfilled', alpha=0.2)\n",
    "ax2.plot(z, stats.norm.pdf(z, loc=0, scale=1), 'r', lw=3, alpha=0.6)\n",
    "ax2.set_xlabel('Valores de z')\n",
    "ax2.set_ylabel('Densidade')\n",
    "\n",
    "plt.tight_layout(1)"
   ]
  },
  {
   "cell_type": "code",
   "execution_count": null,
   "metadata": {
    "collapsed": false
   },
   "outputs": [],
   "source": [
    "#Probabilidade do Exemplo 1 a partir da variável X\n",
    "#P(X > 20)=\n",
    "1 - stats.norm.cdf(20, loc=mu, scale=sigma)"
   ]
  },
  {
   "cell_type": "code",
   "execution_count": null,
   "metadata": {
    "collapsed": false
   },
   "outputs": [],
   "source": [
    "#Probabilidade do Exemplo 1 a partir da variável Z padronizada\n",
    "#P(Z > (20-mu)/sigma)\n",
    "1 - stats.norm.cdf((20-mu)/sigma, loc=0, scale=1)"
   ]
  },
  {
   "cell_type": "code",
   "execution_count": null,
   "metadata": {
    "collapsed": false
   },
   "outputs": [],
   "source": [
    "#Qual x para P(X > x ) = 5%?\n",
    "# A partir da distribuição de X\n",
    "stats.norm.ppf(0.95, loc=mu, scale=sigma)"
   ]
  },
  {
   "cell_type": "code",
   "execution_count": null,
   "metadata": {
    "collapsed": false
   },
   "outputs": [],
   "source": [
    "#Qual x para P(X > x ) = 5%?\n",
    "# A partir da distribuição de Z - despadronização\n",
    "mu+stats.norm.ppf(0.95, loc=0, scale=1)*sigma"
   ]
  },
  {
   "cell_type": "markdown",
   "metadata": {},
   "source": [
    "___\n",
    "## <font color='blue'>Exemplo 2 da Aula 13 </font>"
   ]
  },
  {
   "cell_type": "code",
   "execution_count": null,
   "metadata": {
    "collapsed": true
   },
   "outputs": [],
   "source": [
    "# Valores dos parâmetros de X\n",
    "mu = 100\n",
    "sigma = 35"
   ]
  },
  {
   "cell_type": "code",
   "execution_count": null,
   "metadata": {
    "collapsed": false
   },
   "outputs": [],
   "source": [
    "#Probabilidade do Exemplo 2 a partir da variável X\n",
    "#P(X > 90)=\n",
    "1 - stats.norm.cdf(90, loc=mu, scale=sigma)"
   ]
  },
  {
   "cell_type": "code",
   "execution_count": null,
   "metadata": {
    "collapsed": false
   },
   "outputs": [],
   "source": [
    "#Probabilidade do Exemplo 1 a partir da variável Z padronizada\n",
    "#P(Z > (90-mu)/sigma)\n",
    "1 - stats.norm.cdf((90-mu)/sigma, loc=0, scale=1)"
   ]
  },
  {
   "cell_type": "code",
   "execution_count": null,
   "metadata": {
    "collapsed": false
   },
   "outputs": [],
   "source": [
    "#Qual x para P(X > x ) = 15%?\n",
    "# A partir da distribuição de X\n",
    "stats.norm.ppf(0.85, loc=mu, scale=sigma)"
   ]
  },
  {
   "cell_type": "code",
   "execution_count": null,
   "metadata": {
    "collapsed": false
   },
   "outputs": [],
   "source": [
    "#Qual x para P(X > x ) = 15%?\n",
    "# A partir da distribuição de Z - despadronização\n",
    "mu+stats.norm.ppf(0.85, loc=0, scale=1)*sigma"
   ]
  },
  {
   "cell_type": "markdown",
   "metadata": {},
   "source": [
    "___\n",
    "## <font color='blue'>Exercício 1 da Aula 13 </font>"
   ]
  },
  {
   "cell_type": "code",
   "execution_count": null,
   "metadata": {
    "collapsed": false
   },
   "outputs": [],
   "source": [
    "stats.norm.cdf(115, loc=90, scale=10)"
   ]
  },
  {
   "cell_type": "code",
   "execution_count": null,
   "metadata": {
    "collapsed": false
   },
   "outputs": [],
   "source": [
    "(stats.norm.cdf(100, loc=90, scale=10)-stats.norm.cdf(80, loc=90, scale=10))/stats.norm.cdf(100, loc=90, scale=10)"
   ]
  },
  {
   "cell_type": "code",
   "execution_count": null,
   "metadata": {
    "collapsed": false
   },
   "outputs": [],
   "source": [
    "stats.norm.ppf(0.995, loc=90, scale=10)-90"
   ]
  },
  {
   "cell_type": "code",
   "execution_count": null,
   "metadata": {
    "collapsed": false
   },
   "outputs": [],
   "source": [
    "stats.norm.ppf(0.975, loc=90, scale=10)"
   ]
  },
  {
   "cell_type": "code",
   "execution_count": null,
   "metadata": {
    "collapsed": false
   },
   "outputs": [],
   "source": [
    "stats.norm.ppf(0.05, loc=90, scale=10)"
   ]
  },
  {
   "cell_type": "markdown",
   "metadata": {
    "collapsed": true
   },
   "source": [
    "___\n",
    "## <font color='blue'>Exemplo 3 da Aula 13 </font>"
   ]
  },
  {
   "cell_type": "code",
   "execution_count": null,
   "metadata": {
    "collapsed": false
   },
   "outputs": [],
   "source": [
    "stats.norm.ppf(0.70, loc=6.5, scale=1.6)"
   ]
  },
  {
   "cell_type": "code",
   "execution_count": null,
   "metadata": {
    "collapsed": false
   },
   "outputs": [],
   "source": [
    "stats.norm.ppf(0.20, loc=6.5, scale=1.6)"
   ]
  },
  {
   "cell_type": "code",
   "execution_count": null,
   "metadata": {
    "collapsed": false
   },
   "outputs": [],
   "source": [
    "(1-stats.norm.cdf(7.0, loc=6.5, scale=1.6))*50"
   ]
  },
  {
   "cell_type": "code",
   "execution_count": null,
   "metadata": {
    "collapsed": true
   },
   "outputs": [],
   "source": []
  },
  {
   "cell_type": "code",
   "execution_count": null,
   "metadata": {
    "collapsed": true
   },
   "outputs": [],
   "source": []
  }
 ],
 "metadata": {
  "anaconda-cloud": {},
  "kernelspec": {
   "display_name": "Python [Root]",
   "language": "python",
   "name": "Python [Root]"
  },
  "language_info": {
   "codemirror_mode": {
    "name": "ipython",
    "version": 3
   },
   "file_extension": ".py",
   "mimetype": "text/x-python",
   "name": "python",
   "nbconvert_exporter": "python",
   "pygments_lexer": "ipython3",
   "version": "3.5.2"
  }
 },
 "nbformat": 4,
 "nbformat_minor": 0
}
